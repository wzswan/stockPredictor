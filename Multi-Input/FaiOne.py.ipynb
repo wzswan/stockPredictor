{
 "cells": [
  {
   "cell_type": "code",
   "execution_count": 1,
   "metadata": {},
   "outputs": [
    {
     "name": "stderr",
     "output_type": "stream",
     "text": [
      "Using TensorFlow backend.\n"
     ]
    }
   ],
   "source": [
    "import os\n",
    "import time\n",
    "import warnings\n",
    "import numpy as np\n",
    "import matplotlib.pyplot as plt\n",
    "from math import sqrt\n",
    "from numpy import newaxis, concatenate\n",
    "from keras.layers.core import Dense, Activation, Dropout\n",
    "from keras.layers.recurrent import LSTM\n",
    "from sklearn.metrics import mean_squared_error\n",
    "from pandas import read_csv, DataFrame,concat\n",
    "from sklearn.preprocessing import MinMaxScaler\n",
    "from sklearn.preprocessing import LabelEncoder\n",
    "from sklearn.metrics import mean_squared_error\n",
    "from keras.models import Sequential"
   ]
  },
  {
   "cell_type": "code",
   "execution_count": 2,
   "metadata": {
    "collapsed": true
   },
   "outputs": [],
   "source": [
    "seq_len = 1\n",
    "def series_to_supervised(data, n_in=1, n_out=1, dropnan=True):\n",
    "    n_vars = 1 if type(data) is list else data.shape[1]\n",
    "    df = DataFrame(data)\n",
    "    cols, names = list(),list()\n",
    "    for i in range(n_in, 0 ,-1):\n",
    "        cols.append(df.shift(i))\n",
    "        names += [('var%d(t-%d)' % (j+1,i)) for j in range(n_vars)]\n",
    "    for i in range(0, n_out):\n",
    "        cols.append(df.shift(-i))\n",
    "        if i == 0:\n",
    "            names += [('var%d(t)' % (j+1)) for j in range(n_vars)]\n",
    "        else:\n",
    "            names += [('var%d(t+%d)' % (j+1, i)) for j in range(n_vars)]\n",
    "    agg = concat(cols, axis =1)\n",
    "    agg.columns = names\n",
    "    if dropnan:\n",
    "        agg.dropna(inplace = True)\n",
    "    return agg\n",
    "\n",
    "def plot_results(predicted_data, true_data):\n",
    "    fig = plt.figure(facecolor='white')\n",
    "    ax = fig.add_subplot(111)\n",
    "    ax.plot(true_data, label='True Data')\n",
    "    plt.plot(predicted_data, label='Prediction')\n",
    "    plt.legend()\n",
    "    plt.show()\n",
    "def predict_sequences_full(model, data, window_size):\n",
    "    #Shift the window by 1 new prediction each time, re-run predictions on new window\n",
    "    curr_frame = data[0]\n",
    "    predicted = []\n",
    "    for i in range(len(data)):\n",
    "        predicted.append(model.predict(curr_frame[newaxis,:,:])[0,0])\n",
    "        curr_frame = curr_frame[1:]\n",
    "        curr_frame = np.insert(curr_frame, window_size-1,predicted[-1], axis=0)\n",
    "    return predicted"
   ]
  },
  {
   "cell_type": "code",
   "execution_count": 3,
   "metadata": {},
   "outputs": [
    {
     "name": "stdout",
     "output_type": "stream",
     "text": [
      "   var1(t-1)   var1(t)\n",
      "1   0.182609  0.191304\n",
      "2   0.191304  0.182609\n",
      "3   0.182609  0.191304\n",
      "4   0.191304  0.182609\n",
      "5   0.182609  0.104348\n",
      "   var1(t-1)   var1(t)\n",
      "1   0.157798  0.161468\n",
      "2   0.161468  0.150459\n",
      "3   0.150459  0.177982\n",
      "4   0.177982  0.166972\n",
      "5   0.166972  0.179817\n"
     ]
    }
   ],
   "source": [
    "dataset = read_csv('fai1.csv', header = 0, index_col=0)\n",
    "dataset_stock = read_csv('stock1.csv', header = 0, index_col=0)\n",
    "values = dataset.values\n",
    "values_stock = dataset_stock.values\n",
    "encoder = LabelEncoder()\n",
    "values[:,0] = encoder.fit_transform(values[:,0])\n",
    "values_stock[:,0] = encoder.fit_transform(values_stock[:,0])\n",
    "values = values.astype('float32')\n",
    "values_stock = values_stock.astype('float32')\n",
    "scaler = MinMaxScaler(feature_range=(0, 1))\n",
    "scaled = scaler.fit_transform(values)\n",
    "scaled_stock = scaler.fit_transform(values_stock)\n",
    "reframed = series_to_supervised(scaled, 1, 1)\n",
    "reframed_stock = series_to_supervised(scaled_stock, 1, 1)\n",
    "print(reframed.head())\n",
    "print(reframed_stock.head())"
   ]
  },
  {
   "cell_type": "code",
   "execution_count": 63,
   "metadata": {},
   "outputs": [
    {
     "name": "stdout",
     "output_type": "stream",
     "text": [
      "(205, 1, 1) (205,) (5, 1, 1) (5,)\n",
      "(205, 1, 1) (205,) (5, 1, 1) (5,)\n"
     ]
    }
   ],
   "source": [
    "values = reframed.values\n",
    "values_stock = reframed_stock.values\n",
    "n_train_hours = 205\n",
    "n_end = n_train_hours + 5\n",
    "train = values[:n_train_hours, :]\n",
    "train_stock = values_stock[:n_train_hours,:]\n",
    "test = values[n_train_hours:n_end :]\n",
    "test_stock = values_stock[n_train_hours:n_end:]\n",
    "train_X, train_y = train[:,:-1], train[:, -1]\n",
    "train_stock_X, train_stock_y = train_stock[:,:-1], train_stock[:, -1]\n",
    "test_X, test_y = test[:, :-1], test[:,-1]\n",
    "test_stock_X, test_stock_y = test_stock[:, :-1], test_stock[:,-1] \n",
    "train_X = train_X.reshape((train_X.shape[0], 1, train_X.shape[1]))\n",
    "train_stock_X = train_stock_X.reshape((train_stock_X.shape[0], 1, train_stock_X.shape[1]))\n",
    "test_X = test_X.reshape((test_X.shape[0], 1, test_X.shape[1]))\n",
    "test_stock_X = test_stock_X.reshape((test_stock_X.shape[0],1, test_stock_X.shape[1]))\n",
    "print(train_X.shape, train_y.shape, test_X.shape, test_y.shape)\n",
    "print(train_stock_X.shape, train_stock_y.shape, test_stock_X.shape, test_stock_y.shape)"
   ]
  },
  {
   "cell_type": "code",
   "execution_count": 64,
   "metadata": {},
   "outputs": [
    {
     "name": "stdout",
     "output_type": "stream",
     "text": [
      "> Compilation Time : 0.02219986915588379\n",
      "Train on 205 samples, validate on 5 samples\n",
      "Epoch 1/50\n",
      "2s - loss: 0.0221 - val_loss: 0.0266\n",
      "Epoch 2/50\n",
      "0s - loss: 0.0162 - val_loss: 0.0122\n",
      "Epoch 3/50\n",
      "0s - loss: 0.0135 - val_loss: 0.0056\n",
      "Epoch 4/50\n",
      "0s - loss: 0.0115 - val_loss: 0.0024\n",
      "Epoch 5/50\n",
      "0s - loss: 0.0126 - val_loss: 0.0021\n",
      "Epoch 6/50\n",
      "0s - loss: 0.0110 - val_loss: 0.0022\n",
      "Epoch 7/50\n",
      "1s - loss: 0.0121 - val_loss: 0.0020\n",
      "Epoch 8/50\n",
      "1s - loss: 0.0116 - val_loss: 0.0027\n",
      "Epoch 9/50\n",
      "0s - loss: 0.0116 - val_loss: 0.0018\n",
      "Epoch 10/50\n",
      "0s - loss: 0.0109 - val_loss: 0.0032\n",
      "Epoch 11/50\n",
      "0s - loss: 0.0119 - val_loss: 0.0017\n",
      "Epoch 12/50\n",
      "0s - loss: 0.0120 - val_loss: 0.0019\n",
      "Epoch 13/50\n",
      "0s - loss: 0.0122 - val_loss: 0.0018\n",
      "Epoch 14/50\n",
      "0s - loss: 0.0108 - val_loss: 0.0019\n",
      "Epoch 15/50\n",
      "0s - loss: 0.0109 - val_loss: 0.0031\n",
      "Epoch 16/50\n",
      "1s - loss: 0.0101 - val_loss: 0.0029\n",
      "Epoch 17/50\n",
      "1s - loss: 0.0113 - val_loss: 0.0021\n",
      "Epoch 18/50\n",
      "1s - loss: 0.0117 - val_loss: 0.0018\n",
      "Epoch 19/50\n",
      "1s - loss: 0.0111 - val_loss: 0.0019\n",
      "Epoch 20/50\n",
      "1s - loss: 0.0111 - val_loss: 0.0024\n",
      "Epoch 21/50\n",
      "1s - loss: 0.0122 - val_loss: 0.0019\n",
      "Epoch 22/50\n",
      "1s - loss: 0.0128 - val_loss: 0.0042\n",
      "Epoch 23/50\n",
      "1s - loss: 0.0106 - val_loss: 0.0026\n",
      "Epoch 24/50\n",
      "1s - loss: 0.0108 - val_loss: 0.0018\n",
      "Epoch 25/50\n",
      "1s - loss: 0.0114 - val_loss: 0.0017\n",
      "Epoch 26/50\n",
      "1s - loss: 0.0106 - val_loss: 0.0018\n",
      "Epoch 27/50\n",
      "1s - loss: 0.0113 - val_loss: 0.0022\n",
      "Epoch 28/50\n",
      "1s - loss: 0.0121 - val_loss: 0.0018\n",
      "Epoch 29/50\n",
      "1s - loss: 0.0111 - val_loss: 0.0024\n",
      "Epoch 30/50\n",
      "1s - loss: 0.0128 - val_loss: 0.0022\n",
      "Epoch 31/50\n",
      "1s - loss: 0.0099 - val_loss: 0.0018\n",
      "Epoch 32/50\n",
      "1s - loss: 0.0110 - val_loss: 0.0026\n",
      "Epoch 33/50\n",
      "1s - loss: 0.0109 - val_loss: 0.0020\n",
      "Epoch 34/50\n",
      "1s - loss: 0.0111 - val_loss: 0.0017\n",
      "Epoch 35/50\n",
      "1s - loss: 0.0111 - val_loss: 0.0017\n",
      "Epoch 36/50\n",
      "1s - loss: 0.0116 - val_loss: 0.0023\n",
      "Epoch 37/50\n",
      "1s - loss: 0.0106 - val_loss: 0.0029\n",
      "Epoch 38/50\n",
      "1s - loss: 0.0109 - val_loss: 0.0022\n",
      "Epoch 39/50\n",
      "1s - loss: 0.0102 - val_loss: 0.0025\n",
      "Epoch 40/50\n",
      "1s - loss: 0.0112 - val_loss: 0.0020\n",
      "Epoch 41/50\n",
      "1s - loss: 0.0111 - val_loss: 0.0032\n",
      "Epoch 42/50\n",
      "1s - loss: 0.0118 - val_loss: 0.0023\n",
      "Epoch 43/50\n",
      "1s - loss: 0.0118 - val_loss: 0.0018\n",
      "Epoch 44/50\n",
      "1s - loss: 0.0119 - val_loss: 0.0019\n",
      "Epoch 45/50\n",
      "1s - loss: 0.0111 - val_loss: 0.0023\n",
      "Epoch 46/50\n",
      "1s - loss: 0.0114 - val_loss: 0.0028\n",
      "Epoch 47/50\n",
      "1s - loss: 0.0107 - val_loss: 0.0023\n",
      "Epoch 48/50\n",
      "1s - loss: 0.0112 - val_loss: 0.0018\n",
      "Epoch 49/50\n",
      "1s - loss: 0.0116 - val_loss: 0.0031\n",
      "Epoch 50/50\n",
      "1s - loss: 0.0105 - val_loss: 0.0020\n"
     ]
    }
   ],
   "source": [
    "model = Sequential()\n",
    "model.add(LSTM(20, input_shape=(train_X.shape[1], train_X.shape[2]),return_sequences=True))\n",
    "model.add(Dropout(0.2))\n",
    "model.add(LSTM(100,return_sequences=False))\n",
    "model.add(Dropout(0.2))\n",
    "model.add(Dense(1))\n",
    "model.add(Activation(\"linear\"))\n",
    "start = time.time()\n",
    "model.add(Dense(1))\n",
    "model.compile(loss='mse', optimizer='rmsprop')\n",
    "print(\"> Compilation Time :\", time.time() - start)\n",
    "history = model.fit(train_X, train_y, epochs=50, batch_size=1, validation_data=(test_X, test_y), verbose=2, shuffle=False)\n",
    "#print (seq_len)\n",
    "predicted = predict_sequences_full(model, test_X, seq_len)"
   ]
  },
  {
   "cell_type": "code",
   "execution_count": 65,
   "metadata": {
    "scrolled": false
   },
   "outputs": [
    {
     "name": "stdout",
     "output_type": "stream",
     "text": [
      "[0.64289069, 0.61356187, 0.58939707, 0.56959844, 0.55345559]\n"
     ]
    },
    {
     "data": {
      "image/png": "[encoded data removed]",
      "text/plain": [
       "<matplotlib.figure.Figure at 0x7f2f388c4fd0>"
      ]
     },
     "metadata": {},
     "output_type": "display_data"
    }
   ],
   "source": [
    "print (predicted)\n",
    "l = len(predicted)\n",
    "#print (l)\n",
    "plt.plot(history.history['loss'], label='train')\n",
    "plt.plot(history.history['val_loss'], label='test')\n",
    "plt.legend()\n",
    "plt.show()"
   ]
  },
  {
   "cell_type": "code",
   "execution_count": 66,
   "metadata": {},
   "outputs": [
    {
     "name": "stdout",
     "output_type": "stream",
     "text": [
      "[ 0.64289069  0.61356187  0.58939707  0.56959844  0.55345559] [ 0.21651377  0.21834862  0.18165138  0.22018349  0.23853211]\n",
      "MSE: 0.145103\n"
     ]
    },
    {
     "data": {
      "image/png": "[encoded data removed]",
      "text/plain": [
       "<matplotlib.figure.Figure at 0x7f2f38923860>"
      ]
     },
     "metadata": {},
     "output_type": "display_data"
    }
   ],
   "source": [
    "predicted = np.reshape(predicted, (l,))\n",
    "\n",
    "print(predicted, test_stock_y)\n",
    "\n",
    "score = mean_squared_error(predicted, test_stock_y)\n",
    "    \n",
    "print(\"MSE: %f\" % score)\n",
    "plot_results(predicted, test_stock_y)"
   ]
  },
  {
   "cell_type": "code",
   "execution_count": null,
   "metadata": {
    "collapsed": true
   },
   "outputs": [],
   "source": []
  }
 ],
 "metadata": {
  "kernelspec": {
   "display_name": "Python 3",
   "language": "python",
   "name": "python3"
  },
  "language_info": {
   "codemirror_mode": {
    "name": "ipython",
    "version": 3
   },
   "file_extension": ".py",
   "mimetype": "text/x-python",
   "name": "python",
   "nbconvert_exporter": "python",
   "pygments_lexer": "ipython3",
   "version": "3.5.2"
  }
 },
 "nbformat": 4,
 "nbformat_minor": 2
}
