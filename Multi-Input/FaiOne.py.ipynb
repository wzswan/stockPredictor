{
 "cells": [
  {
   "cell_type": "code",
   "execution_count": 1,
   "metadata": {},
   "outputs": [
    {
     "name": "stderr",
     "output_type": "stream",
     "text": [
      "Using TensorFlow backend.\n"
     ]
    }
   ],
   "source": [
    "import os\n",
    "import time\n",
    "import warnings\n",
    "import numpy as np\n",
    "import matplotlib.pyplot as plt\n",
    "from math import sqrt\n",
    "from numpy import newaxis, concatenate\n",
    "from keras.layers.core import Dense, Activation, Dropout\n",
    "from keras.layers.recurrent import LSTM\n",
    "from sklearn.metrics import mean_squared_error\n",
    "from pandas import read_csv, DataFrame,concat\n",
    "from sklearn.preprocessing import MinMaxScaler\n",
    "from sklearn.preprocessing import LabelEncoder\n",
    "from sklearn.metrics import mean_squared_error\n",
    "from keras.models import Sequential"
   ]
  },
  {
   "cell_type": "code",
   "execution_count": 2,
   "metadata": {
    "collapsed": true
   },
   "outputs": [],
   "source": [
    "seq_len = 1\n",
    "def series_to_supervised(data, n_in=1, n_out=1, dropnan=True):\n",
    "    n_vars = 1 if type(data) is list else data.shape[1]\n",
    "    df = DataFrame(data)\n",
    "    cols, names = list(),list()\n",
    "    for i in range(n_in, 0 ,-1):\n",
    "        cols.append(df.shift(i))\n",
    "        names += [('var%d(t-%d)' % (j+1,i)) for j in range(n_vars)]\n",
    "    for i in range(0, n_out):\n",
    "        cols.append(df.shift(-i))\n",
    "        if i == 0:\n",
    "            names += [('var%d(t)' % (j+1)) for j in range(n_vars)]\n",
    "        else:\n",
    "            names += [('var%d(t+%d)' % (j+1, i)) for j in range(n_vars)]\n",
    "    agg = concat(cols, axis =1)\n",
    "    agg.columns = names\n",
    "    if dropnan:\n",
    "        agg.dropna(inplace = True)\n",
    "    return agg\n",
    "\n",
    "def plot_results(predicted_data, true_data):\n",
    "    fig = plt.figure(facecolor='white')\n",
    "    ax = fig.add_subplot(111)\n",
    "    ax.plot(true_data, label='True Data')\n",
    "    plt.plot(predicted_data, label='Prediction')\n",
    "    plt.legend()\n",
    "    plt.show()\n",
    "def predict_sequences_full(model, data, window_size):\n",
    "    #Shift the window by 1 new prediction each time, re-run predictions on new window\n",
    "    curr_frame = data[0]\n",
    "    predicted = []\n",
    "    for i in range(len(data)):\n",
    "        predicted.append(model.predict(curr_frame[newaxis,:,:])[0,0])\n",
    "        curr_frame = curr_frame[1:]\n",
    "        curr_frame = np.insert(curr_frame, window_size-1,predicted[-1], axis=0)\n",
    "    return predicted"
   ]
  },
  {
   "cell_type": "code",
   "execution_count": 4,
   "metadata": {},
   "outputs": [
    {
     "name": "stdout",
     "output_type": "stream",
     "text": [
      "   var1(t-1)   var1(t)\n",
      "1   0.182609  0.191304\n",
      "2   0.191304  0.182609\n",
      "3   0.182609  0.191304\n",
      "4   0.191304  0.182609\n",
      "5   0.182609  0.104348\n",
      "   var1(t-1)   var1(t)\n",
      "1   0.157798  0.161468\n",
      "2   0.161468  0.150459\n",
      "3   0.150459  0.177982\n",
      "4   0.177982  0.166972\n",
      "5   0.166972  0.179817\n"
     ]
    }
   ],
   "source": [
    "dataset = read_csv('fai1.csv', header = 0, index_col=0)\n",
    "dataset_stock = read_csv('stock1.csv', header = 0, index_col=0)\n",
    "values = dataset.values\n",
    "values_stock = dataset_stock.values\n",
    "encoder = LabelEncoder()\n",
    "values[:,0] = encoder.fit_transform(values[:,0])\n",
    "values_stock[:,0] = encoder.fit_transform(values_stock[:,0])\n",
    "values = values.astype('float32')\n",
    "values_stock = values_stock.astype('float32')\n",
    "scaler = MinMaxScaler(feature_range=(0, 1))\n",
    "scaled = scaler.fit_transform(values)\n",
    "scaled_stock = scaler.fit_transform(values_stock)\n",
    "reframed = series_to_supervised(scaled, 1, 1)\n",
    "reframed_stock = series_to_supervised(scaled_stock, 1, 1)\n",
    "print(reframed.head())\n",
    "print(reframed_stock.head())"
   ]
  },
  {
   "cell_type": "code",
   "execution_count": 5,
   "metadata": {},
   "outputs": [
    {
     "name": "stdout",
     "output_type": "stream",
     "text": [
      "(50, 1, 1) (50,) (5, 1, 1) (5,)\n",
      "(50, 1, 1) (50,) (5, 1, 1) (5,)\n"
     ]
    }
   ],
   "source": [
    "values = reframed.values\n",
    "values_stock = reframed_stock.values\n",
    "n_train_hours = 50\n",
    "n_end = n_train_hours + 5\n",
    "train = values[:n_train_hours, :]\n",
    "train_stock = values_stock[:n_train_hours,:]\n",
    "test = values[n_train_hours:n_end :]\n",
    "test_stock = values_stock[n_train_hours:n_end:]\n",
    "train_X, train_y = train[:,:-1], train[:, -1]\n",
    "train_stock_X, train_stock_y = train_stock[:,:-1], train_stock[:, -1]\n",
    "test_X, test_y = test[:, :-1], test[:,-1]\n",
    "test_stock_X, test_stock_y = test_stock[:, :-1], test_stock[:,-1] \n",
    "train_X = train_X.reshape((train_X.shape[0], 1, train_X.shape[1]))\n",
    "train_stock_X = train_stock_X.reshape((train_stock_X.shape[0], 1, train_stock_X.shape[1]))\n",
    "test_X = test_X.reshape((test_X.shape[0], 1, test_X.shape[1]))\n",
    "test_stock_X = test_stock_X.reshape((test_stock_X.shape[0],1, test_stock_X.shape[1]))\n",
    "print(train_X.shape, train_y.shape, test_X.shape, test_y.shape)\n",
    "print(train_stock_X.shape, train_stock_y.shape, test_stock_X.shape, test_stock_y.shape)"
   ]
  },
  {
   "cell_type": "code",
   "execution_count": 14,
   "metadata": {},
   "outputs": [
    {
     "name": "stdout",
     "output_type": "stream",
     "text": [
      "> Compilation Time : 0.022899627685546875\n",
      "Train on 50 samples, validate on 5 samples\n",
      "Epoch 1/80\n",
      "0s - loss: 0.0249 - val_loss: 0.0095\n",
      "Epoch 2/80\n",
      "0s - loss: 0.0160 - val_loss: 0.0077\n",
      "Epoch 3/80\n",
      "0s - loss: 0.0133 - val_loss: 0.0069\n",
      "Epoch 4/80\n",
      "0s - loss: 0.0129 - val_loss: 0.0061\n",
      "Epoch 5/80\n",
      "0s - loss: 0.0123 - val_loss: 0.0048\n",
      "Epoch 6/80\n",
      "0s - loss: 0.0110 - val_loss: 0.0048\n",
      "Epoch 7/80\n",
      "0s - loss: 0.0111 - val_loss: 0.0043\n",
      "Epoch 8/80\n",
      "0s - loss: 0.0094 - val_loss: 0.0037\n",
      "Epoch 9/80\n",
      "0s - loss: 0.0096 - val_loss: 0.0035\n",
      "Epoch 10/80\n",
      "0s - loss: 0.0088 - val_loss: 0.0034\n",
      "Epoch 11/80\n",
      "0s - loss: 0.0096 - val_loss: 0.0033\n",
      "Epoch 12/80\n",
      "0s - loss: 0.0090 - val_loss: 0.0033\n",
      "Epoch 13/80\n",
      "0s - loss: 0.0093 - val_loss: 0.0033\n",
      "Epoch 14/80\n",
      "0s - loss: 0.0084 - val_loss: 0.0033\n",
      "Epoch 15/80\n",
      "0s - loss: 0.0090 - val_loss: 0.0033\n",
      "Epoch 16/80\n",
      "0s - loss: 0.0096 - val_loss: 0.0034\n",
      "Epoch 17/80\n",
      "0s - loss: 0.0086 - val_loss: 0.0033\n",
      "Epoch 18/80\n",
      "0s - loss: 0.0085 - val_loss: 0.0033\n",
      "Epoch 19/80\n",
      "0s - loss: 0.0096 - val_loss: 0.0033\n",
      "Epoch 20/80\n",
      "0s - loss: 0.0083 - val_loss: 0.0035\n",
      "Epoch 21/80\n",
      "0s - loss: 0.0085 - val_loss: 0.0035\n",
      "Epoch 22/80\n",
      "0s - loss: 0.0090 - val_loss: 0.0034\n",
      "Epoch 23/80\n",
      "0s - loss: 0.0084 - val_loss: 0.0033\n",
      "Epoch 24/80\n",
      "0s - loss: 0.0080 - val_loss: 0.0033\n",
      "Epoch 25/80\n",
      "0s - loss: 0.0085 - val_loss: 0.0034\n",
      "Epoch 26/80\n",
      "0s - loss: 0.0091 - val_loss: 0.0035\n",
      "Epoch 27/80\n",
      "0s - loss: 0.0086 - val_loss: 0.0040\n",
      "Epoch 28/80\n",
      "0s - loss: 0.0069 - val_loss: 0.0033\n",
      "Epoch 29/80\n",
      "0s - loss: 0.0092 - val_loss: 0.0034\n",
      "Epoch 30/80\n",
      "0s - loss: 0.0087 - val_loss: 0.0033\n",
      "Epoch 31/80\n",
      "0s - loss: 0.0088 - val_loss: 0.0033\n",
      "Epoch 32/80\n",
      "0s - loss: 0.0083 - val_loss: 0.0033\n",
      "Epoch 33/80\n",
      "0s - loss: 0.0095 - val_loss: 0.0033\n",
      "Epoch 34/80\n",
      "0s - loss: 0.0101 - val_loss: 0.0033\n",
      "Epoch 35/80\n",
      "0s - loss: 0.0080 - val_loss: 0.0034\n",
      "Epoch 36/80\n",
      "0s - loss: 0.0088 - val_loss: 0.0033\n",
      "Epoch 37/80\n",
      "0s - loss: 0.0081 - val_loss: 0.0033\n",
      "Epoch 38/80\n",
      "0s - loss: 0.0092 - val_loss: 0.0034\n",
      "Epoch 39/80\n",
      "0s - loss: 0.0089 - val_loss: 0.0035\n",
      "Epoch 40/80\n",
      "0s - loss: 0.0098 - val_loss: 0.0036\n",
      "Epoch 41/80\n",
      "0s - loss: 0.0072 - val_loss: 0.0033\n",
      "Epoch 42/80\n",
      "0s - loss: 0.0079 - val_loss: 0.0033\n",
      "Epoch 43/80\n",
      "0s - loss: 0.0076 - val_loss: 0.0034\n",
      "Epoch 44/80\n",
      "0s - loss: 0.0077 - val_loss: 0.0033\n",
      "Epoch 45/80\n",
      "0s - loss: 0.0090 - val_loss: 0.0033\n",
      "Epoch 46/80\n",
      "0s - loss: 0.0097 - val_loss: 0.0035\n",
      "Epoch 47/80\n",
      "0s - loss: 0.0089 - val_loss: 0.0033\n",
      "Epoch 48/80\n",
      "0s - loss: 0.0094 - val_loss: 0.0033\n",
      "Epoch 49/80\n",
      "0s - loss: 0.0083 - val_loss: 0.0033\n",
      "Epoch 50/80\n",
      "0s - loss: 0.0083 - val_loss: 0.0036\n",
      "Epoch 51/80\n",
      "0s - loss: 0.0094 - val_loss: 0.0033\n",
      "Epoch 52/80\n",
      "0s - loss: 0.0088 - val_loss: 0.0034\n",
      "Epoch 53/80\n",
      "0s - loss: 0.0084 - val_loss: 0.0034\n",
      "Epoch 54/80\n",
      "0s - loss: 0.0104 - val_loss: 0.0033\n",
      "Epoch 55/80\n",
      "0s - loss: 0.0082 - val_loss: 0.0035\n",
      "Epoch 56/80\n",
      "0s - loss: 0.0094 - val_loss: 0.0033\n",
      "Epoch 57/80\n",
      "0s - loss: 0.0095 - val_loss: 0.0033\n",
      "Epoch 58/80\n",
      "0s - loss: 0.0085 - val_loss: 0.0033\n",
      "Epoch 59/80\n",
      "0s - loss: 0.0085 - val_loss: 0.0035\n",
      "Epoch 60/80\n",
      "0s - loss: 0.0097 - val_loss: 0.0035\n",
      "Epoch 61/80\n",
      "0s - loss: 0.0077 - val_loss: 0.0034\n",
      "Epoch 62/80\n",
      "0s - loss: 0.0093 - val_loss: 0.0034\n",
      "Epoch 63/80\n",
      "0s - loss: 0.0082 - val_loss: 0.0033\n",
      "Epoch 64/80\n",
      "0s - loss: 0.0088 - val_loss: 0.0033\n",
      "Epoch 65/80\n",
      "0s - loss: 0.0094 - val_loss: 0.0033\n",
      "Epoch 66/80\n",
      "0s - loss: 0.0087 - val_loss: 0.0033\n",
      "Epoch 67/80\n",
      "0s - loss: 0.0088 - val_loss: 0.0033\n",
      "Epoch 68/80\n",
      "0s - loss: 0.0079 - val_loss: 0.0035\n",
      "Epoch 69/80\n",
      "0s - loss: 0.0089 - val_loss: 0.0033\n",
      "Epoch 70/80\n",
      "0s - loss: 0.0074 - val_loss: 0.0035\n",
      "Epoch 71/80\n",
      "0s - loss: 0.0089 - val_loss: 0.0034\n",
      "Epoch 72/80\n",
      "0s - loss: 0.0077 - val_loss: 0.0034\n",
      "Epoch 73/80\n",
      "0s - loss: 0.0085 - val_loss: 0.0033\n",
      "Epoch 74/80\n",
      "0s - loss: 0.0075 - val_loss: 0.0034\n",
      "Epoch 75/80\n",
      "0s - loss: 0.0071 - val_loss: 0.0034\n",
      "Epoch 76/80\n",
      "0s - loss: 0.0081 - val_loss: 0.0033\n",
      "Epoch 77/80\n",
      "0s - loss: 0.0086 - val_loss: 0.0033\n",
      "Epoch 78/80\n",
      "0s - loss: 0.0088 - val_loss: 0.0033\n",
      "Epoch 79/80\n",
      "0s - loss: 0.0092 - val_loss: 0.0034\n",
      "Epoch 80/80\n",
      "0s - loss: 0.0080 - val_loss: 0.0033\n"
     ]
    }
   ],
   "source": [
    "model = Sequential()\n",
    "model.add(LSTM(20, input_shape=(train_X.shape[1], train_X.shape[2]),return_sequences=True))\n",
    "model.add(Dropout(0.2))\n",
    "model.add(LSTM(100,return_sequences=False))\n",
    "model.add(Dropout(0.2))\n",
    "model.add(Dense(1))\n",
    "model.add(Activation(\"linear\"))\n",
    "start = time.time()\n",
    "model.add(Dense(1))\n",
    "model.compile(loss='mse', optimizer='rmsprop')\n",
    "print(\"> Compilation Time :\", time.time() - start)\n",
    "history = model.fit(train_X, train_y, epochs=80, batch_size=1, validation_data=(test_X, test_y), verbose=2, shuffle=False)\n",
    "#print (seq_len)\n",
    "predicted = predict_sequences_full(model, test_X, seq_len)"
   ]
  },
  {
   "cell_type": "code",
   "execution_count": 15,
   "metadata": {},
   "outputs": [
    {
     "name": "stdout",
     "output_type": "stream",
     "text": [
      "[0.34319824, 0.31996956, 0.30262536, 0.28980079, 0.28038743]\n",
      "5\n"
     ]
    },
    {
     "data": {
      "image/png": "[encoded data removed]",
      "text/plain": [
       "<matplotlib.figure.Figure at 0x7fa2f357cf60>"
      ]
     },
     "metadata": {},
     "output_type": "display_data"
    }
   ],
   "source": [
    "print (predicted)\n",
    "l = len(predicted)\n",
    "print (l)\n",
    "plt.plot(history.history['loss'], label='train')\n",
    "plt.plot(history.history['val_loss'], label='test')\n",
    "plt.legend()\n",
    "plt.show()"
   ]
  },
  {
   "cell_type": "code",
   "execution_count": 17,
   "metadata": {},
   "outputs": [
    {
     "name": "stdout",
     "output_type": "stream",
     "text": [
      "[ 0.34319824  0.31996956  0.30262536  0.28980079  0.28038743] [ 0.06238532  0.03853211  0.02018349  0.0146789   0.03669725]\n",
      "MSE: 0.074583\n"
     ]
    },
    {
     "data": {
      "image/png": "[encoded data removed]",
      "text/plain": [
       "<matplotlib.figure.Figure at 0x7fa2f1d60438>"
      ]
     },
     "metadata": {},
     "output_type": "display_data"
    }
   ],
   "source": [
    "predicted = np.reshape(predicted, (l,))\n",
    "\n",
    "print(predicted, test_stock_y)\n",
    "\n",
    "score = mean_squared_error(predicted, test_stock_y)\n",
    "    \n",
    "print(\"MSE: %f\" % score)\n",
    "plot_results(predicted, test_stock_y)"
   ]
  },
  {
   "cell_type": "code",
   "execution_count": null,
   "metadata": {
    "collapsed": true
   },
   "outputs": [],
   "source": []
  }
 ],
 "metadata": {
  "kernelspec": {
   "display_name": "Python 3",
   "language": "python",
   "name": "python3"
  },
  "language_info": {
   "codemirror_mode": {
    "name": "ipython",
    "version": 3
   },
   "file_extension": ".py",
   "mimetype": "text/x-python",
   "name": "python",
   "nbconvert_exporter": "python",
   "pygments_lexer": "ipython3",
   "version": "3.5.2"
  }
 },
 "nbformat": 4,
 "nbformat_minor": 2
}
