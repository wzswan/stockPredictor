{
 "cells": [
  {
   "cell_type": "code",
   "execution_count": 1,
   "metadata": {},
   "outputs": [
    {
     "name": "stderr",
     "output_type": "stream",
     "text": [
      "Using TensorFlow backend.\n"
     ]
    }
   ],
   "source": [
    "import os\n",
    "import warnings\n",
    "import keras\n",
    "import time\n",
    "import matplotlib.pyplot as plt\n",
    "import numpy as np\n",
    "import pandas as pd\n",
    "from numpy import newaxis\n",
    "from keras.layers.core import  Activation, Dropout\n",
    "from keras.models import Model\n",
    "from keras.layers import Input, Embedding,LSTM, Dense,TimeDistributed\n",
    "from keras import metrics\n",
    "from sklearn.metrics import mean_squared_error\n",
    "from math import sqrt\n",
    "from numpy import concatenate\n",
    "\n",
    "from pandas import read_csv\n",
    "from pandas import DataFrame\n",
    "from pandas import concat\n",
    "from sklearn.preprocessing import MinMaxScaler\n",
    "from sklearn.preprocessing import LabelEncoder\n",
    "\n"
   ]
  },
  {
   "cell_type": "code",
   "execution_count": 2,
   "metadata": {
    "collapsed": true
   },
   "outputs": [],
   "source": [
    "seq_len = 1\n",
    "def series_to_supervised(data, n_in, n_out, dropnan=True):\n",
    "    n_vars = 1 if type(data) is list else data.shape[1]\n",
    "    df = DataFrame(data)\n",
    "    cols, names = list(),list()\n",
    "    for i in range(n_in, 0 ,-1):\n",
    "        cols.append(df.shift(i))\n",
    "        names += [('var%d(t-%d)' % (j+1,i)) for j in range(n_vars)]\n",
    "    for i in range(0, n_out):\n",
    "        cols.append(df.shift(-i))\n",
    "        if i == 0:\n",
    "            names += [('var%d(t)' % (j+1)) for j in range(n_vars)]\n",
    "        else:\n",
    "            names += [('var%d(t+%d)' % (j+1, i)) for j in range(n_vars)]\n",
    "    agg = concat(cols, axis =1)\n",
    "    agg.columns = names\n",
    "    if dropnan:\n",
    "        agg.dropna(inplace = True)\n",
    "    return agg\n",
    "\n",
    "def plot_results(predicted_data, true_data):\n",
    "    fig = plt.figure(facecolor='white')\n",
    "    ax = fig.add_subplot(111)\n",
    "    ax.plot(true_data, label='True Data')\n",
    "    plt.plot(predicted_data, label='Prediction')\n",
    "    plt.legend()\n",
    "    plt.show()\n",
    "def predict_sequences_full(model, data, window_size):\n",
    "    \n",
    "    curr_frame = data[0]\n",
    "    predicted = []\n",
    "    for i in range(len(data)):\n",
    "        predicted.append(model.predict(curr_frame[newaxis,:,:])[0,0])\n",
    "        curr_frame = curr_frame[1:]\n",
    "        curr_frame = np.insert(curr_frame, window_size-1,predicted[-1], axis=0)\n",
    "    return predicted"
   ]
  },
  {
   "cell_type": "code",
   "execution_count": 3,
   "metadata": {},
   "outputs": [
    {
     "name": "stdout",
     "output_type": "stream",
     "text": [
      "   var1(t-1)   var1(t)\n",
      "1   0.488038  0.435407\n",
      "2   0.435407  0.617225\n",
      "3   0.617225  0.401914\n",
      "4   0.401914  0.559809\n",
      "5   0.559809  0.397129\n"
     ]
    }
   ],
   "source": [
    "dataset_stock = read_csv('gap1.csv', header = 0, index_col=0)\n",
    "values_stock = dataset_stock.values\n",
    "encoder = LabelEncoder()\n",
    "values_stock[:,0] = encoder.fit_transform(values_stock[:,0])\n",
    "values_stock = values_stock.astype('float32')\n",
    "scaler = MinMaxScaler(feature_range=(0, 1))\n",
    "scaled_stock = scaler.fit_transform(values_stock)\n",
    "reframed_stock = series_to_supervised(scaled_stock, 1, 1)\n",
    "print(reframed_stock.head())"
   ]
  },
  {
   "cell_type": "code",
   "execution_count": 7,
   "metadata": {},
   "outputs": [
    {
     "name": "stdout",
     "output_type": "stream",
     "text": [
      "   var1(t-1)   var1(t)\n",
      "1   0.182609  0.191304\n",
      "2   0.191304  0.182609\n",
      "3   0.182609  0.191304\n",
      "4   0.191304  0.182609\n",
      "5   0.182609  0.104348\n"
     ]
    }
   ],
   "source": [
    "dataset_gap = read_csv('fai1.csv', header = 0, index_col=0)\n",
    "values_gap = dataset_gap.values\n",
    "encoder = LabelEncoder()\n",
    "values_gap[:,0] = encoder.fit_transform(values_gap[:,0])\n",
    "values_gap = values_gap.astype('float32')\n",
    "scaler = MinMaxScaler(feature_range=(0, 1))\n",
    "scaled_gap = scaler.fit_transform(values_gap)\n",
    "reframed_gap = series_to_supervised(scaled_gap, 1, 1)\n",
    "print(reframed_gap.head())\n"
   ]
  },
  {
   "cell_type": "code",
   "execution_count": 6,
   "metadata": {},
   "outputs": [
    {
     "name": "stdout",
     "output_type": "stream",
     "text": [
      "   var1(t-1)   var1(t)\n",
      "1   0.157798  0.161468\n",
      "2   0.161468  0.150459\n",
      "3   0.150459  0.177982\n",
      "4   0.177982  0.166972\n",
      "5   0.166972  0.179817\n"
     ]
    }
   ],
   "source": [
    "dataset_fai = read_csv('stock1.csv', header = 0, index_col=0)\n",
    "values_fai = dataset_fai.values\n",
    "encoder = LabelEncoder()\n",
    "values_fai[:,0] = encoder.fit_transform(values_fai[:,0])\n",
    "values_fai = values_fai.astype('float32')\n",
    "scaler = MinMaxScaler(feature_range=(0, 1))\n",
    "scaled_fai = scaler.fit_transform(values_fai)\n",
    "reframed_fai = series_to_supervised(scaled_fai, 1, 1)\n",
    "print(reframed_fai.head())\n"
   ]
  },
  {
   "cell_type": "code",
   "execution_count": 8,
   "metadata": {},
   "outputs": [
    {
     "name": "stdout",
     "output_type": "stream",
     "text": [
      "((85, 1, 1), (85,), (5, 1, 1), (5,))\n"
     ]
    }
   ],
   "source": [
    "values_stock = reframed_stock.values\n",
    "n_train_hours = 85\n",
    "n_end = n_train_hours + 5\n",
    "train_stock = values_stock[:n_train_hours, :]\n",
    "\n",
    "test_stock = values_stock[n_train_hours: n_end :]\n",
    "\n",
    "train_X_stock, train_y_stock = train_stock[:,:-1], train_stock[:, -1]\n",
    "\n",
    "test_stock_X, test_stock_y = test_stock[:,:-1],test_stock[:,-1]\n",
    "\n",
    "train_X_stock = train_X_stock.reshape((train_X_stock.shape[0], 1, train_X_stock.shape[1]))\n",
    "test_stock_X = test_stock_X.reshape((test_stock_X.shape[0], 1, test_stock_X.shape[1]))\n",
    "print(train_X_stock.shape, train_y_stock.shape, test_stock_X.shape, test_stock_y.shape)\n"
   ]
  },
  {
   "cell_type": "code",
   "execution_count": 9,
   "metadata": {},
   "outputs": [
    {
     "name": "stdout",
     "output_type": "stream",
     "text": [
      "Tensor(\"stock_input:0\", shape=(?, 1, 1), dtype=float32)\n"
     ]
    }
   ],
   "source": [
    "stock_input = Input(shape=(train_X_stock.shape[1], train_X_stock.shape[2]), dtype='float32', name='stock_input')\n",
    "print stock_input"
   ]
  },
  {
   "cell_type": "code",
   "execution_count": null,
   "metadata": {
    "collapsed": true
   },
   "outputs": [],
   "source": []
  },
  {
   "cell_type": "code",
   "execution_count": 10,
   "metadata": {},
   "outputs": [
    {
     "name": "stdout",
     "output_type": "stream",
     "text": [
      "Tensor(\"dense_1/BiasAdd:0\", shape=(?, 1), dtype=float32)\n"
     ]
    }
   ],
   "source": [
    "lstm_out_stock = LSTM(32)(stock_input)\n",
    "lstm_out_stock = Dense(1)(lstm_out_stock)\n",
    "print lstm_out_stock"
   ]
  },
  {
   "cell_type": "code",
   "execution_count": 11,
   "metadata": {
    "collapsed": true
   },
   "outputs": [],
   "source": [
    "stock_output = Dense(1, activation='linear', name='stock_output')(lstm_out_stock)"
   ]
  },
  {
   "cell_type": "code",
   "execution_count": 12,
   "metadata": {},
   "outputs": [
    {
     "name": "stdout",
     "output_type": "stream",
     "text": [
      "((85, 1, 1), (85,), (5, 1, 1), (5,))\n"
     ]
    }
   ],
   "source": [
    "values_gap = reframed_gap.values\n",
    "\n",
    "train_gap = values_gap[:n_train_hours, :]\n",
    "\n",
    "test_gap = values_gap[n_train_hours:n_end :]\n",
    "\n",
    "train_X_gap, train_y_gap = train_gap[:,:-1], train_gap[:, -1]\n",
    "\n",
    "test_gap_X, test_gap_y = test_gap[:,:-1],test_gap[:,-1]\n",
    "\n",
    "train_X_gap = train_X_gap.reshape((train_X_gap.shape[0], 1, train_X_gap.shape[1]))\n",
    "test_gap_X = test_gap_X.reshape((test_gap_X.shape[0], 1, test_gap_X.shape[1]))\n",
    "print(train_X_gap.shape, train_y_gap.shape, test_gap_X.shape, test_gap_y.shape)\n"
   ]
  },
  {
   "cell_type": "code",
   "execution_count": 13,
   "metadata": {},
   "outputs": [
    {
     "name": "stdout",
     "output_type": "stream",
     "text": [
      "Tensor(\"gap_input:0\", shape=(?, 1, 1), dtype=float32)\n",
      "Tensor(\"dense_1/BiasAdd:0\", shape=(?, 1), dtype=float32)\n"
     ]
    }
   ],
   "source": [
    "gap_input = Input(shape=(train_X_gap.shape[1], train_X_gap.shape[2]),dtype='float32', name='gap_input')\n",
    "print gap_input\n",
    "print lstm_out_stock"
   ]
  },
  {
   "cell_type": "code",
   "execution_count": 14,
   "metadata": {},
   "outputs": [
    {
     "name": "stdout",
     "output_type": "stream",
     "text": [
      "Tensor(\"embedding_1/Gather:0\", shape=(?, 1, 1), dtype=float32)\n"
     ]
    }
   ],
   "source": [
    "lstm_out_stock = Embedding(output_dim=1, input_dim = 10000, input_length=1)(lstm_out_stock)\n",
    "\n",
    "print lstm_out_stock"
   ]
  },
  {
   "cell_type": "code",
   "execution_count": 15,
   "metadata": {},
   "outputs": [
    {
     "name": "stdout",
     "output_type": "stream",
     "text": [
      "Tensor(\"concatenate_1/concat:0\", shape=(?, 1, 2), dtype=float32)\n",
      "Tensor(\"dense_2/BiasAdd:0\", shape=(?, 1), dtype=float32)\n"
     ]
    }
   ],
   "source": [
    "merg_first = keras.layers.concatenate([lstm_out_stock, gap_input])\n",
    "\n",
    "print merg_first\n",
    "lstm_out_gap = LSTM(64)(merg_first)\n",
    "lstm_out_gap = LSTM(64)(merg_first)\n",
    "lstm_out_gap = Dense(1)(lstm_out_gap)\n",
    "print lstm_out_gap                    "
   ]
  },
  {
   "cell_type": "code",
   "execution_count": 16,
   "metadata": {
    "collapsed": true
   },
   "outputs": [],
   "source": [
    "gap_output = Dense(1, activation='linear', name='gap_output')(lstm_out_gap)"
   ]
  },
  {
   "cell_type": "code",
   "execution_count": 17,
   "metadata": {},
   "outputs": [
    {
     "name": "stdout",
     "output_type": "stream",
     "text": [
      "((85, 1, 1), (85,), (5, 1, 1), (5,))\n"
     ]
    }
   ],
   "source": [
    "values_fai = reframed_fai.values\n",
    "\n",
    "train_fai = values_fai[:n_train_hours, :]\n",
    "\n",
    "test_fai = values_fai[n_train_hours:n_end :]\n",
    "\n",
    "train_X_fai, train_y_fai = train_fai[:,:-1], train_fai[:, -1]\n",
    "\n",
    "test_fai_X, test_fai_y = test_fai[:,:-1],test_fai[:,-1]\n",
    "\n",
    "train_X_fai = train_X_fai.reshape((train_X_fai.shape[0], 1, train_X_fai.shape[1]))\n",
    "test_fai_X = test_fai_X.reshape((test_fai_X.shape[0], 1, test_fai_X.shape[1]))\n",
    "print(train_X_fai.shape, train_y_fai.shape, test_fai_X.shape, test_fai_y.shape)"
   ]
  },
  {
   "cell_type": "code",
   "execution_count": 18,
   "metadata": {},
   "outputs": [
    {
     "name": "stdout",
     "output_type": "stream",
     "text": [
      "Tensor(\"fai_input:0\", shape=(?, 1, 1), dtype=float32)\n"
     ]
    }
   ],
   "source": [
    "fai_input = Input(shape=(train_X_fai.shape[1], train_X_fai.shape[2] ),dtype='float32', name='fai_input')\n",
    "print fai_input"
   ]
  },
  {
   "cell_type": "code",
   "execution_count": 19,
   "metadata": {},
   "outputs": [
    {
     "name": "stdout",
     "output_type": "stream",
     "text": [
      "Tensor(\"embedding_2/Gather:0\", shape=(?, 1, 1), dtype=float32)\n"
     ]
    }
   ],
   "source": [
    "lstm_out_gap = Embedding(output_dim=1, input_dim = 1000000, input_length=1)(lstm_out_gap)\n",
    "\n",
    "print lstm_out_gap"
   ]
  },
  {
   "cell_type": "code",
   "execution_count": 20,
   "metadata": {},
   "outputs": [
    {
     "name": "stdout",
     "output_type": "stream",
     "text": [
      "Tensor(\"concatenate_2/concat:0\", shape=(?, 1, 2), dtype=float32)\n",
      "Tensor(\"dense_3/BiasAdd:0\", shape=(?, 1), dtype=float32)\n"
     ]
    }
   ],
   "source": [
    "merg_second = keras.layers.concatenate([lstm_out_gap, fai_input])\n",
    "print merg_second\n",
    "lstm_out_fai = LSTM(128)(merg_second)\n",
    "lstm_out_fai = Dense(1)(lstm_out_fai)\n",
    "print lstm_out_fai"
   ]
  },
  {
   "cell_type": "code",
   "execution_count": 21,
   "metadata": {
    "collapsed": true
   },
   "outputs": [],
   "source": [
    "x = Dense(32, activation='linear')(lstm_out_fai)\n",
    "\n",
    "main_output = Dense(1, activation='linear', name='main_output')(x)"
   ]
  },
  {
   "cell_type": "code",
   "execution_count": 22,
   "metadata": {
    "collapsed": true
   },
   "outputs": [],
   "source": [
    "model = Model(inputs=[stock_input, gap_input, fai_input], outputs=[stock_output, gap_output, main_output])"
   ]
  },
  {
   "cell_type": "code",
   "execution_count": 23,
   "metadata": {
    "collapsed": true
   },
   "outputs": [],
   "source": [
    "model.compile(optimizer='rmsprop',\n",
    "              loss={'main_output':'mse', 'stock_output':'mse', 'gap_output':'mse'},\n",
    "              loss_weights={'main_output':1., 'stock_output': 1, 'gap_output': 1}\n",
    "            )"
   ]
  },
  {
   "cell_type": "code",
   "execution_count": 24,
   "metadata": {},
   "outputs": [
    {
     "name": "stdout",
     "output_type": "stream",
     "text": [
      "Epoch 1/3\n",
      "85/85 [==============================] - 3s - loss: 0.1096 - stock_output_loss: 0.0745 - gap_output_loss: 0.0307 - main_output_loss: 0.0044     \n",
      "Epoch 2/3\n",
      "85/85 [==============================] - 2s - loss: 0.0247 - stock_output_loss: 0.0093 - gap_output_loss: 0.0124 - main_output_loss: 0.0031     \n",
      "Epoch 3/3\n",
      "85/85 [==============================] - 2s - loss: 0.0224 - stock_output_loss: 0.0089 - gap_output_loss: 0.0114 - main_output_loss: 0.0021     \n"
     ]
    }
   ],
   "source": [
    "history=model.fit(x={'stock_input':train_X_stock, \n",
    "                   'gap_input': train_X_gap, \n",
    "                   'fai_input': train_X_fai},\n",
    "               y= {'main_output':train_y_fai, 'stock_output':train_y_stock, 'gap_output':train_y_gap},\n",
    "                 epochs=3, batch_size=1)"
   ]
  },
  {
   "cell_type": "code",
   "execution_count": 102,
   "metadata": {},
   "outputs": [
    {
     "name": "stdout",
     "output_type": "stream",
     "text": [
      "3\n",
      "1\n",
      "[[ 0.4563123 ]\n",
      " [ 0.44814163]\n",
      " [ 0.47648421]\n",
      " [ 0.44295788]\n",
      " [ 0.46749964]\n",
      " [ 0.44221836]\n",
      " [ 0.46227258]\n",
      " [ 0.44517794]\n",
      " [ 0.44295788]\n",
      " [ 0.44221836]\n",
      " [ 0.46003574]\n",
      " [ 0.46003574]\n",
      " [ 0.43262956]\n",
      " [ 0.46451145]\n",
      " [ 0.49001306]\n",
      " [ 0.49227345]\n",
      " [ 0.45705652]\n",
      " [ 0.4518519 ]\n",
      " [ 0.46152675]\n",
      " [ 0.44000149]\n",
      " [ 0.45333779]\n",
      " [ 0.4525947 ]\n",
      " [ 0.47198826]\n",
      " [ 0.46749964]\n",
      " [ 0.44147915]\n",
      " [ 0.44962499]\n",
      " [ 0.47198826]\n",
      " [ 0.47948548]\n",
      " [ 0.4474003 ]\n",
      " [ 0.45408103]\n",
      " [ 0.45333779]\n",
      " [ 0.44665927]\n",
      " [ 0.43336549]\n",
      " [ 0.44665927]\n",
      " [ 0.46152675]\n",
      " [ 0.42895415]\n",
      " [ 0.44665927]\n",
      " [ 0.45705652]\n",
      " [ 0.43631208]\n",
      " [ 0.42675236]\n",
      " [ 0.45854566]\n",
      " [ 0.45556828]\n",
      " [ 0.46003574]\n",
      " [ 0.4341017 ]\n",
      " [ 0.47198826]\n",
      " [ 0.46824721]\n",
      " [ 0.45036703]\n",
      " [ 0.43557501]\n",
      " [ 0.427486  ]\n",
      " [ 0.4563123 ]\n",
      " [ 0.4525947 ]\n",
      " [ 0.44221836]\n",
      " [ 0.44443765]\n",
      " [ 0.4518519 ]\n",
      " [ 0.46749964]\n",
      " [ 0.4525947 ]\n",
      " [ 0.45482451]\n",
      " [ 0.44074023]\n",
      " [ 0.44517794]\n",
      " [ 0.46749964]\n",
      " [ 0.48700163]\n",
      " [ 0.44814163]\n",
      " [ 0.46376494]\n",
      " [ 0.43926305]\n",
      " [ 0.46675223]\n",
      " [ 0.44295788]\n",
      " [ 0.45482451]\n",
      " [ 0.46301866]\n",
      " [ 0.48624924]\n",
      " [ 0.46749964]\n",
      " [ 0.45929059]\n",
      " [ 0.44665927]\n",
      " [ 0.46749964]\n",
      " [ 0.46974301]\n",
      " [ 0.44295788]\n",
      " [ 0.47198826]\n",
      " [ 0.4518519 ]\n",
      " [ 0.43631208]\n",
      " [ 0.42821991]\n",
      " [ 0.42455328]\n",
      " [ 0.46003574]\n",
      " [ 0.45929059]\n",
      " [ 0.46152675]\n",
      " [ 0.468995  ]\n",
      " [ 0.4518519 ]]\n",
      "MSE: 0.015700\n"
     ]
    },
    {
     "data": {
      "image/png": "[encoded data removed]",
      "text/plain": [
       "<matplotlib.figure.Figure at 0x7f2f9ee99c10>"
      ]
     },
     "metadata": {},
     "output_type": "display_data"
    }
   ],
   "source": [
    "\n",
    "\n",
    "predicted = model.predict({'stock_input':train_X_stock, \n",
    "          'gap_input': train_X_gap, \n",
    "           'fai_input': train_X_fai})\n",
    "print(len(predicted))\n",
    "predicted1 = predicted[:1]\n",
    "print(len(predicted1))\n",
    "\n",
    "predicted1 = np.reshape(predicted1,(-1,1))\n",
    "\n",
    "#predicted2 = np.reshape(predicted2,(-1,1))\n",
    "\n",
    "print(predicted1)\n",
    "result1 = predicted1[:5]\n",
    "#result2 = predicted2[:5]\n",
    "#result3 = predicted3[:5]\n",
    "#print (result1, result2, result3)\n",
    "#result = scaler.inverse_transform(result)\n",
    "#result = np.reshape(result,(-1,1))\n",
    "\n",
    "#result = result[:5]\n",
    "#print (result, test_stock_y)\n",
    "score = mean_squared_error(result1, test_stock_y)\n",
    "    \n",
    "print(\"MSE: %f\" % score)\n",
    "plot_results(result1, test_stock_y)\n",
    "#plt.plot(history.history['loss'], label='train')\n",
    "#plt.plot(history.history['acc'], label='test')\n",
    "#plt.legend()\n",
    "#plt.show()\n",
    "#predicted = np.reshape(predicted,(-1,1))\n",
    "#concat_predicted = series_to_supervised(predicted,1,1)\n",
    "#print(concat_predicted.head())\n",
    "\n"
   ]
  },
  {
   "cell_type": "code",
   "execution_count": 31,
   "metadata": {
    "collapsed": true
   },
   "outputs": [],
   "source": [
    "#predicted= (predicted[1:2])\n",
    "#print (predicted)\n",
    "#l = len(predicted)\n",
    "#predicted = np.reshape(predicted,(-1,1))\n",
    "\n",
    "#print(predicted.shape, test_stock_y.shape)\n",
    "#print ( predicted[:5])\n",
    "#print (concat_predicted[:5])\n",
    "#result = concat_predicted[:5]\n",
    "#result = predicted[:5]\n",
    "#\n",
    "#print (result)\n",
    "#scaler = MinMaxScaler(feature_range=(0, 1))\n",
    "#scaled_fai = scaler.fit_transform(result)\n",
    "#result = series_to_supervised(result, 5, 5)\n",
    "#result = scaler.inverse_transform(result)\n",
    "#result = np.reshape(result,(-1,1))\n",
    "#result = result[:5]\n",
    "#print (result, test_stock_y)\n",
    "#score = mean_squared_error(result, test_stock_y)\n",
    "    \n",
    "#print(\"MSE: %f\" % score)\n",
    "#plot_results(result, test_stock_y)"
   ]
  },
  {
   "cell_type": "code",
   "execution_count": 23,
   "metadata": {},
   "outputs": [
    {
     "ename": "KeyError",
     "evalue": "'val_loss'",
     "output_type": "error",
     "traceback": [
      "\u001b[0;31m---------------------------------------------------------------------------\u001b[0m",
      "\u001b[0;31mKeyError\u001b[0m                                  Traceback (most recent call last)",
      "\u001b[0;32m<ipython-input-23-0370d0aeb38c>\u001b[0m in \u001b[0;36m<module>\u001b[0;34m()\u001b[0m\n\u001b[1;32m      1\u001b[0m \u001b[0mplt\u001b[0m\u001b[0;34m.\u001b[0m\u001b[0mplot\u001b[0m\u001b[0;34m(\u001b[0m\u001b[0mhistory\u001b[0m\u001b[0;34m.\u001b[0m\u001b[0mhistory\u001b[0m\u001b[0;34m[\u001b[0m\u001b[0;34m'loss'\u001b[0m\u001b[0;34m]\u001b[0m\u001b[0;34m,\u001b[0m \u001b[0mlabel\u001b[0m\u001b[0;34m=\u001b[0m\u001b[0;34m'train'\u001b[0m\u001b[0;34m)\u001b[0m\u001b[0;34m\u001b[0m\u001b[0m\n\u001b[0;32m----> 2\u001b[0;31m \u001b[0mplt\u001b[0m\u001b[0;34m.\u001b[0m\u001b[0mplot\u001b[0m\u001b[0;34m(\u001b[0m\u001b[0mhistory\u001b[0m\u001b[0;34m.\u001b[0m\u001b[0mhistory\u001b[0m\u001b[0;34m[\u001b[0m\u001b[0;34m'val_loss'\u001b[0m\u001b[0;34m]\u001b[0m\u001b[0;34m,\u001b[0m \u001b[0mlabel\u001b[0m\u001b[0;34m=\u001b[0m\u001b[0;34m'test'\u001b[0m\u001b[0;34m)\u001b[0m\u001b[0;34m\u001b[0m\u001b[0m\n\u001b[0m\u001b[1;32m      3\u001b[0m \u001b[0mplt\u001b[0m\u001b[0;34m.\u001b[0m\u001b[0mlegend\u001b[0m\u001b[0;34m(\u001b[0m\u001b[0;34m)\u001b[0m\u001b[0;34m\u001b[0m\u001b[0m\n\u001b[1;32m      4\u001b[0m \u001b[0mplt\u001b[0m\u001b[0;34m.\u001b[0m\u001b[0mshow\u001b[0m\u001b[0;34m(\u001b[0m\u001b[0;34m)\u001b[0m\u001b[0;34m\u001b[0m\u001b[0m\n",
      "\u001b[0;31mKeyError\u001b[0m: 'val_loss'"
     ]
    }
   ],
   "source": [
    "plt.plot(history.history['loss'], label='train')\n",
    "plt.plot(history.history['val_loss'], label='test')\n",
    "plt.legend()\n",
    "plt.show()"
   ]
  },
  {
   "cell_type": "code",
   "execution_count": null,
   "metadata": {
    "collapsed": true
   },
   "outputs": [],
   "source": []
  }
 ],
 "metadata": {
  "kernelspec": {
   "display_name": "Python 2",
   "language": "python",
   "name": "python2"
  },
  "language_info": {
   "codemirror_mode": {
    "name": "ipython",
    "version": 2
   },
   "file_extension": ".py",
   "mimetype": "text/x-python",
   "name": "python",
   "nbconvert_exporter": "python",
   "pygments_lexer": "ipython2",
   "version": "2.7.12"
  }
 },
 "nbformat": 4,
 "nbformat_minor": 2
}
