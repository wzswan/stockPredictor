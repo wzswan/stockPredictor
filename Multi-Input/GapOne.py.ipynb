{
 "cells": [
  {
   "cell_type": "code",
   "execution_count": 1,
   "metadata": {},
   "outputs": [
    {
     "name": "stderr",
     "output_type": "stream",
     "text": [
      "Using TensorFlow backend.\n"
     ]
    }
   ],
   "source": [
    "import os\n",
    "import time\n",
    "import warnings\n",
    "import numpy as np\n",
    "import matplotlib.pyplot as plt\n",
    "from math import sqrt\n",
    "from numpy import newaxis, concatenate\n",
    "from keras.layers.core import Dense, Activation, Dropout\n",
    "from keras.layers.recurrent import LSTM\n",
    "from sklearn.metrics import mean_squared_error\n",
    "from pandas import read_csv, DataFrame,concat\n",
    "from sklearn.preprocessing import MinMaxScaler\n",
    "from sklearn.preprocessing import LabelEncoder\n",
    "from sklearn.metrics import mean_squared_error\n",
    "from keras.models import Sequential"
   ]
  },
  {
   "cell_type": "code",
   "execution_count": 2,
   "metadata": {
    "collapsed": true
   },
   "outputs": [],
   "source": [
    "seq_len = 1\n",
    "def series_to_supervised(data, n_in=1, n_out=1, dropnan=True):\n",
    "    n_vars = 1 if type(data) is list else data.shape[1]\n",
    "    df = DataFrame(data)\n",
    "    cols, names = list(),list()\n",
    "    for i in range(n_in, 0 ,-1):\n",
    "        cols.append(df.shift(i))\n",
    "        names += [('var%d(t-%d)' % (j+1,i)) for j in range(n_vars)]\n",
    "    for i in range(0, n_out):\n",
    "        cols.append(df.shift(-i))\n",
    "        if i == 0:\n",
    "            names += [('var%d(t)' % (j+1)) for j in range(n_vars)]\n",
    "        else:\n",
    "            names += [('var%d(t+%d)' % (j+1, i)) for j in range(n_vars)]\n",
    "    agg = concat(cols, axis =1)\n",
    "    agg.columns = names\n",
    "    if dropnan:\n",
    "        agg.dropna(inplace = True)\n",
    "    return agg\n",
    "\n",
    "def plot_results(predicted_data, true_data):\n",
    "    fig = plt.figure(facecolor='white')\n",
    "    ax = fig.add_subplot(111)\n",
    "    ax.plot(true_data, label='True Data')\n",
    "    plt.plot(predicted_data, label='Prediction')\n",
    "    plt.legend()\n",
    "    plt.show()\n",
    "def predict_sequences_full(model, data, window_size):\n",
    "    #Shift the window by 1 new prediction each time, re-run predictions on new window\n",
    "    curr_frame = data[0]\n",
    "    predicted = []\n",
    "    for i in range(len(data)):\n",
    "        predicted.append(model.predict(curr_frame[newaxis,:,:])[0,0])\n",
    "        curr_frame = curr_frame[1:]\n",
    "        curr_frame = np.insert(curr_frame, window_size-1,predicted[-1], axis=0)\n",
    "    return predicted"
   ]
  },
  {
   "cell_type": "code",
   "execution_count": 3,
   "metadata": {},
   "outputs": [
    {
     "name": "stdout",
     "output_type": "stream",
     "text": [
      "   var1(t-1)   var1(t)\n",
      "1   0.488038  0.435407\n",
      "2   0.435407  0.617225\n",
      "3   0.617225  0.401914\n",
      "4   0.401914  0.559809\n",
      "5   0.559809  0.397129\n",
      "   var1(t-1)   var1(t)\n",
      "1   0.157798  0.161468\n",
      "2   0.161468  0.150459\n",
      "3   0.150459  0.177982\n",
      "4   0.177982  0.166972\n",
      "5   0.166972  0.179817\n"
     ]
    }
   ],
   "source": [
    "dataset = read_csv('gap1.csv', header = 0, index_col=0)\n",
    "dataset_stock = read_csv('stock1.csv', header = 0, index_col=0)\n",
    "values = dataset.values\n",
    "values_stock = dataset_stock.values\n",
    "encoder = LabelEncoder()\n",
    "values[:,0] = encoder.fit_transform(values[:,0])\n",
    "values_stock[:,0] = encoder.fit_transform(values_stock[:,0])\n",
    "values = values.astype('float32')\n",
    "values_stock = values_stock.astype('float32')\n",
    "scaler = MinMaxScaler(feature_range=(0, 1))\n",
    "scaled = scaler.fit_transform(values)\n",
    "scaled_stock = scaler.fit_transform(values_stock)\n",
    "reframed = series_to_supervised(scaled, 1, 1)\n",
    "reframed_stock = series_to_supervised(scaled_stock, 1, 1)\n",
    "print(reframed.head())\n",
    "print(reframed_stock.head())"
   ]
  },
  {
   "cell_type": "code",
   "execution_count": 8,
   "metadata": {},
   "outputs": [
    {
     "name": "stdout",
     "output_type": "stream",
     "text": [
      "(300, 1, 1) (300,) (5, 1, 1) (5,)\n",
      "(300, 1, 1) (300,) (5, 1, 1) (5,)\n"
     ]
    }
   ],
   "source": [
    "values = reframed.values\n",
    "values_stock = reframed_stock.values\n",
    "n_train_hours = 300\n",
    "n_end = n_train_hours + 5\n",
    "train = values[:n_train_hours, :]\n",
    "train_stock = values_stock[:n_train_hours,:]\n",
    "test = values[n_train_hours:n_end :]\n",
    "test_stock = values_stock[n_train_hours:n_end:]\n",
    "train_X, train_y = train[:,:-1], train[:, -1]\n",
    "train_stock_X, train_stock_y = train_stock[:,:-1], train_stock[:, -1]\n",
    "test_X, test_y = test[:, :-1], test[:,-1]\n",
    "test_stock_X, test_stock_y = test_stock[:, :-1], test_stock[:,-1] \n",
    "train_X = train_X.reshape((train_X.shape[0], 1, train_X.shape[1]))\n",
    "train_stock_X = train_stock_X.reshape((train_stock_X.shape[0], 1, train_stock_X.shape[1]))\n",
    "test_X = test_X.reshape((test_X.shape[0], 1, test_X.shape[1]))\n",
    "test_stock_X = test_stock_X.reshape((test_stock_X.shape[0],1, test_stock_X.shape[1]))\n",
    "print(train_X.shape, train_y.shape, test_X.shape, test_y.shape)\n",
    "print(train_stock_X.shape, train_stock_y.shape, test_stock_X.shape, test_stock_y.shape)"
   ]
  },
  {
   "cell_type": "code",
   "execution_count": 9,
   "metadata": {},
   "outputs": [
    {
     "name": "stdout",
     "output_type": "stream",
     "text": [
      "> Compilation Time : 0.022906780242919922\n",
      "Train on 300 samples, validate on 5 samples\n",
      "Epoch 1/30\n",
      "1s - loss: 0.0248 - val_loss: 0.1098\n",
      "Epoch 2/30\n",
      "1s - loss: 0.0157 - val_loss: 0.1061\n",
      "Epoch 3/30\n",
      "1s - loss: 0.0156 - val_loss: 0.1043\n",
      "Epoch 4/30\n",
      "1s - loss: 0.0163 - val_loss: 0.1025\n",
      "Epoch 5/30\n",
      "1s - loss: 0.0155 - val_loss: 0.1016\n",
      "Epoch 6/30\n",
      "1s - loss: 0.0152 - val_loss: 0.1011\n",
      "Epoch 7/30\n",
      "1s - loss: 0.0148 - val_loss: 0.1009\n",
      "Epoch 8/30\n",
      "1s - loss: 0.0152 - val_loss: 0.1005\n",
      "Epoch 9/30\n",
      "1s - loss: 0.0151 - val_loss: 0.1002\n",
      "Epoch 10/30\n",
      "1s - loss: 0.0150 - val_loss: 0.0996\n",
      "Epoch 11/30\n",
      "1s - loss: 0.0155 - val_loss: 0.0990\n",
      "Epoch 12/30\n",
      "1s - loss: 0.0151 - val_loss: 0.0991\n",
      "Epoch 13/30\n",
      "1s - loss: 0.0149 - val_loss: 0.0992\n",
      "Epoch 14/30\n",
      "1s - loss: 0.0151 - val_loss: 0.0990\n",
      "Epoch 15/30\n",
      "1s - loss: 0.0150 - val_loss: 0.0986\n",
      "Epoch 16/30\n",
      "1s - loss: 0.0150 - val_loss: 0.0986\n",
      "Epoch 17/30\n",
      "1s - loss: 0.0151 - val_loss: 0.0988\n",
      "Epoch 18/30\n",
      "1s - loss: 0.0153 - val_loss: 0.0989\n",
      "Epoch 19/30\n",
      "1s - loss: 0.0149 - val_loss: 0.0990\n",
      "Epoch 20/30\n",
      "1s - loss: 0.0145 - val_loss: 0.0992\n",
      "Epoch 21/30\n",
      "1s - loss: 0.0150 - val_loss: 0.0990\n",
      "Epoch 22/30\n",
      "1s - loss: 0.0153 - val_loss: 0.0990\n",
      "Epoch 23/30\n",
      "1s - loss: 0.0149 - val_loss: 0.0991\n",
      "Epoch 24/30\n",
      "1s - loss: 0.0146 - val_loss: 0.0988\n",
      "Epoch 25/30\n",
      "1s - loss: 0.0147 - val_loss: 0.0994\n",
      "Epoch 26/30\n",
      "1s - loss: 0.0150 - val_loss: 0.0996\n",
      "Epoch 27/30\n",
      "1s - loss: 0.0149 - val_loss: 0.0990\n",
      "Epoch 28/30\n",
      "1s - loss: 0.0154 - val_loss: 0.0991\n",
      "Epoch 29/30\n",
      "1s - loss: 0.0150 - val_loss: 0.0990\n",
      "Epoch 30/30\n",
      "1s - loss: 0.0148 - val_loss: 0.0991\n"
     ]
    }
   ],
   "source": [
    "model = Sequential()\n",
    "model.add(LSTM(20, input_shape=(train_X.shape[1], train_X.shape[2]),return_sequences=True))\n",
    "model.add(Dropout(0.2))\n",
    "model.add(LSTM(100,return_sequences=False))\n",
    "model.add(Dropout(0.2))\n",
    "model.add(Dense(1))\n",
    "model.add(Activation(\"linear\"))\n",
    "start = time.time()\n",
    "model.add(Dense(1))\n",
    "model.compile(loss='mse', optimizer='rmsprop')\n",
    "print(\"> Compilation Time :\", time.time() - start)\n",
    "history = model.fit(train_X, train_y, epochs=30, batch_size=1, validation_data=(test_X, test_y), verbose=2, shuffle=False)\n",
    "#print (seq_len)\n",
    "predicted = predict_sequences_full(model, test_X, seq_len)"
   ]
  },
  {
   "cell_type": "code",
   "execution_count": 10,
   "metadata": {},
   "outputs": [
    {
     "name": "stdout",
     "output_type": "stream",
     "text": [
      "[0.57406646, 0.57248986, 0.57246482, 0.57246435, 0.57246441]\n",
      "5\n"
     ]
    },
    {
     "data": {
      "image/png": "[encoded data removed]",
      "text/plain": [
       "<matplotlib.figure.Figure at 0x7f690b7960f0>"
      ]
     },
     "metadata": {},
     "output_type": "display_data"
    }
   ],
   "source": [
    "print (predicted)\n",
    "l = len(predicted)\n",
    "print (l)\n",
    "plt.plot(history.history['loss'], label='train')\n",
    "plt.plot(history.history['val_loss'], label='test')\n",
    "plt.legend()\n",
    "plt.show()"
   ]
  },
  {
   "cell_type": "code",
   "execution_count": 11,
   "metadata": {},
   "outputs": [
    {
     "name": "stdout",
     "output_type": "stream",
     "text": [
      "[ 0.57406646  0.57248986  0.57246482  0.57246435  0.57246441] [ 0.72660553  0.60183489  0.63302755  0.70091742  0.7082569 ]\n",
      "MSE: 0.012547\n"
     ]
    },
    {
     "data": {
      "image/png": "[encoded data removed]",
      "text/plain": [
       "<matplotlib.figure.Figure at 0x7f690b7962b0>"
      ]
     },
     "metadata": {},
     "output_type": "display_data"
    }
   ],
   "source": [
    "predicted = np.reshape(predicted, (l,))\n",
    "\n",
    "print(predicted, test_stock_y)\n",
    "score = mean_squared_error(predicted, test_stock_y)\n",
    "    \n",
    "print(\"MSE: %f\" % score)\n",
    "plot_results(predicted, test_stock_y)"
   ]
  },
  {
   "cell_type": "code",
   "execution_count": null,
   "metadata": {
    "collapsed": true
   },
   "outputs": [],
   "source": []
  }
 ],
 "metadata": {
  "kernelspec": {
   "display_name": "Python 3",
   "language": "python",
   "name": "python3"
  },
  "language_info": {
   "codemirror_mode": {
    "name": "ipython",
    "version": 3
   },
   "file_extension": ".py",
   "mimetype": "text/x-python",
   "name": "python",
   "nbconvert_exporter": "python",
   "pygments_lexer": "ipython3",
   "version": "3.5.2"
  }
 },
 "nbformat": 4,
 "nbformat_minor": 2
}
