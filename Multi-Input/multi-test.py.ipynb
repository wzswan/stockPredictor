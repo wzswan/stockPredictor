{
 "cells": [
  {
   "cell_type": "code",
   "execution_count": 37,
   "metadata": {},
   "outputs": [],
   "source": [
    "from math import sqrt\n",
    "from numpy import concatenate\n",
    "from matplotlib import pyplot\n",
    "from pandas import read_csv\n",
    "from pandas import DataFrame\n",
    "from pandas import concat\n",
    "from sklearn.preprocessing import MinMaxScaler\n",
    "from sklearn.preprocessing import LabelEncoder\n",
    "from sklearn.metrics import mean_squared_error\n",
    "from keras.models import Sequential\n",
    "from keras.layers import Dense\n",
    "from keras.layers import LSTM"
   ]
  },
  {
   "cell_type": "code",
   "execution_count": 38,
   "metadata": {
    "collapsed": true
   },
   "outputs": [],
   "source": [
    "def series_to_supervised(data, n_in=1, n_out=1, dropnan=True):\n",
    "    n_vars = 1 if type(data) is list else data.shape[1]\n",
    "    df = DataFrame(data)\n",
    "    cols, names = list(),list()\n",
    "    for i in range(n_in, 0 ,-1):\n",
    "        cols.append(df.shift(i))\n",
    "        names += [('var%d(t-%d)' % (j+1,i)) for j in range(n_vars)]\n",
    "    for i in range(0, n_out):\n",
    "        cols.append(df.shift(-i))\n",
    "        if i == 0:\n",
    "            names += [('var%d(t)' % (j+1)) for j in range(n_vars)]\n",
    "        else:\n",
    "            names += [('var%d(t+%d)' % (j+1, i)) for j in range(n_vars)]\n",
    "    agg = concat(cols, axis =1)\n",
    "    agg.columns = names\n",
    "    if dropnan:\n",
    "        agg.dropna(inplace = True)\n",
    "    return agg"
   ]
  },
  {
   "cell_type": "code",
   "execution_count": 39,
   "metadata": {},
   "outputs": [
    {
     "name": "stdout",
     "output_type": "stream",
     "text": [
      "   var1(t-1)  var2(t-1)  var3(t-1)   var1(t)   var2(t)   var3(t)\n",
      "1   0.243070   0.590510   0.159926  0.240938  0.657293  0.150735\n",
      "2   0.240938   0.657293   0.150735  0.243070  0.578207  0.176471\n",
      "3   0.243070   0.578207   0.176471  0.240938  0.636204  0.165441\n",
      "4   0.240938   0.636204   0.165441  0.211087  0.576450  0.178309\n",
      "5   0.211087   0.576450   0.178309  0.208955  0.623902  0.165441\n"
     ]
    }
   ],
   "source": [
    "dataset = read_csv('input2.csv', header = 0, index_col=0)\n",
    "values = dataset.values\n",
    "encoder = LabelEncoder()\n",
    "values[:,2] = encoder.fit_transform(values[:,2])\n",
    "values = values.astype('float32')\n",
    "scaler = MinMaxScaler(feature_range=(0, 1))\n",
    "scaled = scaler.fit_transform(values)\n",
    "reframed = series_to_supervised(scaled, 1, 1)\n",
    "#reframed.drop(reframed.columns[[9,10,11,12,13,14,15]], axis = 1, inplace=True)\n",
    "print(reframed.head())"
   ]
  },
  {
   "cell_type": "code",
   "execution_count": 40,
   "metadata": {},
   "outputs": [
    {
     "name": "stdout",
     "output_type": "stream",
     "text": [
      "((300, 1, 5), (300,), (377, 1, 5), (377,))\n"
     ]
    }
   ],
   "source": [
    "values = reframed.values\n",
    "n_train_hours = 300\n",
    "train = values[:n_train_hours, :]\n",
    "test = values[n_train_hours:, :]\n",
    "train_X, train_y = train[:,:-1], train[:, -1]\n",
    "test_X, test_y = test[:, :-1], test[:,-1]\n",
    "train_X = train_X.reshape((train_X.shape[0], 1, train_X.shape[1]))\n",
    "test_X = test_X.reshape((test_X.shape[0], 1, test_X.shape[1]))\n",
    "print(train_X.shape, train_y.shape, test_X.shape, test_y.shape)"
   ]
  },
  {
   "cell_type": "code",
   "execution_count": 41,
   "metadata": {},
   "outputs": [
    {
     "name": "stdout",
     "output_type": "stream",
     "text": [
      "Train on 300 samples, validate on 377 samples\n",
      "Epoch 1/50\n",
      "1s - loss: 0.0017 - val_loss: 0.0211\n",
      "Epoch 2/50\n",
      "0s - loss: 0.0050 - val_loss: 0.0164\n",
      "Epoch 3/50\n",
      "0s - loss: 0.0033 - val_loss: 0.0131\n",
      "Epoch 4/50\n",
      "0s - loss: 0.0023 - val_loss: 0.0109\n",
      "Epoch 5/50\n",
      "0s - loss: 0.0017 - val_loss: 0.0096\n",
      "Epoch 6/50\n",
      "0s - loss: 0.0014 - val_loss: 0.0088\n",
      "Epoch 7/50\n",
      "0s - loss: 0.0012 - val_loss: 0.0083\n",
      "Epoch 8/50\n",
      "0s - loss: 0.0011 - val_loss: 0.0080\n",
      "Epoch 9/50\n",
      "0s - loss: 9.8289e-04 - val_loss: 0.0079\n",
      "Epoch 10/50\n",
      "0s - loss: 9.3870e-04 - val_loss: 0.0078\n",
      "Epoch 11/50\n",
      "0s - loss: 9.0881e-04 - val_loss: 0.0078\n",
      "Epoch 12/50\n",
      "0s - loss: 8.8802e-04 - val_loss: 0.0078\n",
      "Epoch 13/50\n",
      "0s - loss: 8.7066e-04 - val_loss: 0.0078\n",
      "Epoch 14/50\n",
      "0s - loss: 8.5631e-04 - val_loss: 0.0078\n",
      "Epoch 15/50\n",
      "0s - loss: 8.4560e-04 - val_loss: 0.0078\n",
      "Epoch 16/50\n",
      "1s - loss: 8.3699e-04 - val_loss: 0.0078\n",
      "Epoch 17/50\n",
      "0s - loss: 8.3040e-04 - val_loss: 0.0079\n",
      "Epoch 18/50\n",
      "0s - loss: 8.2413e-04 - val_loss: 0.0079\n",
      "Epoch 19/50\n",
      "0s - loss: 8.1964e-04 - val_loss: 0.0079\n",
      "Epoch 20/50\n",
      "0s - loss: 8.1590e-04 - val_loss: 0.0080\n",
      "Epoch 21/50\n",
      "0s - loss: 8.0931e-04 - val_loss: 0.0080\n",
      "Epoch 22/50\n",
      "0s - loss: 8.0440e-04 - val_loss: 0.0081\n",
      "Epoch 23/50\n",
      "0s - loss: 8.0120e-04 - val_loss: 0.0081\n",
      "Epoch 24/50\n",
      "1s - loss: 7.9709e-04 - val_loss: 0.0081\n",
      "Epoch 25/50\n",
      "0s - loss: 7.9208e-04 - val_loss: 0.0081\n",
      "Epoch 26/50\n",
      "0s - loss: 7.8487e-04 - val_loss: 0.0081\n",
      "Epoch 27/50\n",
      "0s - loss: 7.7718e-04 - val_loss: 0.0082\n",
      "Epoch 28/50\n",
      "0s - loss: 7.7142e-04 - val_loss: 0.0082\n",
      "Epoch 29/50\n",
      "0s - loss: 7.6490e-04 - val_loss: 0.0082\n",
      "Epoch 30/50\n",
      "0s - loss: 7.6040e-04 - val_loss: 0.0082\n",
      "Epoch 31/50\n",
      "1s - loss: 7.5529e-04 - val_loss: 0.0083\n",
      "Epoch 32/50\n",
      "0s - loss: 7.5108e-04 - val_loss: 0.0083\n",
      "Epoch 33/50\n",
      "0s - loss: 7.4770e-04 - val_loss: 0.0083\n",
      "Epoch 34/50\n",
      "0s - loss: 7.4469e-04 - val_loss: 0.0084\n",
      "Epoch 35/50\n",
      "0s - loss: 7.4080e-04 - val_loss: 0.0084\n",
      "Epoch 36/50\n",
      "0s - loss: 7.3514e-04 - val_loss: 0.0084\n",
      "Epoch 37/50\n",
      "0s - loss: 7.3062e-04 - val_loss: 0.0084\n",
      "Epoch 38/50\n",
      "0s - loss: 7.2679e-04 - val_loss: 0.0084\n",
      "Epoch 39/50\n",
      "0s - loss: 7.2345e-04 - val_loss: 0.0084\n",
      "Epoch 40/50\n",
      "0s - loss: 7.2059e-04 - val_loss: 0.0084\n",
      "Epoch 41/50\n",
      "0s - loss: 7.1815e-04 - val_loss: 0.0085\n",
      "Epoch 42/50\n",
      "0s - loss: 7.1596e-04 - val_loss: 0.0085\n",
      "Epoch 43/50\n",
      "0s - loss: 7.1382e-04 - val_loss: 0.0085\n",
      "Epoch 44/50\n",
      "0s - loss: 7.1153e-04 - val_loss: 0.0085\n",
      "Epoch 45/50\n",
      "1s - loss: 7.0923e-04 - val_loss: 0.0085\n",
      "Epoch 46/50\n",
      "0s - loss: 7.0574e-04 - val_loss: 0.0085\n",
      "Epoch 47/50\n",
      "0s - loss: 7.0161e-04 - val_loss: 0.0085\n",
      "Epoch 48/50\n",
      "0s - loss: 6.9747e-04 - val_loss: 0.0084\n",
      "Epoch 49/50\n",
      "0s - loss: 6.9395e-04 - val_loss: 0.0084\n",
      "Epoch 50/50\n",
      "0s - loss: 6.9073e-04 - val_loss: 0.0084\n"
     ]
    }
   ],
   "source": [
    "model = Sequential()\n",
    "model.add(LSTM(50, input_shape=(train_X.shape[1], train_X.shape[2])))\n",
    "model.add(Dense(1))\n",
    "model.compile(loss='mse', optimizer='rmsprop')\n",
    "history = model.fit(train_X, train_y, epochs=50, batch_size=1, validation_data=(test_X, test_y), verbose=2, shuffle=False)\n"
   ]
  },
  {
   "cell_type": "code",
   "execution_count": 42,
   "metadata": {},
   "outputs": [
    {
     "data": {
      "image/png": "[encoded data removed]",
      "text/plain": [
       "<matplotlib.figure.Figure at 0x7fdeb0448910>"
      ]
     },
     "metadata": {},
     "output_type": "display_data"
    }
   ],
   "source": [
    "pyplot.plot(history.history['loss'], label='train')\n",
    "pyplot.plot(history.history['val_loss'], label='test')\n",
    "pyplot.legend()\n",
    "pyplot.show()"
   ]
  },
  {
   "cell_type": "code",
   "execution_count": 43,
   "metadata": {},
   "outputs": [
    {
     "name": "stdout",
     "output_type": "stream",
     "text": [
      "[[ 0.26865673  0.14938489  0.72610295  0.52025586  0.70650268]\n",
      " [ 0.52025586  0.70650268  0.60110295  0.52025586  0.86994731]\n",
      " [ 0.52025586  0.86994731  0.63235295  0.52025586  0.64147627]\n",
      " ..., \n",
      " [ 0.4029851   0.57996488  0.50919116  0.4029851   0.56063271]\n",
      " [ 0.4029851   0.56063271  0.5         0.4029851   0.63796139]\n",
      " [ 0.4029851   0.63796139  0.4834559   0.4029851   0.61862922]]\n",
      "[[ 0.50678504  0.14938489  0.72610295  0.52025586  0.70650268]\n",
      " [ 0.74053788  0.70650268  0.60110295  0.52025586  0.86994731]\n",
      " [ 0.83919716  0.86994731  0.63235295  0.52025586  0.64147627]\n",
      " ..., \n",
      " [ 0.57475913  0.57996488  0.50919116  0.4029851   0.56063271]\n",
      " [ 0.56282437  0.56063271  0.5         0.4029851   0.63796139]\n",
      " [ 0.58987069  0.63796139  0.4834559   0.4029851   0.61862922]]\n",
      "Test RMSE: 0.091\n"
     ]
    }
   ],
   "source": [
    "yhat =  model.predict(test_X)\n",
    "test_X = test_X.reshape((test_X.shape[0], test_X.shape[2]))\n",
    "print test_X\n",
    "\n",
    "inv_yhat = concatenate((yhat, test_X[:,1:]), axis=1)\n",
    "print inv_yhat\n",
    "#inv_yhat = scaler.inverse_transform(inv_yhat)\n",
    "inv_yhat = inv_yhat[:,0]\n",
    "\n",
    "test_y = test_y.reshape((len(test_y), 1))\n",
    "inv_y = concatenate((test_y, test_X[:, 1:]), axis =1)\n",
    "#inv_y = scaler.inverse_transform(inv_y)\n",
    "inv_y = inv_y[:,0]\n",
    "\n",
    "rmse = sqrt(mean_squared_error(inv_y, inv_yhat))\n",
    "print('Test RMSE: %.3f' % rmse)"
   ]
  },
  {
   "cell_type": "code",
   "execution_count": null,
   "metadata": {
    "collapsed": true
   },
   "outputs": [],
   "source": []
  }
 ],
 "metadata": {
  "kernelspec": {
   "display_name": "Python 2",
   "language": "python",
   "name": "python2"
  },
  "language_info": {
   "codemirror_mode": {
    "name": "ipython",
    "version": 2
   },
   "file_extension": ".py",
   "mimetype": "text/x-python",
   "name": "python",
   "nbconvert_exporter": "python",
   "pygments_lexer": "ipython2",
   "version": "2.7.12"
  }
 },
 "nbformat": 4,
 "nbformat_minor": 2
}
