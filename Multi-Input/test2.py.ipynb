{
 "cells": [
  {
   "cell_type": "code",
   "execution_count": 33,
   "metadata": {},
   "outputs": [],
   "source": [
    "import os\n",
    "import time\n",
    "import warnings\n",
    "import numpy as np\n",
    "import matplotlib.pyplot as plt\n",
    "from math import sqrt\n",
    "from numpy import newaxis, concatenate\n",
    "from keras.layers.core import Dense, Activation, Dropout\n",
    "from keras.layers.recurrent import LSTM\n",
    "from sklearn.metrics import mean_squared_error\n",
    "from pandas import read_csv, DataFrame,concat\n",
    "from sklearn.preprocessing import MinMaxScaler\n",
    "from sklearn.preprocessing import LabelEncoder\n",
    "from sklearn.metrics import mean_squared_error\n",
    "from keras.models import Sequential"
   ]
  },
  {
   "cell_type": "code",
   "execution_count": 34,
   "metadata": {
    "collapsed": true
   },
   "outputs": [],
   "source": [
    "def load_data(filename, seq_len, normalise_window):\n",
    "    f = open(filename, 'rb').read()\n",
    "    data = f.decode().split('\\n')\n",
    "\n",
    "    sequence_length = seq_len + 1\n",
    "    result = []\n",
    "    for index in range(len(data) - sequence_length):\n",
    "        result.append(data[index: index + sequence_length])\n",
    "    # divide the data into parts by seq_len, so get n matrix\n",
    "\n",
    "    if normalise_window:\n",
    "        result = normalise_windows(result)\n",
    "\n",
    "    result = np.array(result)\n",
    "    # select 90% data as training data\n",
    "    row = 673\n",
    "    train = result[:int(row), :]\n",
    "    # random sorted training data\n",
    "    #np.random.shuffle(train)\n",
    "    x_train = train[:, :-1]\n",
    "    y_train = train[:, -1]\n",
    "    # 10% as test data\n",
    "    x_test = result[int(row):, : -1]\n",
    "    y_test = result[int(row):, -1]\n",
    "\n",
    "    x_train = np.reshape(x_train, (x_train.shape[0], x_train.shape[1], 1))\n",
    "    x_test = np.reshape(x_test, (x_test.shape[0], x_test.shape[1], 1))\n",
    "\n",
    "    return [x_train, y_train, x_test, y_test]\n",
    "\n",
    "def normalise_windows(window_data):\n",
    "    normalised_data = []\n",
    "    for window in window_data:\n",
    "        normalise_window = [((float(p) / float(window[0])) - 1) for p in window]\n",
    "        normalised_data.append(normalise_window)\n",
    "    return normalised_data"
   ]
  },
  {
   "cell_type": "code",
   "execution_count": 35,
   "metadata": {
    "collapsed": true
   },
   "outputs": [],
   "source": [
    "def plot_results(predicted_data, true_data):\n",
    "    fig = plt.figure(facecolor='white')\n",
    "    ax = fig.add_subplot(111)\n",
    "    ax.plot(true_data, label='True Data')\n",
    "    plt.plot(predicted_data, label='Prediction')\n",
    "    plt.legend()\n",
    "    plt.show()"
   ]
  },
  {
   "cell_type": "code",
   "execution_count": 36,
   "metadata": {
    "collapsed": true
   },
   "outputs": [],
   "source": [
    "def series_to_supervised(data, n_in=1, n_out=1, dropnan=True):\n",
    "    n_vars = 1 if type(data) is list else data.shape[1]\n",
    "    df = DataFrame(data)\n",
    "    cols, names = list(),list()\n",
    "    for i in range(n_in, 0 ,-1):\n",
    "        cols.append(df.shift(i))\n",
    "        names += [('var%d(t-%d)' % (j+1,i)) for j in range(n_vars)]\n",
    "    for i in range(0, n_out):\n",
    "        cols.append(df.shift(-i))\n",
    "        if i == 0:\n",
    "            names += [('var%d(t)' % (j+1)) for j in range(n_vars)]\n",
    "        else:\n",
    "            names += [('var%d(t+%d)' % (j+1, i)) for j in range(n_vars)]\n",
    "    agg = concat(cols, axis =1)\n",
    "    agg.columns = names\n",
    "    if dropnan:\n",
    "        agg.dropna(inplace = True)\n",
    "    return agg"
   ]
  },
  {
   "cell_type": "code",
   "execution_count": 37,
   "metadata": {},
   "outputs": [
    {
     "name": "stdout",
     "output_type": "stream",
     "text": [
      "   var1(t-1)  var2(t-1)  var3(t-1)   var1(t)   var2(t)   var3(t)\n",
      "1   0.240938   0.488038   0.044724  0.243070  0.435407  0.045354\n",
      "2   0.243070   0.435407   0.045354  0.240938  0.617225  0.042520\n",
      "3   0.240938   0.617225   0.042520  0.243070  0.401914  0.051654\n",
      "4   0.243070   0.401914   0.051654  0.240938  0.559809  0.046614\n",
      "5   0.240938   0.559809   0.046614  0.211087  0.397129  0.051969\n",
      "   var1(t-1)  var1(t)\n",
      "1     2133.0   2135.0\n",
      "2     2135.0   2126.0\n",
      "3     2126.0   2155.0\n",
      "4     2155.0   2139.0\n",
      "5     2139.0   2156.0\n"
     ]
    }
   ],
   "source": [
    "\n",
    "dataset_stock = read_csv('stock1.csv', header = 0, index_col=0)\n",
    "dataset = read_csv('input.csv', header = 0, index_col=0)\n",
    "values = dataset.values\n",
    "values_stock = dataset_stock.values\n",
    "encoder = LabelEncoder()\n",
    "values[:,1] = encoder.fit_transform(values[:,1])\n",
    "values = values.astype('float32')\n",
    "values_stock = values_stock.astype('float32')\n",
    "scaler = MinMaxScaler(feature_range=(0, 1))\n",
    "scaled = scaler.fit_transform(values)\n",
    "reframed = series_to_supervised(scaled, 1, 1)\n",
    "reframed_stock = series_to_supervised(values_stock, 1, 1)\n",
    "print(reframed.head())\n",
    "print(reframed_stock.head())"
   ]
  },
  {
   "cell_type": "code",
   "execution_count": 38,
   "metadata": {},
   "outputs": [
    {
     "name": "stdout",
     "output_type": "stream",
     "text": [
      "((673, 1, 5), (673,), (5, 1, 5), (5,))\n",
      "(array([[ 3050.],\n",
      "       [ 2992.],\n",
      "       [ 2994.],\n",
      "       [ 2979.],\n",
      "       [ 2953.]], dtype=float32), array([ 0.31527555,  0.31590551,  0.31118107,  0.30299211,  0.3086614 ], dtype=float32))\n"
     ]
    }
   ],
   "source": [
    "values = reframed.values\n",
    "values_stock = reframed_stock.values\n",
    "n_train_hours = 673\n",
    "train = values[:n_train_hours, :]\n",
    "test = values[n_train_hours:, :]\n",
    "test_stock = values_stock[n_train_hours:, :]\n",
    "\n",
    "train_X, train_y = train[:,:-1], train[:, -1]\n",
    "test_X, test_y = test[:, :-1], test[:,-1]\n",
    "test_stock_X, test_stock_y = test_stock[:,:-1],test[:,-1]\n",
    "\n",
    "train_X = train_X.reshape((train_X.shape[0], 1, train_X.shape[1]))\n",
    "test_X = test_X.reshape((test_X.shape[0], 1, test_X.shape[1]))\n",
    "print(train_X.shape, train_y.shape, test_X.shape, test_y.shape)\n",
    "print(test_stock_X, test_stock_y)"
   ]
  },
  {
   "cell_type": "code",
   "execution_count": 39,
   "metadata": {},
   "outputs": [
    {
     "name": "stdout",
     "output_type": "stream",
     "text": [
      "('> Compilation Time :', 0.022957801818847656)\n",
      "Train on 673 samples, validate on 5 samples\n",
      "Epoch 1/50\n",
      "3s - loss: 0.0034 - val_loss: 1.1279e-04\n",
      "Epoch 2/50\n",
      "2s - loss: 0.0041 - val_loss: 1.1339e-04\n",
      "Epoch 3/50\n",
      "2s - loss: 0.0033 - val_loss: 7.7160e-05\n",
      "Epoch 4/50\n",
      "2s - loss: 0.0029 - val_loss: 7.9774e-05\n",
      "Epoch 5/50\n",
      "2s - loss: 0.0028 - val_loss: 8.5471e-05\n",
      "Epoch 6/50\n",
      "2s - loss: 0.0027 - val_loss: 6.2068e-05\n",
      "Epoch 7/50\n",
      "2s - loss: 0.0022 - val_loss: 8.9768e-05\n",
      "Epoch 8/50\n",
      "2s - loss: 0.0029 - val_loss: 8.0618e-05\n",
      "Epoch 9/50\n",
      "2s - loss: 0.0026 - val_loss: 4.9867e-05\n",
      "Epoch 10/50\n",
      "2s - loss: 0.0024 - val_loss: 8.8626e-05\n",
      "Epoch 11/50\n",
      "2s - loss: 0.0025 - val_loss: 1.2393e-04\n",
      "Epoch 12/50\n",
      "2s - loss: 0.0021 - val_loss: 1.8243e-04\n",
      "Epoch 13/50\n",
      "2s - loss: 0.0027 - val_loss: 2.8673e-05\n",
      "Epoch 14/50\n",
      "2s - loss: 0.0021 - val_loss: 1.0520e-04\n",
      "Epoch 15/50\n",
      "2s - loss: 0.0020 - val_loss: 1.7134e-04\n",
      "Epoch 16/50\n",
      "2s - loss: 0.0021 - val_loss: 3.3164e-05\n",
      "Epoch 17/50\n",
      "2s - loss: 0.0020 - val_loss: 1.5392e-04\n",
      "Epoch 18/50\n",
      "2s - loss: 0.0019 - val_loss: 1.6099e-04\n",
      "Epoch 19/50\n",
      "2s - loss: 0.0020 - val_loss: 5.4048e-05\n",
      "Epoch 20/50\n",
      "2s - loss: 0.0020 - val_loss: 1.6726e-04\n",
      "Epoch 21/50\n",
      "2s - loss: 0.0018 - val_loss: 9.8484e-05\n",
      "Epoch 22/50\n",
      "2s - loss: 0.0019 - val_loss: 1.8791e-05\n",
      "Epoch 23/50\n",
      "2s - loss: 0.0018 - val_loss: 7.5024e-05\n",
      "Epoch 24/50\n",
      "2s - loss: 0.0019 - val_loss: 8.3265e-05\n",
      "Epoch 25/50\n",
      "2s - loss: 0.0019 - val_loss: 2.4310e-05\n",
      "Epoch 26/50\n",
      "2s - loss: 0.0018 - val_loss: 9.7508e-05\n",
      "Epoch 27/50\n",
      "2s - loss: 0.0021 - val_loss: 1.8259e-04\n",
      "Epoch 28/50\n",
      "2s - loss: 0.0018 - val_loss: 1.1055e-04\n",
      "Epoch 29/50\n",
      "2s - loss: 0.0017 - val_loss: 2.4935e-05\n",
      "Epoch 30/50\n",
      "2s - loss: 0.0018 - val_loss: 8.3902e-05\n",
      "Epoch 31/50\n",
      "2s - loss: 0.0016 - val_loss: 4.0822e-05\n",
      "Epoch 32/50\n",
      "2s - loss: 0.0016 - val_loss: 5.0695e-05\n",
      "Epoch 33/50\n",
      "2s - loss: 0.0013 - val_loss: 1.0353e-04\n",
      "Epoch 34/50\n",
      "2s - loss: 0.0016 - val_loss: 6.6072e-05\n",
      "Epoch 35/50\n",
      "2s - loss: 0.0017 - val_loss: 6.9020e-04\n",
      "Epoch 36/50\n",
      "2s - loss: 0.0016 - val_loss: 2.5487e-05\n",
      "Epoch 37/50\n",
      "2s - loss: 0.0015 - val_loss: 3.9221e-05\n",
      "Epoch 38/50\n",
      "2s - loss: 0.0016 - val_loss: 7.7873e-05\n",
      "Epoch 39/50\n",
      "2s - loss: 0.0012 - val_loss: 1.6564e-04\n",
      "Epoch 40/50\n",
      "2s - loss: 0.0015 - val_loss: 5.1158e-05\n",
      "Epoch 41/50\n",
      "2s - loss: 0.0014 - val_loss: 3.6478e-05\n",
      "Epoch 42/50\n",
      "2s - loss: 0.0013 - val_loss: 3.8309e-05\n",
      "Epoch 43/50\n",
      "2s - loss: 0.0017 - val_loss: 5.4527e-05\n",
      "Epoch 44/50\n",
      "2s - loss: 0.0016 - val_loss: 3.2233e-05\n",
      "Epoch 45/50\n",
      "2s - loss: 0.0015 - val_loss: 1.0327e-04\n",
      "Epoch 46/50\n",
      "2s - loss: 0.0014 - val_loss: 4.9797e-05\n",
      "Epoch 47/50\n",
      "2s - loss: 0.0015 - val_loss: 1.4498e-04\n",
      "Epoch 48/50\n",
      "2s - loss: 0.0014 - val_loss: 4.3804e-05\n",
      "Epoch 49/50\n",
      "2s - loss: 0.0014 - val_loss: 5.2843e-05\n",
      "Epoch 50/50\n",
      "2s - loss: 0.0015 - val_loss: 1.4915e-04\n"
     ]
    }
   ],
   "source": [
    "model = Sequential()\n",
    "model.add(LSTM(20, input_shape=(train_X.shape[1], train_X.shape[2]),return_sequences=True))\n",
    "model.add(Dropout(0.2))\n",
    "model.add(LSTM(100,return_sequences=False))\n",
    "model.add(Dropout(0.2))\n",
    "model.add(Dense(1))\n",
    "model.add(Activation(\"linear\"))\n",
    "start = time.time()\n",
    "model.add(Dense(1))\n",
    "model.compile(loss='mse', optimizer='rmsprop')\n",
    "print(\"> Compilation Time :\", time.time() - start)\n",
    "history = model.fit(train_X, train_y, epochs=50, batch_size=1, validation_data=(test_X, test_y), verbose=2, shuffle=False)\n"
   ]
  },
  {
   "cell_type": "code",
   "execution_count": 40,
   "metadata": {},
   "outputs": [
    {
     "data": {
      "image/png": "[encoded data removed]",
      "text/plain": [
       "<matplotlib.figure.Figure at 0x7f7104d8a490>"
      ]
     },
     "metadata": {},
     "output_type": "display_data"
    }
   ],
   "source": [
    "plt.plot(history.history['loss'], label='train')\n",
    "plt.plot(history.history['val_loss'], label='test')\n",
    "plt.legend()\n",
    "plt.show()"
   ]
  },
  {
   "cell_type": "code",
   "execution_count": 41,
   "metadata": {},
   "outputs": [
    {
     "name": "stdout",
     "output_type": "stream",
     "text": [
      "[[ 0.3144781 ]\n",
      " [ 0.32715607]\n",
      " [ 0.32302946]\n",
      " [ 0.31535196]\n",
      " [ 0.32670045]]\n"
     ]
    }
   ],
   "source": [
    "yhat =  model.predict(test_X)\n",
    "test_X = test_X.reshape((test_X.shape[0], test_X.shape[2]))\n",
    "print yhat\n",
    "inv_yhat = concatenate((yhat, test_X[:,1:]), axis=1)\n",
    "\n",
    "#inv_yhat = scaler.inverse_transform(inv_yhat)\n",
    "inv_yhat = inv_yhat[:,0]\n",
    "\n",
    "test_y = test_y.reshape((len(test_y), 1))\n",
    "inv_y = concatenate((test_y, test_X[:, 1:]), axis =1)\n",
    "#inv_y = scaler.inverse_transform(inv_y)\n",
    "inv_y = inv_y[:,0]\n"
   ]
  },
  {
   "cell_type": "code",
   "execution_count": 42,
   "metadata": {},
   "outputs": [
    {
     "name": "stdout",
     "output_type": "stream",
     "text": [
      "Test RMSE: 0.012\n"
     ]
    },
    {
     "data": {
      "image/png": "[encoded data removed]",
      "text/plain": [
       "<matplotlib.figure.Figure at 0x7f71025e3fd0>"
      ]
     },
     "metadata": {},
     "output_type": "display_data"
    }
   ],
   "source": [
    "rmse = sqrt(mean_squared_error(inv_y, inv_yhat))\n",
    "print('Test RMSE: %.3f' % rmse)\n",
    "plot_results(inv_y, inv_yhat)"
   ]
  },
  {
   "cell_type": "code",
   "execution_count": 43,
   "metadata": {},
   "outputs": [
    {
     "name": "stdout",
     "output_type": "stream",
     "text": [
      "Real MSE: 0.012\n"
     ]
    },
    {
     "data": {
      "image/png": "[encoded data removed]",
      "text/plain": [
       "<matplotlib.figure.Figure at 0x7f7100f6fbd0>"
      ]
     },
     "metadata": {},
     "output_type": "display_data"
    }
   ],
   "source": [
    "mse = sqrt(mean_squared_error(test_stock_y, yhat))\n",
    "print('Real MSE: %.3f' % mse)\n",
    "plot_results(test_stock_y, yhat)"
   ]
  },
  {
   "cell_type": "code",
   "execution_count": null,
   "metadata": {
    "collapsed": true
   },
   "outputs": [],
   "source": []
  }
 ],
 "metadata": {
  "kernelspec": {
   "display_name": "Python 2",
   "language": "python",
   "name": "python2"
  },
  "language_info": {
   "codemirror_mode": {
    "name": "ipython",
    "version": 2
   },
   "file_extension": ".py",
   "mimetype": "text/x-python",
   "name": "python",
   "nbconvert_exporter": "python",
   "pygments_lexer": "ipython2",
   "version": "2.7.12"
  }
 },
 "nbformat": 4,
 "nbformat_minor": 2
}
