{
 "cells": [
  {
   "cell_type": "code",
   "execution_count": 89,
   "metadata": {},
   "outputs": [],
   "source": [
    "import os\n",
    "import time\n",
    "import warnings\n",
    "import numpy as np\n",
    "import matplotlib.pyplot as plt\n",
    "from math import sqrt\n",
    "from numpy import newaxis, concatenate\n",
    "#from numpy import *\n",
    "from keras.layers.core import Dense, Activation, Dropout\n",
    "from keras.layers.recurrent import LSTM\n",
    "from sklearn.metrics import mean_squared_error\n",
    "from pandas import read_csv, DataFrame,concat\n",
    "from sklearn.preprocessing import MinMaxScaler\n",
    "from sklearn.preprocessing import LabelEncoder\n",
    "from sklearn.metrics import mean_squared_error\n",
    "from keras.models import Sequential"
   ]
  },
  {
   "cell_type": "code",
   "execution_count": 90,
   "metadata": {
    "collapsed": true
   },
   "outputs": [],
   "source": [
    "def series_to_supervised(data, n_in=1, n_out=1, dropnan=True):\n",
    "    n_vars = 1 if type(data) is list else data.shape[1]\n",
    "    df = DataFrame(data)\n",
    "    cols, names = list(),list()\n",
    "    for i in range(n_in, 0 ,-1):\n",
    "        cols.append(df.shift(i))\n",
    "        names += [('var%d(t-%d)' % (j+1,i)) for j in range(n_vars)]\n",
    "    for i in range(0, n_out):\n",
    "        cols.append(df.shift(-i))\n",
    "        if i == 0:\n",
    "            names += [('var%d(t)' % (j+1)) for j in range(n_vars)]\n",
    "        else:\n",
    "            names += [('var%d(t+%d)' % (j+1, i)) for j in range(n_vars)]\n",
    "    agg = concat(cols, axis =1)\n",
    "    agg.columns = names\n",
    "    if dropnan:\n",
    "        agg.dropna(inplace = True)\n",
    "    return agg\n",
    "\n",
    "def plot_results(predicted_data, true_data):\n",
    "    fig = plt.figure(facecolor='white')\n",
    "    ax = fig.add_subplot(111)\n",
    "    ax.plot(true_data, label='True Data')\n",
    "    plt.plot(predicted_data, label='Prediction')\n",
    "    plt.legend()\n",
    "    plt.show()"
   ]
  },
  {
   "cell_type": "code",
   "execution_count": 91,
   "metadata": {},
   "outputs": [
    {
     "name": "stdout",
     "output_type": "stream",
     "text": [
      "   var1(t-1)   var1(t)\n",
      "1   0.182609  0.191304\n",
      "2   0.191304  0.182609\n",
      "3   0.182609  0.191304\n",
      "4   0.191304  0.182609\n",
      "5   0.182609  0.104348\n",
      "   var1(t-1)   var1(t)\n",
      "1   0.157798  0.161468\n",
      "2   0.161468  0.150459\n",
      "3   0.150459  0.177982\n",
      "4   0.177982  0.166972\n",
      "5   0.166972  0.179817\n"
     ]
    }
   ],
   "source": [
    "dataset = read_csv('fai1.csv', header = 0, index_col=0)\n",
    "dataset_stock = read_csv('stock1.csv', header = 0, index_col=0)\n",
    "values = dataset.values\n",
    "values_stock = dataset_stock.values\n",
    "encoder = LabelEncoder()\n",
    "values[:,0] = encoder.fit_transform(values[:,0])\n",
    "values_stock[:,0] = encoder.fit_transform(values_stock[:,0])\n",
    "values = values.astype('float32')\n",
    "values_stock = values_stock.astype('float32')\n",
    "scaler = MinMaxScaler(feature_range=(0, 1))\n",
    "scaled = scaler.fit_transform(values)\n",
    "scaled_stock = scaler.fit_transform(values_stock)\n",
    "reframed = series_to_supervised(scaled, 1, 1)\n",
    "reframed_stock = series_to_supervised(scaled_stock, 1, 1)\n",
    "print(reframed.head())\n",
    "print(reframed_stock.head())"
   ]
  },
  {
   "cell_type": "code",
   "execution_count": 92,
   "metadata": {},
   "outputs": [
    {
     "name": "stdout",
     "output_type": "stream",
     "text": [
      "((673, 1, 1), (673,), (5, 1, 1), (5,))\n",
      "((673, 1, 1), (673,), (5, 1, 1), (5,))\n"
     ]
    }
   ],
   "source": [
    "values = reframed.values\n",
    "values_stock = reframed_stock.values\n",
    "n_train_hours = 673\n",
    "n_end = n_train_hours + 5\n",
    "train = values[:n_train_hours, :]\n",
    "train_stock = values_stock[:n_train_hours,:]\n",
    "test = values[n_train_hours:n_end :]\n",
    "test_stock = values_stock[n_train_hours:n_end:]\n",
    "train_X, train_y = train[:,:-1], train[:, -1]\n",
    "train_stock_X, train_stock_y = train_stock[:,:-1], train_stock[:, -1]\n",
    "test_X, test_y = test[:, :-1], test[:,-1]\n",
    "test_stock_X, test_stock_y = test_stock[:, :-1], test_stock[:,-1] \n",
    "train_X = train_X.reshape((train_X.shape[0], 1, train_X.shape[1]))\n",
    "train_stock_X = train_stock_X.reshape((train_stock_X.shape[0], 1, train_stock_X.shape[1]))\n",
    "test_X = test_X.reshape((test_X.shape[0], 1, test_X.shape[1]))\n",
    "test_stock_X = test_stock_X.reshape((test_stock_X.shape[0], 1, test_stock_X.shape[1]))\n",
    "print(train_X.shape, train_y.shape, test_X.shape, test_y.shape)\n",
    "print(train_stock_X.shape, train_stock_y.shape, test_stock_X.shape, test_stock_y.shape)"
   ]
  },
  {
   "cell_type": "code",
   "execution_count": 93,
   "metadata": {},
   "outputs": [
    {
     "name": "stdout",
     "output_type": "stream",
     "text": [
      "('> Compilation Time :', 0.02461099624633789)\n",
      "Train on 673 samples, validate on 5 samples\n",
      "Epoch 1/50\n",
      "4s - loss: 0.0255 - val_loss: 0.0011\n",
      "Epoch 2/50\n",
      "2s - loss: 0.0211 - val_loss: 3.6379e-04\n",
      "Epoch 3/50\n",
      "2s - loss: 0.0211 - val_loss: 4.0246e-04\n",
      "Epoch 4/50\n",
      "2s - loss: 0.0207 - val_loss: 0.0015\n",
      "Epoch 5/50\n",
      "2s - loss: 0.0201 - val_loss: 0.0031\n",
      "Epoch 6/50\n",
      "2s - loss: 0.0205 - val_loss: 3.1852e-04\n",
      "Epoch 7/50\n",
      "2s - loss: 0.0191 - val_loss: 0.0015\n",
      "Epoch 8/50\n",
      "2s - loss: 0.0194 - val_loss: 0.0020\n",
      "Epoch 9/50\n",
      "2s - loss: 0.0189 - val_loss: 0.0018\n",
      "Epoch 10/50\n",
      "2s - loss: 0.0190 - val_loss: 0.0014\n",
      "Epoch 11/50\n",
      "2s - loss: 0.0190 - val_loss: 8.7596e-04\n",
      "Epoch 12/50\n",
      "2s - loss: 0.0191 - val_loss: 0.0014\n",
      "Epoch 13/50\n",
      "2s - loss: 0.0186 - val_loss: 0.0029\n",
      "Epoch 14/50\n",
      "2s - loss: 0.0192 - val_loss: 0.0013\n",
      "Epoch 15/50\n",
      "2s - loss: 0.0190 - val_loss: 0.0012\n",
      "Epoch 16/50\n",
      "2s - loss: 0.0194 - val_loss: 5.8707e-05\n",
      "Epoch 17/50\n",
      "2s - loss: 0.0193 - val_loss: 6.3068e-04\n",
      "Epoch 18/50\n",
      "2s - loss: 0.0189 - val_loss: 5.5962e-04\n",
      "Epoch 19/50\n",
      "2s - loss: 0.0188 - val_loss: 7.5748e-04\n",
      "Epoch 20/50\n",
      "2s - loss: 0.0193 - val_loss: 2.8155e-04\n",
      "Epoch 21/50\n",
      "2s - loss: 0.0185 - val_loss: 8.1737e-05\n",
      "Epoch 22/50\n",
      "2s - loss: 0.0187 - val_loss: 2.4886e-04\n",
      "Epoch 23/50\n",
      "2s - loss: 0.0195 - val_loss: 1.3685e-04\n",
      "Epoch 24/50\n",
      "2s - loss: 0.0187 - val_loss: 3.6060e-04\n",
      "Epoch 25/50\n",
      "2s - loss: 0.0193 - val_loss: 2.5936e-04\n",
      "Epoch 26/50\n",
      "2s - loss: 0.0190 - val_loss: 2.2396e-04\n",
      "Epoch 27/50\n",
      "2s - loss: 0.0192 - val_loss: 5.3683e-04\n",
      "Epoch 28/50\n",
      "2s - loss: 0.0196 - val_loss: 1.7729e-05\n",
      "Epoch 29/50\n",
      "2s - loss: 0.0193 - val_loss: 6.0068e-06\n",
      "Epoch 30/50\n",
      "2s - loss: 0.0194 - val_loss: 1.2598e-05\n",
      "Epoch 31/50\n",
      "2s - loss: 0.0187 - val_loss: 1.1068e-05\n",
      "Epoch 32/50\n",
      "2s - loss: 0.0196 - val_loss: 7.6533e-05\n",
      "Epoch 33/50\n",
      "2s - loss: 0.0191 - val_loss: 6.7458e-05\n",
      "Epoch 34/50\n",
      "2s - loss: 0.0205 - val_loss: 2.8431e-04\n",
      "Epoch 35/50\n",
      "2s - loss: 0.0191 - val_loss: 4.9346e-06\n",
      "Epoch 36/50\n",
      "2s - loss: 0.0200 - val_loss: 5.4825e-05\n",
      "Epoch 37/50\n",
      "2s - loss: 0.0199 - val_loss: 8.4734e-06\n",
      "Epoch 38/50\n",
      "2s - loss: 0.0197 - val_loss: 9.9084e-05\n",
      "Epoch 39/50\n",
      "2s - loss: 0.0205 - val_loss: 1.5828e-04\n",
      "Epoch 40/50\n",
      "2s - loss: 0.0199 - val_loss: 1.1934e-05\n",
      "Epoch 41/50\n",
      "2s - loss: 0.0190 - val_loss: 1.3170e-04\n",
      "Epoch 42/50\n",
      "3s - loss: 0.0206 - val_loss: 8.0641e-07\n",
      "Epoch 43/50\n",
      "2s - loss: 0.0204 - val_loss: 9.2107e-05\n",
      "Epoch 44/50\n",
      "2s - loss: 0.0210 - val_loss: 4.5932e-05\n",
      "Epoch 45/50\n",
      "2s - loss: 0.0192 - val_loss: 1.6174e-04\n",
      "Epoch 46/50\n",
      "2s - loss: 0.0211 - val_loss: 1.5317e-04\n",
      "Epoch 47/50\n",
      "2s - loss: 0.0210 - val_loss: 9.4644e-06\n",
      "Epoch 48/50\n",
      "2s - loss: 0.0196 - val_loss: 3.0244e-04\n",
      "Epoch 49/50\n",
      "2s - loss: 0.0194 - val_loss: 1.5208e-04\n",
      "Epoch 50/50\n",
      "2s - loss: 0.0199 - val_loss: 1.2617e-04\n"
     ]
    }
   ],
   "source": [
    "model = Sequential()\n",
    "model.add(LSTM(20, input_shape=(train_X.shape[1], train_X.shape[2]),return_sequences=True))\n",
    "model.add(Dropout(0.2))\n",
    "model.add(LSTM(100,return_sequences=False))\n",
    "model.add(Dropout(0.2))\n",
    "model.add(Dense(1))\n",
    "model.add(Activation(\"linear\"))\n",
    "start = time.time()\n",
    "model.add(Dense(1))\n",
    "model.compile(loss='mse', optimizer='rmsprop')\n",
    "print(\"> Compilation Time :\", time.time() - start)\n",
    "history = model.fit(train_X, train_y, epochs=50, batch_size=1, validation_data=(test_X, test_y), verbose=2, shuffle=False)\n"
   ]
  },
  {
   "cell_type": "code",
   "execution_count": 94,
   "metadata": {},
   "outputs": [
    {
     "data": {
      "image/png": "[encoded data removed]",
      "text/plain": [
       "<matplotlib.figure.Figure at 0x7fa13fd2a950>"
      ]
     },
     "metadata": {},
     "output_type": "display_data"
    }
   ],
   "source": [
    "plt.plot(history.history['loss'], label='train')\n",
    "plt.plot(history.history['val_loss'], label='test')\n",
    "plt.legend()\n",
    "plt.show()"
   ]
  },
  {
   "cell_type": "code",
   "execution_count": 95,
   "metadata": {},
   "outputs": [
    {
     "name": "stdout",
     "output_type": "stream",
     "text": [
      "[[ 0.5713762]\n",
      " [ 0.5713762]\n",
      " [ 0.5713762]\n",
      " [ 0.5713762]\n",
      " [ 0.5713762]]\n",
      "[ 0.5713762  0.5713762  0.5713762  0.5713762  0.5713762]\n",
      "[ 0.58260864  0.58260864  0.58260864  0.58260864  0.58260864]\n"
     ]
    }
   ],
   "source": [
    "yhat =  model.predict(test_X)\n",
    "test_X = test_X.reshape((test_X.shape[0], test_X.shape[2]))\n",
    "print yhat\n",
    "inv_yhat = concatenate((yhat, test_X[:,1:]), axis=1)\n",
    "\n",
    "#inv_yhat = scaler.inverse_transform(inv_yhat)\n",
    "inv_yhat = inv_yhat[:,0]\n",
    "print inv_yhat\n",
    "\n",
    "test_y = test_y.reshape((len(test_y), 1))\n",
    "inv_y = concatenate((test_y, test_X[:, 1:]), axis =1)\n",
    "#inv_y = scaler.inverse_transform(inv_y)\n",
    "inv_y = inv_y[:,0]\n",
    "print inv_y"
   ]
  },
  {
   "cell_type": "code",
   "execution_count": 96,
   "metadata": {},
   "outputs": [
    {
     "name": "stdout",
     "output_type": "stream",
     "text": [
      "Test RMSE: 0.011\n"
     ]
    },
    {
     "data": {
      "image/png": "[encoded data removed]",
      "text/plain": [
       "<matplotlib.figure.Figure at 0x7fa141771ad0>"
      ]
     },
     "metadata": {},
     "output_type": "display_data"
    }
   ],
   "source": [
    "rmse = sqrt(mean_squared_error(inv_y, inv_yhat))\n",
    "print('Test RMSE: %.3f' % rmse)\n",
    "plot_results(inv_y, inv_yhat)"
   ]
  },
  {
   "cell_type": "code",
   "execution_count": null,
   "metadata": {},
   "outputs": [],
   "source": []
  },
  {
   "cell_type": "code",
   "execution_count": 97,
   "metadata": {},
   "outputs": [
    {
     "name": "stdout",
     "output_type": "stream",
     "text": [
      "[[[ 0.56146789]]\n",
      "\n",
      " [[ 0.50825691]]\n",
      "\n",
      " [[ 0.51009172]]\n",
      "\n",
      " [[ 0.50091743]]\n",
      "\n",
      " [[ 0.48440367]]]\n",
      "[ 0.50825691  0.51009172  0.50091743  0.48440367  0.49541286]\n",
      "[ 0.50825691  0.51009172  0.50091743  0.48440367  0.49541286] [ 0.5713762  0.5713762  0.5713762  0.5713762  0.5713762]\n",
      "Test RMSE: 0.072\n"
     ]
    },
    {
     "data": {
      "image/png": "[encoded data removed]",
      "text/plain": [
       "<matplotlib.figure.Figure at 0x7fa14845b850>"
      ]
     },
     "metadata": {},
     "output_type": "display_data"
    }
   ],
   "source": [
    "#print test_stock_X\n",
    "test_stock_X = test_stock_X.reshape((test_stock_X.shape[0], test_stock_X.shape[2]))\n",
    "test_stock_y = test_stock_y.reshape((len(test_stock_y), 1))\n",
    "stock_y = concatenate((test_stock_y, test_stock_X[:, 1:]), axis =1)\n",
    "stock_y = stock_y[:,0]\n",
    "#print stock_y\n",
    "#stock_y = stock_y * 0.002\n",
    "print stock_y, inv_yhat\n",
    "rmse = sqrt(mean_squared_error(stock_y, inv_yhat))\n",
    "print('Test RMSE: %.3f' % rmse)\n",
    "plot_results(stock_y, inv_yhat)"
   ]
  },
  {
   "cell_type": "code",
   "execution_count": null,
   "metadata": {
    "collapsed": true
   },
   "outputs": [],
   "source": []
  }
 ],
 "metadata": {
  "kernelspec": {
   "display_name": "Python 2",
   "language": "python",
   "name": "python2"
  },
  "language_info": {
   "codemirror_mode": {
    "name": "ipython",
    "version": 2
   },
   "file_extension": ".py",
   "mimetype": "text/x-python",
   "name": "python",
   "nbconvert_exporter": "python",
   "pygments_lexer": "ipython2",
   "version": "2.7.12"
  }
 },
 "nbformat": 4,
 "nbformat_minor": 2
}
