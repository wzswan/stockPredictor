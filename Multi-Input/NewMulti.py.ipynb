{
 "cells": [
  {
   "cell_type": "code",
   "execution_count": 1,
   "metadata": {},
   "outputs": [
    {
     "name": "stderr",
     "output_type": "stream",
     "text": [
      "Using TensorFlow backend.\n"
     ]
    }
   ],
   "source": [
    "import os\n",
    "import time\n",
    "import warnings\n",
    "import numpy as np\n",
    "import matplotlib.pyplot as plt\n",
    "from math import sqrt\n",
    "from numpy import newaxis, concatenate\n",
    "from keras.layers.core import Dense, Activation, Dropout\n",
    "from keras.layers.recurrent import LSTM\n",
    "from sklearn.metrics import mean_squared_error\n",
    "from pandas import read_csv, DataFrame,concat\n",
    "from sklearn.preprocessing import MinMaxScaler\n",
    "from sklearn.preprocessing import LabelEncoder\n",
    "from sklearn.metrics import mean_squared_error\n",
    "from keras.models import Sequential"
   ]
  },
  {
   "cell_type": "code",
   "execution_count": 59,
   "metadata": {
    "collapsed": true
   },
   "outputs": [],
   "source": [
    "seq_len = 1\n",
    "def series_to_supervised(data, n_in=1, n_out=1, dropnan=True):\n",
    "    n_vars = 1 if type(data) is list else data.shape[1]\n",
    "    df = DataFrame(data)\n",
    "    cols, names = list(),list()\n",
    "    for i in range(n_in, 0 ,-1):\n",
    "        cols.append(df.shift(i))\n",
    "        names += [('var%d(t-%d)' % (j+1,i)) for j in range(n_vars)]\n",
    "    for i in range(0, n_out):\n",
    "        cols.append(df.shift(-i))\n",
    "        if i == 0:\n",
    "            names += [('var%d(t)' % (j+1)) for j in range(n_vars)]\n",
    "        else:\n",
    "            names += [('var%d(t+%d)' % (j+1, i)) for j in range(n_vars)]\n",
    "    agg = concat(cols, axis =1)\n",
    "    agg.columns = names\n",
    "    if dropnan:\n",
    "        agg.dropna(inplace = True)\n",
    "    return agg\n",
    "\n",
    "def plot_results(predicted_data, true_data):\n",
    "    fig = plt.figure(facecolor='white')\n",
    "    ax = fig.add_subplot(111)\n",
    "    ax.plot(true_data, label='True Data')\n",
    "    plt.plot(predicted_data, label='Prediction')\n",
    "    plt.legend()\n",
    "    plt.show()\n",
    "def predict_sequences_full(model, data, window_size):\n",
    "    #Shift the window by 1 new prediction each time, re-run predictions on new window\n",
    "    curr_frame = data[0]\n",
    "    predicted = []\n",
    "    for i in range(len(data)):\n",
    "        predicted.append(model.predict(curr_frame[newaxis,:,:])[0,0])\n",
    "        curr_frame = curr_frame[1:]\n",
    "        curr_frame = np.insert(curr_frame, window_size-1,predicted[-1], axis=0)\n",
    "    return predicted"
   ]
  },
  {
   "cell_type": "code",
   "execution_count": 80,
   "metadata": {},
   "outputs": [
    {
     "name": "stdout",
     "output_type": "stream",
     "text": [
      "   var1(t-1)  var2(t-1)  var3(t-1)   var1(t)   var2(t)   var3(t)\n",
      "1   0.240938   0.609842   0.157798  0.243070  0.590510  0.161468\n",
      "2   0.243070   0.590510   0.161468  0.240938  0.657293  0.150459\n",
      "3   0.240938   0.657293   0.150459  0.243070  0.578207  0.177982\n",
      "4   0.243070   0.578207   0.177982  0.240938  0.636204  0.166972\n",
      "5   0.240938   0.636204   0.166972  0.211087  0.576450  0.179817\n"
     ]
    }
   ],
   "source": [
    "dataset = read_csv('input2.csv', header = None, index_col=0)\n",
    "dataset_stock = read_csv('stock.csv', header = None, index_col=None)\n",
    "values = dataset.values\n",
    "#print (values)\n",
    "values_stock = dataset_stock.values\n",
    "#print (values_stock)\n",
    "encoder = LabelEncoder()\n",
    "values[:,2] = encoder.fit_transform(values[:,2])\n",
    "values_stock[:,0] = encoder.fit_transform(values_stock[:,0])\n",
    "values = values.astype('float32')\n",
    "values_stock = values_stock.astype('float32')\n",
    "scaler = MinMaxScaler(feature_range=(0, 1))\n",
    "scaled = scaler.fit_transform(values)\n",
    "scaled_stock = scaler.fit_transform(values_stock)\n",
    "reframed = series_to_supervised(scaled, 1, 1)\n",
    "reframed_stock = series_to_supervised(scaled_stock, 1, 1)\n",
    "print(reframed.head())\n",
    "#print(reframed_stock.head())\n",
    "#print (scaled_stock)"
   ]
  },
  {
   "cell_type": "code",
   "execution_count": 120,
   "metadata": {},
   "outputs": [
    {
     "name": "stdout",
     "output_type": "stream",
     "text": [
      "(76, 1, 5) (76,) (5, 1, 5) (5,)\n",
      "(76, 1, 1) (76,) (5, 1, 1) (5,)\n"
     ]
    }
   ],
   "source": [
    "values = reframed.values\n",
    "values_stock = reframed_stock.values\n",
    "n_train_hours = 76\n",
    "n_end = n_train_hours + 5\n",
    "train = values[:n_train_hours, :]\n",
    "train_stock = values_stock[:n_train_hours,:]\n",
    "test = values[n_train_hours:n_end :]\n",
    "test_stock = values_stock[n_train_hours:n_end:]\n",
    "train_X, train_y = train[:,:-1], train[:, -1]\n",
    "train_stock_X, train_stock_y = train_stock[:,:-1], train_stock[:, -1]\n",
    "test_X, test_y = test[:, :-1], test[:,-1]\n",
    "test_stock_X, test_stock_y = test_stock[:, :-1], test_stock[:,-1] \n",
    "train_X = train_X.reshape((train_X.shape[0], 1, train_X.shape[1]))\n",
    "train_stock_X = train_stock_X.reshape((train_stock_X.shape[0], 1, train_stock_X.shape[1]))\n",
    "test_X = test_X.reshape((test_X.shape[0], 1, test_X.shape[1]))\n",
    "test_stock_X = test_stock_X.reshape((test_stock_X.shape[0],1, test_stock_X.shape[1]))\n",
    "print(train_X.shape, train_y.shape, test_X.shape, test_y.shape)\n",
    "print(train_stock_X.shape, train_stock_y.shape, test_stock_X.shape, test_stock_y.shape)"
   ]
  },
  {
   "cell_type": "code",
   "execution_count": 121,
   "metadata": {
    "scrolled": true
   },
   "outputs": [
    {
     "name": "stdout",
     "output_type": "stream",
     "text": [
      "> Compilation Time : 0.04468560218811035\n",
      "Train on 76 samples, validate on 5 samples\n",
      "Epoch 1/1\n",
      "4s - loss: 0.0877 - val_loss: 0.0466\n"
     ]
    }
   ],
   "source": [
    "model = Sequential()\n",
    "model.add(LSTM(5, input_shape=(train_X.shape[1], train_X.shape[2]),return_sequences=True))\n",
    "model.add(Dropout(0.2))\n",
    "model.add(LSTM(100,return_sequences=False))\n",
    "model.add(Dropout(0.2))\n",
    "model.add(Dense(1))\n",
    "model.add(Activation(\"linear\"))\n",
    "start = time.time()\n",
    "model.add(Dense(1))\n",
    "model.compile(loss=\"mse\", optimizer=\"rmsprop\")\n",
    "print(\"> Compilation Time :\", time.time() - start)\n",
    "history = model.fit(train_X, train_y, epochs=1, batch_size=1, validation_data=(test_X, test_y), verbose=2, shuffle=False)\n",
    "#print (seq_len)\n",
    "predicted = predict_sequences_full(model, test_X, seq_len)"
   ]
  },
  {
   "cell_type": "code",
   "execution_count": 122,
   "metadata": {
    "scrolled": true
   },
   "outputs": [
    {
     "name": "stdout",
     "output_type": "stream",
     "text": [
      "5\n"
     ]
    },
    {
     "data": {
      "image/png": "[encoded data removed]",
      "text/plain": [
       "<matplotlib.figure.Figure at 0x7ff2f2ee4e48>"
      ]
     },
     "metadata": {},
     "output_type": "display_data"
    }
   ],
   "source": [
    "#print (predicted)\n",
    "l = len(predicted)\n",
    "print (l)\n",
    "plt.plot(history.history['loss'], label='train')\n",
    "plt.plot(history.history['val_loss'], label='test')\n",
    "plt.legend()\n",
    "plt.show()"
   ]
  },
  {
   "cell_type": "code",
   "execution_count": 123,
   "metadata": {},
   "outputs": [
    {
     "name": "stdout",
     "output_type": "stream",
     "text": [
      "[ 0.07565841  0.06248292  0.06196659  0.06194638  0.06194559] [ 0.16513762  0.14128441  0.10825688  0.04770642  0.05688073]\n",
      "MSE: 0.003317\n"
     ]
    },
    {
     "data": {
      "image/png": "[encoded data removed]",
      "text/plain": [
       "<matplotlib.figure.Figure at 0x7ff2f16dfe80>"
      ]
     },
     "metadata": {},
     "output_type": "display_data"
    }
   ],
   "source": [
    "predicted = np.reshape(predicted, (l,))\n",
    "\n",
    "print(predicted, test_stock_y)\n",
    "score = mean_squared_error(predicted, test_stock_y)\n",
    "    \n",
    "print(\"MSE: %f\" % score)\n",
    "plot_results(predicted, test_stock_y)"
   ]
  },
  {
   "cell_type": "code",
   "execution_count": null,
   "metadata": {
    "collapsed": true
   },
   "outputs": [],
   "source": []
  }
 ],
 "metadata": {
  "kernelspec": {
   "display_name": "Python 3",
   "language": "python",
   "name": "python3"
  },
  "language_info": {
   "codemirror_mode": {
    "name": "ipython",
    "version": 3
   },
   "file_extension": ".py",
   "mimetype": "text/x-python",
   "name": "python",
   "nbconvert_exporter": "python",
   "pygments_lexer": "ipython3",
   "version": "3.5.2"
  }
 },
 "nbformat": 4,
 "nbformat_minor": 2
}
