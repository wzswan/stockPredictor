{
 "cells": [
  {
   "cell_type": "code",
   "execution_count": 75,
   "metadata": {},
   "outputs": [],
   "source": [
    "import os\n",
    "import warnings\n",
    "import keras\n",
    "import time\n",
    "import matplotlib.pyplot as plt\n",
    "import numpy as np\n",
    "import pandas as pd\n",
    "from numpy import newaxis\n",
    "from keras.layers.core import  Activation, Dropout\n",
    "from keras.models import Model\n",
    "from keras.layers import Input, Embedding,LSTM, Dense,TimeDistributed, Reshape\n",
    "from keras import metrics\n",
    "from sklearn.metrics import mean_squared_error\n",
    "from math import sqrt\n",
    "from numpy import concatenate\n",
    "#from matplotlib import pyplot\n",
    "from pandas import read_csv\n",
    "from pandas import DataFrame\n",
    "from pandas import concat\n",
    "from sklearn.preprocessing import MinMaxScaler\n",
    "from sklearn.preprocessing import LabelEncoder"
   ]
  },
  {
   "cell_type": "code",
   "execution_count": 76,
   "metadata": {
    "collapsed": true
   },
   "outputs": [],
   "source": [
    "def series_to_supervised(data, n_in=1, n_out=1, dropnan=True):\n",
    "    n_vars = 1 if type(data) is list else data.shape[1]\n",
    "    df = DataFrame(data)\n",
    "    cols, names = list(),list()\n",
    "    for i in range(n_in, 0 ,-1):\n",
    "        cols.append(df.shift(i))\n",
    "        names += [('var%d(t-%d)' % (j+1,i)) for j in range(n_vars)]\n",
    "    for i in range(0, n_out):\n",
    "        cols.append(df.shift(-i))\n",
    "        if i == 0:\n",
    "            names += [('var%d(t)' % (j+1)) for j in range(n_vars)]\n",
    "        else:\n",
    "            names += [('var%d(t+%d)' % (j+1, i)) for j in range(n_vars)]\n",
    "    agg = concat(cols, axis =1)\n",
    "    agg.columns = names\n",
    "    if dropnan:\n",
    "        agg.dropna(inplace = True)\n",
    "    return agg"
   ]
  },
  {
   "cell_type": "code",
   "execution_count": 77,
   "metadata": {},
   "outputs": [
    {
     "name": "stdout",
     "output_type": "stream",
     "text": [
      "   var1(t-1)   var1(t)\n",
      "1   0.157798  0.161468\n",
      "2   0.161468  0.150459\n",
      "3   0.150459  0.177982\n",
      "4   0.177982  0.166972\n",
      "5   0.166972  0.179817\n"
     ]
    }
   ],
   "source": [
    "dataset_stock = read_csv('stock1.csv', header = 0, index_col=0)\n",
    "values_stock = dataset_stock.values\n",
    "encoder = LabelEncoder()\n",
    "values_stock[:,0] = encoder.fit_transform(values_stock[:,0])\n",
    "values_stock = values_stock.astype('float32')\n",
    "scaler = MinMaxScaler(feature_range=(0, 1))\n",
    "scaled_stock = scaler.fit_transform(values_stock)\n",
    "reframed_stock = series_to_supervised(scaled_stock, 1, 1)\n",
    "print(reframed_stock.head())"
   ]
  },
  {
   "cell_type": "code",
   "execution_count": 78,
   "metadata": {},
   "outputs": [
    {
     "name": "stdout",
     "output_type": "stream",
     "text": [
      "   var1(t-1)   var1(t)\n",
      "1   0.488038  0.435407\n",
      "2   0.435407  0.617225\n",
      "3   0.617225  0.401914\n",
      "4   0.401914  0.559809\n",
      "5   0.559809  0.397129\n"
     ]
    }
   ],
   "source": [
    "dataset_gap = read_csv('gap1.csv', header = 0, index_col=0)\n",
    "values_gap = dataset_gap.values\n",
    "encoder = LabelEncoder()\n",
    "values_gap[:,0] = encoder.fit_transform(values_gap[:,0])\n",
    "values_gap = values_gap.astype('float32')\n",
    "scaler = MinMaxScaler(feature_range=(0, 1))\n",
    "scaled_gap = scaler.fit_transform(values_gap)\n",
    "reframed_gap = series_to_supervised(scaled_gap, 1, 1)\n",
    "\n",
    "print(reframed_gap.head())\n",
    "#print values_gap"
   ]
  },
  {
   "cell_type": "code",
   "execution_count": 79,
   "metadata": {},
   "outputs": [
    {
     "name": "stdout",
     "output_type": "stream",
     "text": [
      "   var1(t-1)   var1(t)\n",
      "1   0.182609  0.191304\n",
      "2   0.191304  0.182609\n",
      "3   0.182609  0.191304\n",
      "4   0.191304  0.182609\n",
      "5   0.182609  0.104348\n"
     ]
    }
   ],
   "source": [
    "dataset_fai = read_csv('fai1.csv', header = 0, index_col=0)\n",
    "values_fai = dataset_fai.values\n",
    "encoder = LabelEncoder()\n",
    "values_fai[:,0] = encoder.fit_transform(values_fai[:,0])\n",
    "values_fai = values_fai.astype('float32')\n",
    "scaler = MinMaxScaler(feature_range=(0, 1))\n",
    "scaled_fai = scaler.fit_transform(values_fai)\n",
    "reframed_fai = series_to_supervised(scaled_fai, 1, 1)\n",
    "#reframed.drop(reframed.columns[[9,10,11,12,13,14,15]], axis = 1, inplace=True)\n",
    "print(reframed_fai.head())\n",
    "#print values_fai"
   ]
  },
  {
   "cell_type": "code",
   "execution_count": 80,
   "metadata": {},
   "outputs": [
    {
     "name": "stdout",
     "output_type": "stream",
     "text": [
      "((673, 1, 1), (673,), (5, 1, 1), (5,))\n",
      "(array([[[ 0.56146789]],\n",
      "\n",
      "       [[ 0.50825691]],\n",
      "\n",
      "       [[ 0.51009172]],\n",
      "\n",
      "       [[ 0.50091743]],\n",
      "\n",
      "       [[ 0.48440367]]], dtype=float32), array([ 0.50825691,  0.51009172,  0.50091743,  0.48440367,  0.49541286], dtype=float32))\n"
     ]
    }
   ],
   "source": [
    "values_stock = reframed_stock.values\n",
    "n_train_hours = 673\n",
    "train_stock = values_stock[:n_train_hours, :]\n",
    "\n",
    "test_stock = values_stock[n_train_hours:, :]\n",
    "\n",
    "train_X_stock, train_y_stock = train_stock[:,:-1], train_stock[:, -1]\n",
    "\n",
    "test_stock_X, test_stock_y = test_stock[:,:-1],test_stock[:,-1]\n",
    "\n",
    "train_X_stock = train_X_stock.reshape((train_X_stock.shape[0], 1, train_X_stock.shape[1]))\n",
    "test_stock_X = test_stock_X.reshape((test_stock_X.shape[0], 1, test_stock_X.shape[1]))\n",
    "print(train_X_stock.shape, train_y_stock.shape, test_stock_X.shape, test_stock_y.shape)\n",
    "print(test_stock_X, test_stock_y)"
   ]
  },
  {
   "cell_type": "code",
   "execution_count": 81,
   "metadata": {},
   "outputs": [
    {
     "name": "stdout",
     "output_type": "stream",
     "text": [
      "Tensor(\"stock_input_5:0\", shape=(?, 1, 1), dtype=float32)\n"
     ]
    }
   ],
   "source": [
    "stock_input = Input(shape=(train_X_stock.shape[1], train_X_stock.shape[2]), dtype='float32', name='stock_input')\n",
    "#stock_input = Embedding(output_dim=512, input_dim = 10000, input_length=1)(stock_input)\n",
    "\n",
    "#print lstm_out_stock_embedding\n",
    "print stock_input"
   ]
  },
  {
   "cell_type": "code",
   "execution_count": 82,
   "metadata": {},
   "outputs": [
    {
     "name": "stdout",
     "output_type": "stream",
     "text": [
      "Tensor(\"reshape_7/Reshape:0\", shape=(?, 1, 1), dtype=float32)\n"
     ]
    }
   ],
   "source": [
    "lstm_out_stock = LSTM(32)(stock_input)\n",
    "lstm_out_stock_cut = Dense(1)(lstm_out_stock)\n",
    "lstm_out_stock = Reshape((1,1))(lstm_out_stock_cut)\n",
    "print lstm_out_stock"
   ]
  },
  {
   "cell_type": "code",
   "execution_count": 83,
   "metadata": {
    "collapsed": true
   },
   "outputs": [],
   "source": [
    "stock_output = Dense(1, activation='linear', name='stock_output')(lstm_out_stock_cut)"
   ]
  },
  {
   "cell_type": "code",
   "execution_count": 84,
   "metadata": {},
   "outputs": [
    {
     "name": "stdout",
     "output_type": "stream",
     "text": [
      "((673, 1, 1), (673,), (5, 1, 1), (5,))\n",
      "(array([[[ 0.22009568]],\n",
      "\n",
      "       [[ 0.48803827]],\n",
      "\n",
      "       [[ 0.40669855]],\n",
      "\n",
      "       [[ 0.35406697]],\n",
      "\n",
      "       [[ 0.56459326]]], dtype=float32), array([ 0.48803827,  0.40669855,  0.35406697,  0.56459326,  0.5119617 ], dtype=float32))\n"
     ]
    }
   ],
   "source": [
    "values_gap = reframed_gap.values\n",
    "\n",
    "n_train_hours = 673\n",
    "train_gap = values_gap[:n_train_hours, :]\n",
    "\n",
    "test_gap = values_gap[n_train_hours:, :]\n",
    "\n",
    "train_X_gap, train_y_gap = train_gap[:,:-1], train_gap[:, -1]\n",
    "\n",
    "test_gap_X, test_gap_y = test_gap[:,:-1],test_gap[:,-1]\n",
    "\n",
    "train_X_gap = train_X_gap.reshape((train_X_gap.shape[0], 1, train_X_gap.shape[1]))\n",
    "test_gap_X = test_gap_X.reshape((test_gap_X.shape[0], 1, test_gap_X.shape[1]))\n",
    "print(train_X_gap.shape, train_y_gap.shape, test_gap_X.shape, test_gap_y.shape)\n",
    "print(test_gap_X, test_gap_y)"
   ]
  },
  {
   "cell_type": "code",
   "execution_count": 85,
   "metadata": {},
   "outputs": [
    {
     "name": "stdout",
     "output_type": "stream",
     "text": [
      "Tensor(\"gap_input_2:0\", shape=(?, 1, 1), dtype=float32)\n",
      "Tensor(\"reshape_7/Reshape:0\", shape=(?, 1, 1), dtype=float32)\n"
     ]
    }
   ],
   "source": [
    "gap_input = Input(shape=(train_X_gap.shape[1], train_X_gap.shape[2]),dtype='float32', name='gap_input')\n",
    "print gap_input\n",
    "print lstm_out_stock"
   ]
  },
  {
   "cell_type": "code",
   "execution_count": 86,
   "metadata": {},
   "outputs": [
    {
     "name": "stdout",
     "output_type": "stream",
     "text": [
      "Tensor(\"concatenate_5/concat:0\", shape=(?, 1, 2), dtype=float32)\n"
     ]
    }
   ],
   "source": [
    "#merg_first = keras.layers.concatenate([lstm_out_stock_embedding, gap_input])\n",
    "merg_first = keras.layers.concatenate([lstm_out_stock, gap_input])\n",
    "print merg_first "
   ]
  },
  {
   "cell_type": "code",
   "execution_count": 87,
   "metadata": {},
   "outputs": [
    {
     "name": "stdout",
     "output_type": "stream",
     "text": [
      "Tensor(\"reshape_8/Reshape:0\", shape=(?, 1, 1), dtype=float32)\n"
     ]
    }
   ],
   "source": [
    "#merg_first = Embedding(output_dim=512, input_dim = 10000, input_length=1)(merg_first)\n",
    "#print merg_first\n",
    "lstm_out_gap = LSTM(64)(merg_first)\n",
    "lstm_out_gap = LSTM(64)(merg_first)\n",
    "lstm_out_gap_cut = Dense(1)(lstm_out_gap)\n",
    "lstm_out_gap = Reshape((1,1))(lstm_out_gap_cut)\n",
    "print lstm_out_gap   "
   ]
  },
  {
   "cell_type": "code",
   "execution_count": 88,
   "metadata": {
    "collapsed": true
   },
   "outputs": [],
   "source": [
    "gap_output = Dense(1, activation='linear', name='gap_output')(lstm_out_gap_cut)"
   ]
  },
  {
   "cell_type": "code",
   "execution_count": 89,
   "metadata": {},
   "outputs": [
    {
     "name": "stdout",
     "output_type": "stream",
     "text": [
      "((673, 1, 1), (673,), (5, 1, 1), (5,))\n",
      "(array([[[ 0.58260864]],\n",
      "\n",
      "       [[ 0.58260864]],\n",
      "\n",
      "       [[ 0.58260864]],\n",
      "\n",
      "       [[ 0.58260864]],\n",
      "\n",
      "       [[ 0.58260864]]], dtype=float32), array([ 0.58260864,  0.58260864,  0.58260864,  0.58260864,  0.58260864], dtype=float32))\n"
     ]
    }
   ],
   "source": [
    "values_fai = reframed_fai.values\n",
    "n_train_hours = 673\n",
    "train_fai = values_fai[:n_train_hours, :]\n",
    "\n",
    "test_fai = values_fai[n_train_hours:, :]\n",
    "\n",
    "train_X_fai, train_y_fai = train_fai[:,:-1], train_fai[:, -1]\n",
    "\n",
    "test_fai_X, test_fai_y = test_fai[:,:-1],test_fai[:,-1]\n",
    "\n",
    "train_X_fai = train_X_fai.reshape((train_X_fai.shape[0], 1, train_X_fai.shape[1]))\n",
    "test_fai_X = test_fai_X.reshape((test_fai_X.shape[0], 1, test_fai_X.shape[1]))\n",
    "print(train_X_fai.shape, train_y_fai.shape, test_fai_X.shape, test_fai_y.shape)\n",
    "print(test_fai_X, test_fai_y)"
   ]
  },
  {
   "cell_type": "code",
   "execution_count": 90,
   "metadata": {},
   "outputs": [
    {
     "name": "stdout",
     "output_type": "stream",
     "text": [
      "Tensor(\"fai_input_2:0\", shape=(?, 1, 1), dtype=float32)\n",
      "Tensor(\"reshape_8/Reshape:0\", shape=(?, 1, 1), dtype=float32)\n"
     ]
    }
   ],
   "source": [
    "fai_input = Input(shape=(train_X_fai.shape[1], train_X_fai.shape[2]),dtype='float32', name='fai_input')\n",
    "print fai_input\n",
    "print lstm_out_gap"
   ]
  },
  {
   "cell_type": "code",
   "execution_count": 91,
   "metadata": {},
   "outputs": [
    {
     "name": "stdout",
     "output_type": "stream",
     "text": [
      "Tensor(\"concatenate_6/concat:0\", shape=(?, 1, 2), dtype=float32)\n"
     ]
    }
   ],
   "source": [
    "merg_second = keras.layers.concatenate([lstm_out_gap, fai_input])\n",
    "print merg_second"
   ]
  },
  {
   "cell_type": "code",
   "execution_count": 92,
   "metadata": {},
   "outputs": [
    {
     "name": "stdout",
     "output_type": "stream",
     "text": [
      "Tensor(\"dense_15/BiasAdd:0\", shape=(?, 1), dtype=float32)\n"
     ]
    }
   ],
   "source": [
    "lstm_out_fai = LSTM(128)(merg_second)\n",
    "lstm_out_fai = Dense(1)(lstm_out_fai)\n",
    "#lstm_out_fai = Reshape((1,1))(lstm_out_fai)\n",
    "print lstm_out_fai"
   ]
  },
  {
   "cell_type": "code",
   "execution_count": 93,
   "metadata": {
    "collapsed": true
   },
   "outputs": [],
   "source": [
    "x = Dense(64, activation='linear')(lstm_out_fai)\n",
    "\n",
    "main_output = Dense(1, activation='linear', name='main_output')(x)"
   ]
  },
  {
   "cell_type": "code",
   "execution_count": 94,
   "metadata": {
    "collapsed": true
   },
   "outputs": [],
   "source": [
    "model = Model(inputs=[stock_input, gap_input, fai_input], outputs=[stock_output, gap_output, main_output])"
   ]
  },
  {
   "cell_type": "code",
   "execution_count": 95,
   "metadata": {
    "collapsed": true
   },
   "outputs": [],
   "source": [
    "model.compile(optimizer='rmsprop',\n",
    "              loss={'stock_output':'mse', 'gap_output':'mse' ,'main_output':'mse'},\n",
    "             loss_weights={'main_output': 1., 'stock_output': 0.2, 'gap_output': 0.2})"
   ]
  },
  {
   "cell_type": "code",
   "execution_count": 96,
   "metadata": {},
   "outputs": [
    {
     "name": "stdout",
     "output_type": "stream",
     "text": [
      "Train on 673 samples, validate on 5 samples\n",
      "Epoch 1/50\n",
      "4s - loss: 0.0312 - stock_output_loss: 0.0015 - gap_output_loss: 0.0480 - main_output_loss: 0.0214 - val_loss: 0.0020 - val_stock_output_loss: 6.3108e-04 - val_gap_output_loss: 0.0060 - val_main_output_loss: 6.6913e-04\n",
      "Epoch 2/50\n",
      "3s - loss: 0.0267 - stock_output_loss: 0.0015 - gap_output_loss: 0.0414 - main_output_loss: 0.0181 - val_loss: 0.0021 - val_stock_output_loss: 9.2469e-04 - val_gap_output_loss: 0.0058 - val_main_output_loss: 7.9008e-04\n",
      "Epoch 3/50\n",
      "3s - loss: 0.0265 - stock_output_loss: 0.0014 - gap_output_loss: 0.0406 - main_output_loss: 0.0181 - val_loss: 0.0022 - val_stock_output_loss: 0.0014 - val_gap_output_loss: 0.0056 - val_main_output_loss: 7.7981e-04\n",
      "Epoch 4/50\n",
      "3s - loss: 0.0264 - stock_output_loss: 0.0014 - gap_output_loss: 0.0402 - main_output_loss: 0.0181 - val_loss: 0.0021 - val_stock_output_loss: 0.0013 - val_gap_output_loss: 0.0056 - val_main_output_loss: 7.4854e-04\n",
      "Epoch 5/50\n",
      "3s - loss: 0.0263 - stock_output_loss: 0.0013 - gap_output_loss: 0.0399 - main_output_loss: 0.0180 - val_loss: 0.0021 - val_stock_output_loss: 0.0012 - val_gap_output_loss: 0.0055 - val_main_output_loss: 7.0740e-04\n",
      "Epoch 6/50\n",
      "3s - loss: 0.0263 - stock_output_loss: 0.0013 - gap_output_loss: 0.0399 - main_output_loss: 0.0180 - val_loss: 0.0020 - val_stock_output_loss: 0.0012 - val_gap_output_loss: 0.0056 - val_main_output_loss: 6.8223e-04\n",
      "Epoch 7/50\n",
      "3s - loss: 0.0263 - stock_output_loss: 0.0013 - gap_output_loss: 0.0400 - main_output_loss: 0.0180 - val_loss: 0.0020 - val_stock_output_loss: 0.0011 - val_gap_output_loss: 0.0056 - val_main_output_loss: 6.3654e-04\n",
      "Epoch 8/50\n",
      "3s - loss: 0.0263 - stock_output_loss: 0.0013 - gap_output_loss: 0.0401 - main_output_loss: 0.0180 - val_loss: 0.0019 - val_stock_output_loss: 0.0011 - val_gap_output_loss: 0.0056 - val_main_output_loss: 5.9566e-04\n",
      "Epoch 9/50\n",
      "3s - loss: 0.0263 - stock_output_loss: 0.0013 - gap_output_loss: 0.0402 - main_output_loss: 0.0180 - val_loss: 0.0019 - val_stock_output_loss: 0.0011 - val_gap_output_loss: 0.0057 - val_main_output_loss: 5.5975e-04\n",
      "Epoch 10/50\n",
      "3s - loss: 0.0263 - stock_output_loss: 0.0013 - gap_output_loss: 0.0403 - main_output_loss: 0.0180 - val_loss: 0.0019 - val_stock_output_loss: 0.0011 - val_gap_output_loss: 0.0057 - val_main_output_loss: 5.2164e-04\n",
      "Epoch 11/50\n",
      "3s - loss: 0.0263 - stock_output_loss: 0.0013 - gap_output_loss: 0.0403 - main_output_loss: 0.0180 - val_loss: 0.0018 - val_stock_output_loss: 0.0010 - val_gap_output_loss: 0.0057 - val_main_output_loss: 4.9490e-04\n",
      "Epoch 12/50\n",
      "3s - loss: 0.0263 - stock_output_loss: 0.0013 - gap_output_loss: 0.0403 - main_output_loss: 0.0180 - val_loss: 0.0018 - val_stock_output_loss: 0.0010 - val_gap_output_loss: 0.0057 - val_main_output_loss: 4.6438e-04\n",
      "Epoch 13/50\n",
      "3s - loss: 0.0263 - stock_output_loss: 0.0013 - gap_output_loss: 0.0403 - main_output_loss: 0.0180 - val_loss: 0.0018 - val_stock_output_loss: 0.0010 - val_gap_output_loss: 0.0057 - val_main_output_loss: 4.3165e-04\n",
      "Epoch 14/50\n",
      "3s - loss: 0.0263 - stock_output_loss: 0.0013 - gap_output_loss: 0.0403 - main_output_loss: 0.0180 - val_loss: 0.0017 - val_stock_output_loss: 0.0010 - val_gap_output_loss: 0.0057 - val_main_output_loss: 3.8702e-04\n",
      "Epoch 15/50\n",
      "3s - loss: 0.0263 - stock_output_loss: 0.0013 - gap_output_loss: 0.0402 - main_output_loss: 0.0180 - val_loss: 0.0017 - val_stock_output_loss: 9.9933e-04 - val_gap_output_loss: 0.0058 - val_main_output_loss: 3.6226e-04\n",
      "Epoch 16/50\n",
      "3s - loss: 0.0263 - stock_output_loss: 0.0013 - gap_output_loss: 0.0402 - main_output_loss: 0.0180 - val_loss: 0.0017 - val_stock_output_loss: 9.8284e-04 - val_gap_output_loss: 0.0058 - val_main_output_loss: 3.0992e-04\n",
      "Epoch 17/50\n",
      "3s - loss: 0.0263 - stock_output_loss: 0.0013 - gap_output_loss: 0.0402 - main_output_loss: 0.0180 - val_loss: 0.0016 - val_stock_output_loss: 9.8477e-04 - val_gap_output_loss: 0.0058 - val_main_output_loss: 2.9156e-04\n",
      "Epoch 18/50\n",
      "3s - loss: 0.0263 - stock_output_loss: 0.0013 - gap_output_loss: 0.0402 - main_output_loss: 0.0180 - val_loss: 0.0016 - val_stock_output_loss: 9.7489e-04 - val_gap_output_loss: 0.0058 - val_main_output_loss: 2.5584e-04\n",
      "Epoch 19/50\n",
      "3s - loss: 0.0263 - stock_output_loss: 0.0012 - gap_output_loss: 0.0401 - main_output_loss: 0.0180 - val_loss: 0.0016 - val_stock_output_loss: 9.5204e-04 - val_gap_output_loss: 0.0058 - val_main_output_loss: 2.2352e-04\n",
      "Epoch 20/50\n",
      "3s - loss: 0.0263 - stock_output_loss: 0.0012 - gap_output_loss: 0.0401 - main_output_loss: 0.0180 - val_loss: 0.0015 - val_stock_output_loss: 9.4939e-04 - val_gap_output_loss: 0.0058 - val_main_output_loss: 1.9547e-04\n",
      "Epoch 21/50\n",
      "3s - loss: 0.0263 - stock_output_loss: 0.0012 - gap_output_loss: 0.0401 - main_output_loss: 0.0181 - val_loss: 0.0015 - val_stock_output_loss: 9.2829e-04 - val_gap_output_loss: 0.0058 - val_main_output_loss: 1.6767e-04\n",
      "Epoch 22/50\n",
      "3s - loss: 0.0263 - stock_output_loss: 0.0012 - gap_output_loss: 0.0401 - main_output_loss: 0.0181 - val_loss: 0.0015 - val_stock_output_loss: 9.2577e-04 - val_gap_output_loss: 0.0058 - val_main_output_loss: 1.4650e-04\n",
      "Epoch 23/50\n",
      "3s - loss: 0.0263 - stock_output_loss: 0.0012 - gap_output_loss: 0.0401 - main_output_loss: 0.0181 - val_loss: 0.0015 - val_stock_output_loss: 9.1873e-04 - val_gap_output_loss: 0.0058 - val_main_output_loss: 1.2725e-04\n",
      "Epoch 24/50\n",
      "3s - loss: 0.0263 - stock_output_loss: 0.0012 - gap_output_loss: 0.0401 - main_output_loss: 0.0181 - val_loss: 0.0015 - val_stock_output_loss: 9.0973e-04 - val_gap_output_loss: 0.0058 - val_main_output_loss: 1.0664e-04\n",
      "Epoch 25/50\n",
      "3s - loss: 0.0263 - stock_output_loss: 0.0012 - gap_output_loss: 0.0401 - main_output_loss: 0.0181 - val_loss: 0.0014 - val_stock_output_loss: 9.0289e-04 - val_gap_output_loss: 0.0059 - val_main_output_loss: 8.6351e-05\n",
      "Epoch 26/50\n",
      "3s - loss: 0.0263 - stock_output_loss: 0.0012 - gap_output_loss: 0.0401 - main_output_loss: 0.0181 - val_loss: 0.0014 - val_stock_output_loss: 9.0969e-04 - val_gap_output_loss: 0.0058 - val_main_output_loss: 8.0351e-05\n",
      "Epoch 27/50\n",
      "3s - loss: 0.0263 - stock_output_loss: 0.0012 - gap_output_loss: 0.0401 - main_output_loss: 0.0181 - val_loss: 0.0014 - val_stock_output_loss: 9.0765e-04 - val_gap_output_loss: 0.0059 - val_main_output_loss: 6.0400e-05\n",
      "Epoch 28/50\n",
      "3s - loss: 0.0263 - stock_output_loss: 0.0012 - gap_output_loss: 0.0401 - main_output_loss: 0.0181 - val_loss: 0.0014 - val_stock_output_loss: 9.1767e-04 - val_gap_output_loss: 0.0059 - val_main_output_loss: 5.0849e-05\n",
      "Epoch 29/50\n",
      "3s - loss: 0.0264 - stock_output_loss: 0.0012 - gap_output_loss: 0.0401 - main_output_loss: 0.0181 - val_loss: 0.0014 - val_stock_output_loss: 9.1662e-04 - val_gap_output_loss: 0.0059 - val_main_output_loss: 4.4481e-05\n",
      "Epoch 30/50\n",
      "3s - loss: 0.0264 - stock_output_loss: 0.0012 - gap_output_loss: 0.0401 - main_output_loss: 0.0181 - val_loss: 0.0014 - val_stock_output_loss: 9.2600e-04 - val_gap_output_loss: 0.0059 - val_main_output_loss: 3.6191e-05\n",
      "Epoch 31/50\n",
      "3s - loss: 0.0264 - stock_output_loss: 0.0012 - gap_output_loss: 0.0401 - main_output_loss: 0.0181 - val_loss: 0.0014 - val_stock_output_loss: 9.4231e-04 - val_gap_output_loss: 0.0059 - val_main_output_loss: 3.2741e-05\n",
      "Epoch 32/50\n",
      "3s - loss: 0.0264 - stock_output_loss: 0.0012 - gap_output_loss: 0.0401 - main_output_loss: 0.0181 - val_loss: 0.0014 - val_stock_output_loss: 9.5108e-04 - val_gap_output_loss: 0.0059 - val_main_output_loss: 2.8984e-05\n",
      "Epoch 33/50\n",
      "3s - loss: 0.0264 - stock_output_loss: 0.0012 - gap_output_loss: 0.0401 - main_output_loss: 0.0181 - val_loss: 0.0014 - val_stock_output_loss: 9.6212e-04 - val_gap_output_loss: 0.0059 - val_main_output_loss: 2.1489e-05\n",
      "Epoch 34/50\n",
      "3s - loss: 0.0264 - stock_output_loss: 0.0012 - gap_output_loss: 0.0401 - main_output_loss: 0.0181 - val_loss: 0.0014 - val_stock_output_loss: 9.7878e-04 - val_gap_output_loss: 0.0059 - val_main_output_loss: 1.8780e-05\n",
      "Epoch 35/50\n",
      "3s - loss: 0.0264 - stock_output_loss: 0.0012 - gap_output_loss: 0.0401 - main_output_loss: 0.0181 - val_loss: 0.0014 - val_stock_output_loss: 9.8596e-04 - val_gap_output_loss: 0.0059 - val_main_output_loss: 1.4451e-05\n",
      "Epoch 36/50\n",
      "3s - loss: 0.0264 - stock_output_loss: 0.0012 - gap_output_loss: 0.0401 - main_output_loss: 0.0181 - val_loss: 0.0014 - val_stock_output_loss: 0.0010 - val_gap_output_loss: 0.0059 - val_main_output_loss: 1.4952e-05\n",
      "Epoch 37/50\n"
     ]
    },
    {
     "name": "stdout",
     "output_type": "stream",
     "text": [
      "3s - loss: 0.0264 - stock_output_loss: 0.0012 - gap_output_loss: 0.0401 - main_output_loss: 0.0181 - val_loss: 0.0014 - val_stock_output_loss: 0.0011 - val_gap_output_loss: 0.0059 - val_main_output_loss: 1.1630e-05\n",
      "Epoch 38/50\n",
      "3s - loss: 0.0264 - stock_output_loss: 0.0012 - gap_output_loss: 0.0401 - main_output_loss: 0.0181 - val_loss: 0.0014 - val_stock_output_loss: 0.0011 - val_gap_output_loss: 0.0059 - val_main_output_loss: 1.0137e-05\n",
      "Epoch 39/50\n",
      "3s - loss: 0.0264 - stock_output_loss: 0.0012 - gap_output_loss: 0.0401 - main_output_loss: 0.0182 - val_loss: 0.0014 - val_stock_output_loss: 0.0011 - val_gap_output_loss: 0.0059 - val_main_output_loss: 6.7849e-06\n",
      "Epoch 40/50\n",
      "3s - loss: 0.0264 - stock_output_loss: 0.0012 - gap_output_loss: 0.0401 - main_output_loss: 0.0182 - val_loss: 0.0014 - val_stock_output_loss: 0.0011 - val_gap_output_loss: 0.0059 - val_main_output_loss: 5.3014e-06\n",
      "Epoch 41/50\n",
      "3s - loss: 0.0264 - stock_output_loss: 0.0013 - gap_output_loss: 0.0401 - main_output_loss: 0.0182 - val_loss: 0.0014 - val_stock_output_loss: 0.0010 - val_gap_output_loss: 0.0059 - val_main_output_loss: 4.0797e-06\n",
      "Epoch 42/50\n",
      "3s - loss: 0.0264 - stock_output_loss: 0.0013 - gap_output_loss: 0.0401 - main_output_loss: 0.0182 - val_loss: 0.0014 - val_stock_output_loss: 9.8907e-04 - val_gap_output_loss: 0.0059 - val_main_output_loss: 2.4816e-06\n",
      "Epoch 43/50\n",
      "3s - loss: 0.0265 - stock_output_loss: 0.0013 - gap_output_loss: 0.0401 - main_output_loss: 0.0182 - val_loss: 0.0014 - val_stock_output_loss: 9.4872e-04 - val_gap_output_loss: 0.0059 - val_main_output_loss: 1.4965e-06\n",
      "Epoch 44/50\n",
      "3s - loss: 0.0265 - stock_output_loss: 0.0013 - gap_output_loss: 0.0401 - main_output_loss: 0.0182 - val_loss: 0.0014 - val_stock_output_loss: 9.2195e-04 - val_gap_output_loss: 0.0059 - val_main_output_loss: 1.1921e-06\n",
      "Epoch 45/50\n",
      "3s - loss: 0.0265 - stock_output_loss: 0.0014 - gap_output_loss: 0.0401 - main_output_loss: 0.0182 - val_loss: 0.0014 - val_stock_output_loss: 9.1311e-04 - val_gap_output_loss: 0.0059 - val_main_output_loss: 1.2921e-06\n",
      "Epoch 46/50\n",
      "3s - loss: 0.0265 - stock_output_loss: 0.0014 - gap_output_loss: 0.0402 - main_output_loss: 0.0182 - val_loss: 0.0014 - val_stock_output_loss: 8.9512e-04 - val_gap_output_loss: 0.0058 - val_main_output_loss: 1.4145e-06\n",
      "Epoch 47/50\n",
      "3s - loss: 0.0265 - stock_output_loss: 0.0014 - gap_output_loss: 0.0402 - main_output_loss: 0.0182 - val_loss: 0.0013 - val_stock_output_loss: 8.7307e-04 - val_gap_output_loss: 0.0058 - val_main_output_loss: 1.9057e-06\n",
      "Epoch 48/50\n",
      "3s - loss: 0.0265 - stock_output_loss: 0.0014 - gap_output_loss: 0.0402 - main_output_loss: 0.0182 - val_loss: 0.0013 - val_stock_output_loss: 8.6063e-04 - val_gap_output_loss: 0.0059 - val_main_output_loss: 4.4051e-06\n",
      "Epoch 49/50\n",
      "3s - loss: 0.0265 - stock_output_loss: 0.0014 - gap_output_loss: 0.0402 - main_output_loss: 0.0182 - val_loss: 0.0013 - val_stock_output_loss: 8.5649e-04 - val_gap_output_loss: 0.0059 - val_main_output_loss: 5.6431e-06\n",
      "Epoch 50/50\n",
      "3s - loss: 0.0265 - stock_output_loss: 0.0014 - gap_output_loss: 0.0402 - main_output_loss: 0.0182 - val_loss: 0.0013 - val_stock_output_loss: 8.4624e-04 - val_gap_output_loss: 0.0058 - val_main_output_loss: 8.3169e-06\n"
     ]
    }
   ],
   "source": [
    "validation_data=({'stock_input':test_stock_X, \n",
    "               'gap_input': test_gap_X, \n",
    "               'fai_input': test_fai_X},\n",
    "              {'stock_output':test_stock_y , \n",
    "               'gap_output': test_gap_y ,\n",
    "               'main_output':test_fai_y})\n",
    "history=model.fit({'stock_input':train_X_stock, \n",
    "           'gap_input': train_X_gap, \n",
    "           'fai_input': train_X_fai},\n",
    "         {'stock_output':train_y_stock , \n",
    "          'gap_output': train_y_gap ,\n",
    "          'main_output':train_y_fai},\n",
    "         epochs=50, batch_size=1, validation_data=validation_data, verbose=2, shuffle=False)"
   ]
  },
  {
   "cell_type": "code",
   "execution_count": 97,
   "metadata": {},
   "outputs": [
    {
     "data": {
      "image/png": "[encoded data removed]",
      "text/plain": [
       "<matplotlib.figure.Figure at 0x7f05c3b1db10>"
      ]
     },
     "metadata": {},
     "output_type": "display_data"
    }
   ],
   "source": [
    "plt.plot(history.history['loss'], label='train')\n",
    "plt.plot(history.history['val_loss'], label='test')\n",
    "plt.legend()\n",
    "plt.show()"
   ]
  },
  {
   "cell_type": "code",
   "execution_count": 98,
   "metadata": {},
   "outputs": [
    {
     "name": "stdout",
     "output_type": "stream",
     "text": [
      "[[[ 0.56146789]]\n",
      "\n",
      " [[ 0.50825691]]\n",
      "\n",
      " [[ 0.51009172]]\n",
      "\n",
      " [[ 0.50091743]]\n",
      "\n",
      " [[ 0.48440367]]] [[[ 0.22009568]]\n",
      "\n",
      " [[ 0.48803827]]\n",
      "\n",
      " [[ 0.40669855]]\n",
      "\n",
      " [[ 0.35406697]]\n",
      "\n",
      " [[ 0.56459326]]] [[[ 0.58260864]]\n",
      "\n",
      " [[ 0.58260864]]\n",
      "\n",
      " [[ 0.58260864]]\n",
      "\n",
      " [[ 0.58260864]]\n",
      "\n",
      " [[ 0.58260864]]]\n",
      "1/5 [=====>........................] - ETA: 1s[[ 0.56146789]\n",
      " [ 0.50825691]\n",
      " [ 0.51009172]\n",
      " [ 0.50091743]\n",
      " [ 0.48440367]] [[ 0.22009568]\n",
      " [ 0.48803827]\n",
      " [ 0.40669855]\n",
      " [ 0.35406697]\n",
      " [ 0.56459326]] [[ 0.58260864]\n",
      " [ 0.58260864]\n",
      " [ 0.58260864]\n",
      " [ 0.58260864]\n",
      " [ 0.58260864]]\n"
     ]
    }
   ],
   "source": [
    "print test_stock_X, test_gap_X, test_fai_X\n",
    "yhat =  model.predict([test_stock_X, test_gap_X, test_fai_X],batch_size=1,verbose=1)\n",
    "test_stock_X = test_stock_X.reshape((test_stock_X.shape[0], test_stock_X.shape[2]))\n",
    "test_gap_X = test_gap_X.reshape((test_gap_X.shape[0], test_gap_X.shape[2]))\n",
    "test_fai_X = test_fai_X.reshape((test_fai_X.shape[0], test_fai_X.shape[2]))\n",
    "print test_stock_X, test_gap_X, test_fai_X\n",
    "\n"
   ]
  },
  {
   "cell_type": "code",
   "execution_count": 143,
   "metadata": {},
   "outputs": [
    {
     "name": "stdout",
     "output_type": "stream",
     "text": [
      "5\n"
     ]
    },
    {
     "ename": "ValueError",
     "evalue": "cannot reshape array of size 15 into shape (5,1)",
     "output_type": "error",
     "traceback": [
      "\u001b[0;31m---------------------------------------------------------------------------\u001b[0m",
      "\u001b[0;31mValueError\u001b[0m                                Traceback (most recent call last)",
      "\u001b[0;32m<ipython-input-143-8cc4d08afc4a>\u001b[0m in \u001b[0;36m<module>\u001b[0;34m()\u001b[0m\n\u001b[1;32m      3\u001b[0m \u001b[0;31m#yhat = yhat.reshape((len(test_stock_y), 1))\u001b[0m\u001b[0;34m\u001b[0m\u001b[0;34m\u001b[0m\u001b[0m\n\u001b[1;32m      4\u001b[0m \u001b[0myhat\u001b[0m \u001b[0;34m=\u001b[0m \u001b[0mnp\u001b[0m\u001b[0;34m.\u001b[0m\u001b[0marray\u001b[0m\u001b[0;34m(\u001b[0m\u001b[0myhat\u001b[0m\u001b[0;34m)\u001b[0m\u001b[0;34m\u001b[0m\u001b[0m\n\u001b[0;32m----> 5\u001b[0;31m \u001b[0myhat\u001b[0m \u001b[0;34m=\u001b[0m \u001b[0myhat\u001b[0m\u001b[0;34m.\u001b[0m\u001b[0mreshape\u001b[0m\u001b[0;34m(\u001b[0m\u001b[0;34m(\u001b[0m\u001b[0mlen\u001b[0m\u001b[0;34m(\u001b[0m\u001b[0mtest_stock_y\u001b[0m\u001b[0;34m)\u001b[0m\u001b[0;34m,\u001b[0m \u001b[0;36m1\u001b[0m\u001b[0;34m)\u001b[0m\u001b[0;34m)\u001b[0m\u001b[0;34m\u001b[0m\u001b[0m\n\u001b[0m\u001b[1;32m      6\u001b[0m \u001b[0;32mprint\u001b[0m \u001b[0myhat\u001b[0m\u001b[0;34m.\u001b[0m\u001b[0mshape\u001b[0m\u001b[0;34m\u001b[0m\u001b[0m\n\u001b[1;32m      7\u001b[0m \u001b[0;31m#print [test_stock_X,test_gap_X, test_fai_X]\u001b[0m\u001b[0;34m\u001b[0m\u001b[0;34m\u001b[0m\u001b[0m\n",
      "\u001b[0;31mValueError\u001b[0m: cannot reshape array of size 15 into shape (5,1)"
     ]
    }
   ],
   "source": [
    "#print yhat\n",
    "print len(test_stock_y)\n",
    "#yhat = yhat.reshape((len(test_stock_y), 1))\n",
    "yhat = np.array(yhat)\n",
    "yhat = yhat.reshape((len(test_stock_y), 1))\n",
    "print yhat.shape\n",
    "#print [test_stock_X,test_gap_X, test_fai_X]\n",
    "#print [test_stock_X[:,1:],test_gap_X[:,1:], test_fai_X[:,1:]]\n",
    "#test_stock_X_p = test_stock_X[0:].reshape(-1, 1)\n",
    "#test_gap_X_p = test_gap_X[0:].reshape(-1, 1)\n",
    "#test_fai_X_p = test_fai_X[0:].reshape(-1, 1)\n",
    "#print test_stock_X_p, test_gap_X_p, test_fai_X_p\n",
    "\n",
    "inv_yhat = concatenate((yhat, [[test_stock_X,test_gap_X, test_fai_X]]), axis=1)\n",
    "print inv_yhat\n",
    "#inv_yhat = scaler.inverse_transform(inv_yhat)\n",
    "inv_yhat = inv_yhat[:,0]\n",
    "\n",
    "test_stock_y = test_stock_y.reshape((len(test_stock_y), 1))\n",
    "inv_y = concatenate((test_stock_y, test_stock_X[:, 1:]), axis =1)\n",
    "inv_y = scaler.inverse_transform(inv_y)\n",
    "inv_y = inv_y[:,0]\n",
    "\n",
    "rmse = sqrt(mean_squared_error(inv_y, inv_yhat))\n",
    "print('Test RMSE: %.3f' % rmse)"
   ]
  },
  {
   "cell_type": "code",
   "execution_count": 138,
   "metadata": {},
   "outputs": [
    {
     "name": "stdout",
     "output_type": "stream",
     "text": [
      "[[ 0.50825691]\n",
      " [ 0.51009172]\n",
      " [ 0.50091743]\n",
      " [ 0.48440367]\n",
      " [ 0.49541286]]\n"
     ]
    }
   ],
   "source": [
    "#inv_yhat = concatenate((yhat, test_stock_X[:, 1:]), axis=1)\n",
    "#print inv_yhat\n",
    "#inv_yhat = scaler.inverse_transform(inv_yhat)\n",
    "#inv_yhat = inv_yhat[:,0]\n",
    "#test_stock_X = test_stock_X.reshape((len(test_stock_X), 1))\n",
    "\n",
    "#inv_yhat = concatenate((yhat, test_stock_X[:, 1:]), axis=1)\n",
    "#print inv_yhat\n",
    "#inv_yhat = inv_yhat[:,0]\n",
    "test_stock_y = test_stock_y.reshape((len(test_stock_y), 1))\n",
    "print test_stock_y\n",
    "inv_y = concatenate((test_stock_y, test_stock_X[:, 1:]), axis =1)\n",
    "inv_y = scaler.inverse_transform(inv_y)\n",
    "inv_y = inv_y[:,0]"
   ]
  },
  {
   "cell_type": "code",
   "execution_count": null,
   "metadata": {
    "collapsed": true
   },
   "outputs": [],
   "source": []
  }
 ],
 "metadata": {
  "kernelspec": {
   "display_name": "Python 2",
   "language": "python",
   "name": "python2"
  },
  "language_info": {
   "codemirror_mode": {
    "name": "ipython",
    "version": 2
   },
   "file_extension": ".py",
   "mimetype": "text/x-python",
   "name": "python",
   "nbconvert_exporter": "python",
   "pygments_lexer": "ipython2",
   "version": "2.7.12"
  }
 },
 "nbformat": 4,
 "nbformat_minor": 2
}
