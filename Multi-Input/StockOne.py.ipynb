{
 "cells": [
  {
   "cell_type": "code",
   "execution_count": 1,
   "metadata": {},
   "outputs": [
    {
     "name": "stderr",
     "output_type": "stream",
     "text": [
      "Using TensorFlow backend.\n"
     ]
    }
   ],
   "source": [
    "import os\n",
    "import time\n",
    "import warnings\n",
    "import numpy as np\n",
    "import matplotlib.pyplot as plt\n",
    "from math import sqrt\n",
    "from numpy import newaxis, concatenate\n",
    "from keras.layers.core import Dense, Activation, Dropout\n",
    "from keras.layers.recurrent import LSTM\n",
    "from sklearn.metrics import mean_squared_error\n",
    "from pandas import read_csv, DataFrame,concat\n",
    "from sklearn.preprocessing import MinMaxScaler\n",
    "from sklearn.preprocessing import LabelEncoder\n",
    "from sklearn.metrics import mean_squared_error\n",
    "from keras.models import Sequential"
   ]
  },
  {
   "cell_type": "code",
   "execution_count": 2,
   "metadata": {
    "collapsed": true
   },
   "outputs": [],
   "source": [
    "seq_len = 1\n",
    "def series_to_supervised(data, n_in=1, n_out=1, dropnan=True):\n",
    "    n_vars = 1 if type(data) is list else data.shape[1]\n",
    "    df = DataFrame(data)\n",
    "    cols, names = list(),list()\n",
    "    for i in range(n_in, 0 ,-1):\n",
    "        cols.append(df.shift(i))\n",
    "        names += [('var%d(t-%d)' % (j+1,i)) for j in range(n_vars)]\n",
    "    for i in range(0, n_out):\n",
    "        cols.append(df.shift(-i))\n",
    "        if i == 0:\n",
    "            names += [('var%d(t)' % (j+1)) for j in range(n_vars)]\n",
    "        else:\n",
    "            names += [('var%d(t+%d)' % (j+1, i)) for j in range(n_vars)]\n",
    "    agg = concat(cols, axis =1)\n",
    "    agg.columns = names\n",
    "    if dropnan:\n",
    "        agg.dropna(inplace = True)\n",
    "    return agg\n",
    "\n",
    "def plot_results(predicted_data, true_data):\n",
    "    fig = plt.figure(facecolor='white')\n",
    "    ax = fig.add_subplot(111)\n",
    "    ax.plot(true_data, label='True Data')\n",
    "    plt.plot(predicted_data, label='Prediction')\n",
    "    plt.legend()\n",
    "    plt.show()\n",
    "def predict_sequences_full(model, data, window_size):\n",
    "    #Shift the window by 1 new prediction each time, re-run predictions on new window\n",
    "    curr_frame = data[0]\n",
    "    predicted = []\n",
    "    for i in range(len(data)):\n",
    "        predicted.append(model.predict(curr_frame[newaxis,:,:])[0,0])\n",
    "        curr_frame = curr_frame[1:]\n",
    "        curr_frame = np.insert(curr_frame, window_size-1,predicted[-1], axis=0)\n",
    "    return predicted"
   ]
  },
  {
   "cell_type": "code",
   "execution_count": 3,
   "metadata": {},
   "outputs": [
    {
     "name": "stdout",
     "output_type": "stream",
     "text": [
      "   var1(t-1)   var1(t)\n",
      "1   0.157798  0.161468\n",
      "2   0.161468  0.150459\n",
      "3   0.150459  0.177982\n",
      "4   0.177982  0.166972\n",
      "5   0.166972  0.179817\n",
      "   var1(t-1)   var1(t)\n",
      "1   0.157798  0.161468\n",
      "2   0.161468  0.150459\n",
      "3   0.150459  0.177982\n",
      "4   0.177982  0.166972\n",
      "5   0.166972  0.179817\n"
     ]
    }
   ],
   "source": [
    "dataset = read_csv('stock1.csv', header = 0, index_col=0)\n",
    "dataset_stock = read_csv('stock1.csv', header = 0, index_col=0)\n",
    "values = dataset.values\n",
    "values_stock = dataset_stock.values\n",
    "encoder = LabelEncoder()\n",
    "values[:,0] = encoder.fit_transform(values[:,0])\n",
    "values_stock[:,0] = encoder.fit_transform(values_stock[:,0])\n",
    "values = values.astype('float32')\n",
    "values_stock = values_stock.astype('float32')\n",
    "scaler = MinMaxScaler(feature_range=(0, 1))\n",
    "scaled = scaler.fit_transform(values)\n",
    "scaled_stock = scaler.fit_transform(values_stock)\n",
    "reframed = series_to_supervised(scaled, 1, 1)\n",
    "reframed_stock = series_to_supervised(scaled_stock, 1, 1)\n",
    "print(reframed.head())\n",
    "print(reframed_stock.head())"
   ]
  },
  {
   "cell_type": "code",
   "execution_count": 61,
   "metadata": {},
   "outputs": [
    {
     "name": "stdout",
     "output_type": "stream",
     "text": [
      "(205, 1, 1) (205,) (5, 1, 1) (5,)\n",
      "(205, 1, 1) (205,) (5, 1, 1) (5,)\n"
     ]
    }
   ],
   "source": [
    "values = reframed.values\n",
    "values_stock = reframed_stock.values\n",
    "n_train_hours = 205\n",
    "n_end = n_train_hours + 5\n",
    "train = values[:n_train_hours, :]\n",
    "train_stock = values_stock[:n_train_hours,:]\n",
    "test = values[n_train_hours:n_end :]\n",
    "test_stock = values_stock[n_train_hours:n_end:]\n",
    "train_X, train_y = train[:,:-1], train[:, -1]\n",
    "train_stock_X, train_stock_y = train_stock[:,:-1], train_stock[:, -1]\n",
    "test_X, test_y = test[:, :-1], test[:,-1]\n",
    "test_stock_X, test_stock_y = test_stock[:, :-1], test_stock[:,-1] \n",
    "train_X = train_X.reshape((train_X.shape[0], 1, train_X.shape[1]))\n",
    "train_stock_X = train_stock_X.reshape((train_stock_X.shape[0], 1, train_stock_X.shape[1]))\n",
    "test_X = test_X.reshape((test_X.shape[0], 1, test_X.shape[1]))\n",
    "test_stock_X = test_stock_X.reshape((test_stock_X.shape[0],1, test_stock_X.shape[1]))\n",
    "print(train_X.shape, train_y.shape, test_X.shape, test_y.shape)\n",
    "print(train_stock_X.shape, train_stock_y.shape, test_stock_X.shape, test_stock_y.shape)"
   ]
  },
  {
   "cell_type": "code",
   "execution_count": 62,
   "metadata": {},
   "outputs": [
    {
     "name": "stdout",
     "output_type": "stream",
     "text": [
      "> Compilation Time : 0.04083108901977539\n",
      "Train on 205 samples, validate on 5 samples\n",
      "Epoch 1/50\n",
      "3s - loss: 0.0023 - val_loss: 8.9911e-04\n",
      "Epoch 2/50\n",
      "1s - loss: 9.8569e-04 - val_loss: 3.7678e-04\n",
      "Epoch 3/50\n",
      "1s - loss: 8.2026e-04 - val_loss: 0.0015\n",
      "Epoch 4/50\n",
      "1s - loss: 7.6850e-04 - val_loss: 7.0526e-04\n",
      "Epoch 5/50\n",
      "1s - loss: 6.3761e-04 - val_loss: 0.0011\n",
      "Epoch 6/50\n",
      "1s - loss: 6.1493e-04 - val_loss: 6.4521e-04\n",
      "Epoch 7/50\n",
      "1s - loss: 6.0635e-04 - val_loss: 4.5504e-04\n",
      "Epoch 8/50\n",
      "1s - loss: 6.5864e-04 - val_loss: 5.5997e-04\n",
      "Epoch 9/50\n",
      "1s - loss: 5.6819e-04 - val_loss: 9.4605e-04\n",
      "Epoch 10/50\n",
      "1s - loss: 5.7006e-04 - val_loss: 5.4277e-04\n",
      "Epoch 11/50\n",
      "1s - loss: 6.2392e-04 - val_loss: 5.9929e-04\n",
      "Epoch 12/50\n",
      "1s - loss: 5.0950e-04 - val_loss: 5.9751e-04\n",
      "Epoch 13/50\n",
      "1s - loss: 5.7485e-04 - val_loss: 6.9067e-04\n",
      "Epoch 14/50\n",
      "1s - loss: 6.5948e-04 - val_loss: 6.2695e-04\n",
      "Epoch 15/50\n",
      "1s - loss: 6.0167e-04 - val_loss: 0.0012\n",
      "Epoch 16/50\n",
      "1s - loss: 6.0741e-04 - val_loss: 7.9435e-04\n",
      "Epoch 17/50\n",
      "1s - loss: 5.5545e-04 - val_loss: 4.5764e-04\n",
      "Epoch 18/50\n",
      "1s - loss: 5.2547e-04 - val_loss: 7.3763e-04\n",
      "Epoch 19/50\n",
      "1s - loss: 5.4042e-04 - val_loss: 5.3982e-04\n",
      "Epoch 20/50\n",
      "1s - loss: 5.1293e-04 - val_loss: 4.5778e-04\n",
      "Epoch 21/50\n",
      "1s - loss: 5.3643e-04 - val_loss: 4.6808e-04\n",
      "Epoch 22/50\n",
      "1s - loss: 5.3619e-04 - val_loss: 6.9717e-04\n",
      "Epoch 23/50\n",
      "1s - loss: 5.4823e-04 - val_loss: 4.6712e-04\n",
      "Epoch 24/50\n",
      "1s - loss: 5.5726e-04 - val_loss: 6.6867e-04\n",
      "Epoch 25/50\n",
      "1s - loss: 5.7975e-04 - val_loss: 4.5748e-04\n",
      "Epoch 26/50\n",
      "1s - loss: 5.5343e-04 - val_loss: 6.3749e-04\n",
      "Epoch 27/50\n",
      "1s - loss: 5.6744e-04 - val_loss: 5.0651e-04\n",
      "Epoch 28/50\n",
      "1s - loss: 5.8901e-04 - val_loss: 5.1921e-04\n",
      "Epoch 29/50\n",
      "1s - loss: 5.4105e-04 - val_loss: 4.7570e-04\n",
      "Epoch 30/50\n",
      "1s - loss: 5.1811e-04 - val_loss: 4.7459e-04\n",
      "Epoch 31/50\n",
      "1s - loss: 5.6951e-04 - val_loss: 4.6829e-04\n",
      "Epoch 32/50\n",
      "1s - loss: 5.3311e-04 - val_loss: 6.3402e-04\n",
      "Epoch 33/50\n",
      "0s - loss: 5.9771e-04 - val_loss: 4.6117e-04\n",
      "Epoch 34/50\n",
      "0s - loss: 5.2777e-04 - val_loss: 4.6905e-04\n",
      "Epoch 35/50\n",
      "0s - loss: 5.4088e-04 - val_loss: 4.7466e-04\n",
      "Epoch 36/50\n",
      "0s - loss: 5.3310e-04 - val_loss: 4.7652e-04\n",
      "Epoch 37/50\n",
      "0s - loss: 5.2627e-04 - val_loss: 4.8363e-04\n",
      "Epoch 38/50\n",
      "0s - loss: 5.7913e-04 - val_loss: 5.5872e-04\n",
      "Epoch 39/50\n",
      "0s - loss: 5.1841e-04 - val_loss: 5.3177e-04\n",
      "Epoch 40/50\n",
      "0s - loss: 5.3190e-04 - val_loss: 4.8275e-04\n",
      "Epoch 41/50\n",
      "0s - loss: 5.5405e-04 - val_loss: 6.1844e-04\n",
      "Epoch 42/50\n",
      "0s - loss: 5.8817e-04 - val_loss: 4.9199e-04\n",
      "Epoch 43/50\n",
      "0s - loss: 5.7979e-04 - val_loss: 5.8865e-04\n",
      "Epoch 44/50\n",
      "0s - loss: 5.3740e-04 - val_loss: 6.1036e-04\n",
      "Epoch 45/50\n",
      "0s - loss: 5.0098e-04 - val_loss: 5.4264e-04\n",
      "Epoch 46/50\n",
      "0s - loss: 5.6182e-04 - val_loss: 4.9199e-04\n",
      "Epoch 47/50\n",
      "0s - loss: 5.2073e-04 - val_loss: 5.1758e-04\n",
      "Epoch 48/50\n",
      "1s - loss: 5.2329e-04 - val_loss: 7.4742e-04\n",
      "Epoch 49/50\n",
      "0s - loss: 5.3001e-04 - val_loss: 4.9750e-04\n",
      "Epoch 50/50\n",
      "1s - loss: 5.3811e-04 - val_loss: 5.0820e-04\n"
     ]
    }
   ],
   "source": [
    "model = Sequential()\n",
    "model.add(LSTM(20, input_shape=(train_X.shape[1], train_X.shape[2]),return_sequences=True))\n",
    "model.add(Dropout(0.2))\n",
    "model.add(LSTM(100,return_sequences=False))\n",
    "model.add(Dropout(0.2))\n",
    "model.add(Dense(1))\n",
    "model.add(Activation(\"linear\"))\n",
    "start = time.time()\n",
    "model.add(Dense(1))\n",
    "model.compile(loss='mse', optimizer='rmsprop')\n",
    "print(\"> Compilation Time :\", time.time() - start)\n",
    "history = model.fit(train_X, train_y, epochs=50, batch_size=1, validation_data=(test_X, test_y), verbose=2, shuffle=False)\n",
    "#print (seq_len)\n",
    "predicted = predict_sequences_full(model, test_X, seq_len)"
   ]
  },
  {
   "cell_type": "code",
   "execution_count": 63,
   "metadata": {
    "scrolled": true
   },
   "outputs": [
    {
     "name": "stdout",
     "output_type": "stream",
     "text": [
      "[0.23259127, 0.23121268, 0.2303769, 0.22987047, 0.22956374]\n",
      "5\n"
     ]
    },
    {
     "data": {
      "image/png": "[encoded data removed]",
      "text/plain": [
       "<matplotlib.figure.Figure at 0x7fbc63df9eb8>"
      ]
     },
     "metadata": {},
     "output_type": "display_data"
    }
   ],
   "source": [
    "print (predicted)\n",
    "l = len(predicted)\n",
    "print (l)\n",
    "plt.plot(history.history['loss'], label='train')\n",
    "plt.plot(history.history['val_loss'], label='test')\n",
    "plt.legend()\n",
    "plt.show()"
   ]
  },
  {
   "cell_type": "code",
   "execution_count": 64,
   "metadata": {},
   "outputs": [
    {
     "name": "stdout",
     "output_type": "stream",
     "text": [
      "[ 0.23259127  0.23121268  0.2303769   0.22987047  0.22956374] [ 0.21651377  0.21834862  0.18165138  0.22018349  0.23853211]\n",
      "MSE: 0.000594\n"
     ]
    },
    {
     "data": {
      "image/png": "[encoded data removed]",
      "text/plain": [
       "<matplotlib.figure.Figure at 0x7fbc5df782e8>"
      ]
     },
     "metadata": {},
     "output_type": "display_data"
    }
   ],
   "source": [
    "predicted = np.reshape(predicted, (l,))\n",
    "\n",
    "print(predicted, test_stock_y)\n",
    "score = mean_squared_error(predicted, test_stock_y)\n",
    "    \n",
    "print(\"MSE: %f\" % score)\n",
    "plot_results(predicted, test_stock_y)"
   ]
  },
  {
   "cell_type": "code",
   "execution_count": null,
   "metadata": {
    "collapsed": true
   },
   "outputs": [],
   "source": []
  },
  {
   "cell_type": "code",
   "execution_count": null,
   "metadata": {
    "collapsed": true
   },
   "outputs": [],
   "source": []
  }
 ],
 "metadata": {
  "kernelspec": {
   "display_name": "Python 3",
   "language": "python",
   "name": "python3"
  },
  "language_info": {
   "codemirror_mode": {
    "name": "ipython",
    "version": 3
   },
   "file_extension": ".py",
   "mimetype": "text/x-python",
   "name": "python",
   "nbconvert_exporter": "python",
   "pygments_lexer": "ipython3",
   "version": "3.5.2"
  }
 },
 "nbformat": 4,
 "nbformat_minor": 2
}
