{
 "cells": [
  {
   "cell_type": "code",
   "execution_count": 105,
   "metadata": {},
   "outputs": [],
   "source": [
    "import os\n",
    "import time\n",
    "import warnings\n",
    "import numpy as np\n",
    "import matplotlib.pyplot as plt\n",
    "from math import sqrt\n",
    "from numpy import newaxis, concatenate\n",
    "#from numpy import *\n",
    "from keras.layers.core import Dense, Activation, Dropout\n",
    "from keras.layers.recurrent import LSTM\n",
    "from sklearn.metrics import mean_squared_error\n",
    "from pandas import read_csv, DataFrame,concat\n",
    "from sklearn.preprocessing import MinMaxScaler\n",
    "from sklearn.preprocessing import LabelEncoder\n",
    "from sklearn.metrics import mean_squared_error\n",
    "from keras.models import Sequential"
   ]
  },
  {
   "cell_type": "code",
   "execution_count": 106,
   "metadata": {
    "collapsed": true
   },
   "outputs": [],
   "source": [
    "def series_to_supervised(data, n_in=1, n_out=1, dropnan=True):\n",
    "    n_vars = 1 if type(data) is list else data.shape[1]\n",
    "    df = DataFrame(data)\n",
    "    cols, names = list(),list()\n",
    "    for i in range(n_in, 0 ,-1):\n",
    "        cols.append(df.shift(i))\n",
    "        names += [('var%d(t-%d)' % (j+1,i)) for j in range(n_vars)]\n",
    "    for i in range(0, n_out):\n",
    "        cols.append(df.shift(-i))\n",
    "        if i == 0:\n",
    "            names += [('var%d(t)' % (j+1)) for j in range(n_vars)]\n",
    "        else:\n",
    "            names += [('var%d(t+%d)' % (j+1, i)) for j in range(n_vars)]\n",
    "    agg = concat(cols, axis =1)\n",
    "    agg.columns = names\n",
    "    if dropnan:\n",
    "        agg.dropna(inplace = True)\n",
    "    return agg\n",
    "\n",
    "def plot_results(predicted_data, true_data):\n",
    "    fig = plt.figure(facecolor='white')\n",
    "    ax = fig.add_subplot(111)\n",
    "    ax.plot(true_data, label='True Data')\n",
    "    plt.plot(predicted_data, label='Prediction')\n",
    "    plt.legend()\n",
    "    plt.show()"
   ]
  },
  {
   "cell_type": "code",
   "execution_count": 107,
   "metadata": {},
   "outputs": [
    {
     "name": "stdout",
     "output_type": "stream",
     "text": [
      "   var1(t-1)   var1(t)\n",
      "1   0.488038  0.435407\n",
      "2   0.435407  0.617225\n",
      "3   0.617225  0.401914\n",
      "4   0.401914  0.559809\n",
      "5   0.559809  0.397129\n",
      "   var1(t-1)   var1(t)\n",
      "1   0.157798  0.161468\n",
      "2   0.161468  0.150459\n",
      "3   0.150459  0.177982\n",
      "4   0.177982  0.166972\n",
      "5   0.166972  0.179817\n"
     ]
    }
   ],
   "source": [
    "dataset = read_csv('gap1.csv', header = 0, index_col=0)\n",
    "dataset_stock = read_csv('stock1.csv', header = 0, index_col=0)\n",
    "values = dataset.values\n",
    "values_stock = dataset_stock.values\n",
    "encoder = LabelEncoder()\n",
    "values[:,0] = encoder.fit_transform(values[:,0])\n",
    "values_stock[:,0] = encoder.fit_transform(values_stock[:,0])\n",
    "values = values.astype('float32')\n",
    "values_stock = values_stock.astype('float32')\n",
    "scaler = MinMaxScaler(feature_range=(0, 1))\n",
    "scaled = scaler.fit_transform(values)\n",
    "scaled_stock = scaler.fit_transform(values_stock)\n",
    "reframed = series_to_supervised(scaled, 1, 1)\n",
    "reframed_stock = series_to_supervised(scaled_stock, 1, 1)\n",
    "print(reframed.head())\n",
    "print(reframed_stock.head())"
   ]
  },
  {
   "cell_type": "code",
   "execution_count": 108,
   "metadata": {},
   "outputs": [
    {
     "name": "stdout",
     "output_type": "stream",
     "text": [
      "((673, 1, 1), (673,), (5, 1, 1), (5,))\n",
      "((673, 1, 1), (673,), (5, 1, 1), (5,))\n"
     ]
    }
   ],
   "source": [
    "values = reframed.values\n",
    "values_stock = reframed_stock.values\n",
    "n_train_hours = 673\n",
    "n_end = n_train_hours + 5\n",
    "train = values[:n_train_hours, :]\n",
    "train_stock = values_stock[:n_train_hours,:]\n",
    "test = values[n_train_hours:n_end :]\n",
    "test_stock = values_stock[n_train_hours:n_end:]\n",
    "train_X, train_y = train[:,:-1], train[:, -1]\n",
    "train_stock_X, train_stock_y = train_stock[:,:-1], train_stock[:, -1]\n",
    "test_X, test_y = test[:, :-1], test[:,-1]\n",
    "test_stock_X, test_stock_y = test_stock[:, :-1], test_stock[:,-1] \n",
    "train_X = train_X.reshape((train_X.shape[0], 1, train_X.shape[1]))\n",
    "train_stock_X = train_stock_X.reshape((train_stock_X.shape[0], 1, train_stock_X.shape[1]))\n",
    "test_X = test_X.reshape((test_X.shape[0], 1, test_X.shape[1]))\n",
    "test_stock_X = test_stock_X.reshape((test_stock_X.shape[0],1, test_stock_X.shape[1]))\n",
    "print(train_X.shape, train_y.shape, test_X.shape, test_y.shape)\n",
    "print(train_stock_X.shape, train_stock_y.shape, test_stock_X.shape, test_stock_y.shape)"
   ]
  },
  {
   "cell_type": "code",
   "execution_count": 109,
   "metadata": {},
   "outputs": [
    {
     "name": "stdout",
     "output_type": "stream",
     "text": [
      "('> Compilation Time :', 0.023220062255859375)\n",
      "Train on 673 samples, validate on 5 samples\n",
      "Epoch 1/50\n",
      "3s - loss: 0.0532 - val_loss: 0.0064\n",
      "Epoch 2/50\n",
      "2s - loss: 0.0413 - val_loss: 0.0061\n",
      "Epoch 3/50\n",
      "2s - loss: 0.0412 - val_loss: 0.0060\n",
      "Epoch 4/50\n",
      "2s - loss: 0.0406 - val_loss: 0.0059\n",
      "Epoch 5/50\n",
      "2s - loss: 0.0403 - val_loss: 0.0059\n",
      "Epoch 6/50\n",
      "2s - loss: 0.0410 - val_loss: 0.0060\n",
      "Epoch 7/50\n",
      "2s - loss: 0.0405 - val_loss: 0.0059\n",
      "Epoch 8/50\n",
      "2s - loss: 0.0407 - val_loss: 0.0059\n",
      "Epoch 9/50\n",
      "2s - loss: 0.0406 - val_loss: 0.0060\n",
      "Epoch 10/50\n",
      "2s - loss: 0.0402 - val_loss: 0.0060\n",
      "Epoch 11/50\n",
      "2s - loss: 0.0409 - val_loss: 0.0059\n",
      "Epoch 12/50\n",
      "2s - loss: 0.0403 - val_loss: 0.0061\n",
      "Epoch 13/50\n",
      "2s - loss: 0.0400 - val_loss: 0.0060\n",
      "Epoch 14/50\n",
      "2s - loss: 0.0407 - val_loss: 0.0059\n",
      "Epoch 15/50\n",
      "2s - loss: 0.0401 - val_loss: 0.0061\n",
      "Epoch 16/50\n",
      "2s - loss: 0.0403 - val_loss: 0.0060\n",
      "Epoch 17/50\n",
      "2s - loss: 0.0407 - val_loss: 0.0061\n",
      "Epoch 18/50\n",
      "2s - loss: 0.0407 - val_loss: 0.0060\n",
      "Epoch 19/50\n",
      "2s - loss: 0.0406 - val_loss: 0.0061\n",
      "Epoch 20/50\n",
      "2s - loss: 0.0404 - val_loss: 0.0060\n",
      "Epoch 21/50\n",
      "2s - loss: 0.0405 - val_loss: 0.0061\n",
      "Epoch 22/50\n",
      "2s - loss: 0.0402 - val_loss: 0.0059\n",
      "Epoch 23/50\n",
      "2s - loss: 0.0401 - val_loss: 0.0060\n",
      "Epoch 24/50\n",
      "2s - loss: 0.0408 - val_loss: 0.0061\n",
      "Epoch 25/50\n",
      "2s - loss: 0.0409 - val_loss: 0.0062\n",
      "Epoch 26/50\n",
      "2s - loss: 0.0404 - val_loss: 0.0060\n",
      "Epoch 27/50\n",
      "2s - loss: 0.0405 - val_loss: 0.0060\n",
      "Epoch 28/50\n",
      "2s - loss: 0.0406 - val_loss: 0.0060\n",
      "Epoch 29/50\n",
      "2s - loss: 0.0404 - val_loss: 0.0060\n",
      "Epoch 30/50\n",
      "2s - loss: 0.0403 - val_loss: 0.0061\n",
      "Epoch 31/50\n",
      "2s - loss: 0.0407 - val_loss: 0.0061\n",
      "Epoch 32/50\n",
      "2s - loss: 0.0407 - val_loss: 0.0061\n",
      "Epoch 33/50\n",
      "2s - loss: 0.0404 - val_loss: 0.0060\n",
      "Epoch 34/50\n",
      "2s - loss: 0.0405 - val_loss: 0.0060\n",
      "Epoch 35/50\n",
      "2s - loss: 0.0407 - val_loss: 0.0059\n",
      "Epoch 36/50\n",
      "2s - loss: 0.0404 - val_loss: 0.0061\n",
      "Epoch 37/50\n",
      "2s - loss: 0.0406 - val_loss: 0.0061\n",
      "Epoch 38/50\n",
      "2s - loss: 0.0405 - val_loss: 0.0061\n",
      "Epoch 39/50\n",
      "2s - loss: 0.0401 - val_loss: 0.0062\n",
      "Epoch 40/50\n",
      "2s - loss: 0.0405 - val_loss: 0.0063\n",
      "Epoch 41/50\n",
      "2s - loss: 0.0407 - val_loss: 0.0060\n",
      "Epoch 42/50\n",
      "2s - loss: 0.0406 - val_loss: 0.0060\n",
      "Epoch 43/50\n",
      "2s - loss: 0.0405 - val_loss: 0.0061\n",
      "Epoch 44/50\n",
      "2s - loss: 0.0406 - val_loss: 0.0060\n",
      "Epoch 45/50\n",
      "2s - loss: 0.0405 - val_loss: 0.0062\n",
      "Epoch 46/50\n",
      "2s - loss: 0.0404 - val_loss: 0.0061\n",
      "Epoch 47/50\n",
      "2s - loss: 0.0403 - val_loss: 0.0061\n",
      "Epoch 48/50\n",
      "2s - loss: 0.0400 - val_loss: 0.0060\n",
      "Epoch 49/50\n",
      "2s - loss: 0.0404 - val_loss: 0.0061\n",
      "Epoch 50/50\n",
      "2s - loss: 0.0400 - val_loss: 0.0060\n"
     ]
    }
   ],
   "source": [
    "model = Sequential()\n",
    "model.add(LSTM(20, input_shape=(train_X.shape[1], train_X.shape[2]),return_sequences=True))\n",
    "model.add(Dropout(0.2))\n",
    "model.add(LSTM(100,return_sequences=False))\n",
    "model.add(Dropout(0.2))\n",
    "model.add(Dense(1))\n",
    "model.add(Activation(\"linear\"))\n",
    "start = time.time()\n",
    "model.add(Dense(1))\n",
    "model.compile(loss='mse', optimizer='rmsprop')\n",
    "print(\"> Compilation Time :\", time.time() - start)\n",
    "history = model.fit(train_X, train_y, epochs=50, batch_size=1, validation_data=(test_X, test_y), verbose=2, shuffle=False)\n"
   ]
  },
  {
   "cell_type": "code",
   "execution_count": 110,
   "metadata": {},
   "outputs": [
    {
     "data": {
      "image/png": "[encoded data removed]",
      "text/plain": [
       "<matplotlib.figure.Figure at 0x7f8d54517110>"
      ]
     },
     "metadata": {},
     "output_type": "display_data"
    }
   ],
   "source": [
    "plt.plot(history.history['loss'], label='train')\n",
    "plt.plot(history.history['val_loss'], label='test')\n",
    "plt.legend()\n",
    "plt.show()"
   ]
  },
  {
   "cell_type": "code",
   "execution_count": 111,
   "metadata": {},
   "outputs": [
    {
     "name": "stdout",
     "output_type": "stream",
     "text": [
      "[[ 0.48185238]\n",
      " [ 0.48293939]\n",
      " [ 0.4826189 ]\n",
      " [ 0.48240712]\n",
      " [ 0.48323339]]\n",
      "[ 0.48185238  0.48293939  0.4826189   0.48240712  0.48323339]\n",
      "[[ 0.48803827]\n",
      " [ 0.40669855]\n",
      " [ 0.35406697]\n",
      " [ 0.56459326]\n",
      " [ 0.5119617 ]] []\n"
     ]
    }
   ],
   "source": [
    "yhat =  model.predict(test_X)\n",
    "test_X = test_X.reshape((test_X.shape[0], test_X.shape[2]))\n",
    "print yhat\n",
    "inv_yhat = concatenate((yhat, test_X[:,1:]), axis=1)\n",
    "\n",
    "#inv_yhat = scaler.inverse_transform(inv_yhat)\n",
    "inv_yhat = inv_yhat[:,0]\n",
    "print inv_yhat\n",
    "test_y = test_y.reshape((len(test_y), 1))\n",
    "print test_y, test_X[:, 1:]\n",
    "inv_y = concatenate((test_y, test_X[:, 1:]), axis =1)\n",
    "#inv_y = scaler.inverse_transform(inv_y)\n",
    "inv_y = inv_y[:,0]"
   ]
  },
  {
   "cell_type": "code",
   "execution_count": 112,
   "metadata": {},
   "outputs": [
    {
     "name": "stdout",
     "output_type": "stream",
     "text": [
      "Test RMSE: 0.077\n"
     ]
    },
    {
     "data": {
      "image/png": "[encoded data removed]",
      "text/plain": [
       "<matplotlib.figure.Figure at 0x7f8d54833d90>"
      ]
     },
     "metadata": {},
     "output_type": "display_data"
    }
   ],
   "source": [
    "rmse = sqrt(mean_squared_error(inv_y, inv_yhat))\n",
    "print('Test RMSE: %.3f' % rmse)\n",
    "plot_results(inv_y, inv_yhat)"
   ]
  },
  {
   "cell_type": "code",
   "execution_count": 114,
   "metadata": {},
   "outputs": [
    {
     "ename": "IndexError",
     "evalue": "tuple index out of range",
     "output_type": "error",
     "traceback": [
      "\u001b[0;31m---------------------------------------------------------------------------\u001b[0m",
      "\u001b[0;31mIndexError\u001b[0m                                Traceback (most recent call last)",
      "\u001b[0;32m<ipython-input-114-1bdba2d096cd>\u001b[0m in \u001b[0;36m<module>\u001b[0;34m()\u001b[0m\n\u001b[1;32m      1\u001b[0m \u001b[0;31m#print test_stock_X\u001b[0m\u001b[0;34m\u001b[0m\u001b[0;34m\u001b[0m\u001b[0m\n\u001b[0;32m----> 2\u001b[0;31m \u001b[0mtest_stock_X\u001b[0m \u001b[0;34m=\u001b[0m \u001b[0mtest_stock_X\u001b[0m\u001b[0;34m.\u001b[0m\u001b[0mreshape\u001b[0m\u001b[0;34m(\u001b[0m\u001b[0;34m(\u001b[0m\u001b[0mtest_stock_X\u001b[0m\u001b[0;34m.\u001b[0m\u001b[0mshape\u001b[0m\u001b[0;34m[\u001b[0m\u001b[0;36m0\u001b[0m\u001b[0;34m]\u001b[0m\u001b[0;34m,\u001b[0m \u001b[0mtest_stock_X\u001b[0m\u001b[0;34m.\u001b[0m\u001b[0mshape\u001b[0m\u001b[0;34m[\u001b[0m\u001b[0;36m2\u001b[0m\u001b[0;34m]\u001b[0m\u001b[0;34m)\u001b[0m\u001b[0;34m)\u001b[0m\u001b[0;34m\u001b[0m\u001b[0m\n\u001b[0m\u001b[1;32m      3\u001b[0m \u001b[0mtest_stock_y\u001b[0m \u001b[0;34m=\u001b[0m \u001b[0mtest_stock_y\u001b[0m\u001b[0;34m.\u001b[0m\u001b[0mreshape\u001b[0m\u001b[0;34m(\u001b[0m\u001b[0;34m(\u001b[0m\u001b[0mlen\u001b[0m\u001b[0;34m(\u001b[0m\u001b[0mtest_stock_y\u001b[0m\u001b[0;34m)\u001b[0m\u001b[0;34m,\u001b[0m \u001b[0;36m1\u001b[0m\u001b[0;34m)\u001b[0m\u001b[0;34m)\u001b[0m\u001b[0;34m\u001b[0m\u001b[0m\n\u001b[1;32m      4\u001b[0m \u001b[0mstock_y\u001b[0m \u001b[0;34m=\u001b[0m \u001b[0mconcatenate\u001b[0m\u001b[0;34m(\u001b[0m\u001b[0;34m(\u001b[0m\u001b[0mtest_stock_y\u001b[0m\u001b[0;34m,\u001b[0m \u001b[0mtest_stock_X\u001b[0m\u001b[0;34m[\u001b[0m\u001b[0;34m:\u001b[0m\u001b[0;34m,\u001b[0m \u001b[0;36m1\u001b[0m\u001b[0;34m:\u001b[0m\u001b[0;34m]\u001b[0m\u001b[0;34m)\u001b[0m\u001b[0;34m,\u001b[0m \u001b[0maxis\u001b[0m \u001b[0;34m=\u001b[0m\u001b[0;36m1\u001b[0m\u001b[0;34m)\u001b[0m\u001b[0;34m\u001b[0m\u001b[0m\n\u001b[1;32m      5\u001b[0m \u001b[0mstock_y\u001b[0m \u001b[0;34m=\u001b[0m \u001b[0mstock_y\u001b[0m\u001b[0;34m[\u001b[0m\u001b[0;34m:\u001b[0m\u001b[0;34m,\u001b[0m\u001b[0;36m0\u001b[0m\u001b[0;34m]\u001b[0m\u001b[0;34m\u001b[0m\u001b[0m\n",
      "\u001b[0;31mIndexError\u001b[0m: tuple index out of range"
     ]
    }
   ],
   "source": [
    "#print test_stock_X\n",
    "test_stock_X = test_stock_X.reshape((test_stock_X.shape[0], test_stock_X.shape[2]))\n",
    "test_stock_y = test_stock_y.reshape((len(test_stock_y), 1))\n",
    "stock_y = concatenate((test_stock_y, test_stock_X[:, 1:]), axis =1)\n",
    "stock_y = stock_y[:,0]\n",
    "#print stock_y\n",
    "#stock_y = stock_y * 0.002\n",
    "print stock_y, inv_yhat\n",
    "rmse = sqrt(mean_squared_error(stock_y, inv_yhat))\n",
    "print('Test RMSE: %.3f' % rmse)\n",
    "plot_results(stock_y, inv_yhat)"
   ]
  },
  {
   "cell_type": "code",
   "execution_count": 95,
   "metadata": {},
   "outputs": [
    {
     "name": "stdout",
     "output_type": "stream",
     "text": [
      "[ 306.  277.  278.  273.  264.] [ 0.56234336  0.52346462  0.52486587  0.51781529  0.50484419]\n",
      "Test RMSE: 279.428\n"
     ]
    },
    {
     "data": {
      "image/png": "[encoded data removed]",
      "text/plain": [
       "<matplotlib.figure.Figure at 0x7f8d55b0fed0>"
      ]
     },
     "metadata": {},
     "output_type": "display_data"
    }
   ],
   "source": []
  },
  {
   "cell_type": "code",
   "execution_count": null,
   "metadata": {
    "collapsed": true
   },
   "outputs": [],
   "source": []
  },
  {
   "cell_type": "code",
   "execution_count": null,
   "metadata": {
    "collapsed": true
   },
   "outputs": [],
   "source": []
  }
 ],
 "metadata": {
  "kernelspec": {
   "display_name": "Python 2",
   "language": "python",
   "name": "python2"
  },
  "language_info": {
   "codemirror_mode": {
    "name": "ipython",
    "version": 2
   },
   "file_extension": ".py",
   "mimetype": "text/x-python",
   "name": "python",
   "nbconvert_exporter": "python",
   "pygments_lexer": "ipython2",
   "version": "2.7.12"
  }
 },
 "nbformat": 4,
 "nbformat_minor": 2
}
